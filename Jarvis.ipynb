{
 "cells": [
  {
   "cell_type": "markdown",
   "metadata": {},
   "source": [
    "# Gesture Recognition\n",
    "In this group project, you are going to build a 3D Conv model that will be able to predict the 5 gestures correctly. Please import the following libraries to get started."
   ]
  },
  {
   "cell_type": "code",
   "execution_count": 1,
   "metadata": {},
   "outputs": [],
   "source": [
    "# Install imageio for imread as imread from scipy.misc is deprecated\n",
    "\n",
    "# !pip install imageio\n",
    "# # !pip install opencv-python\n",
    "# !pip install scikit-image"
   ]
  },
  {
   "cell_type": "code",
   "execution_count": 2,
   "metadata": {},
   "outputs": [],
   "source": [
    "import numpy as np\n",
    "import os\n",
    "\n",
    "# following in deprecated:\n",
    "# from scipy.misc import imread, imresize\n",
    "from imageio import imread\n",
    "from skimage.transform import resize\n",
    "# from PIL import Image\n",
    "#import cv2\n",
    "\n",
    "import datetime\n",
    "import os\n",
    "\n",
    "import matplotlib.pyplot as plt\n",
    "%matplotlib inline"
   ]
  },
  {
   "cell_type": "code",
   "execution_count": 3,
   "metadata": {},
   "outputs": [],
   "source": [
    "#ignore warnings\n",
    "import warnings\n",
    "warnings.filterwarnings(\"ignore\")"
   ]
  },
  {
   "cell_type": "markdown",
   "metadata": {},
   "source": [
    "We set the random seed so that the results don't vary drastically."
   ]
  },
  {
   "cell_type": "code",
   "execution_count": 4,
   "metadata": {},
   "outputs": [],
   "source": [
    "np.random.seed(30)\n",
    "import random as rn\n",
    "rn.seed(30)\n",
    "from tensorflow import keras\n",
    "import tensorflow as tf\n",
    "\n",
    "# set_random_seed is deprecated.\n",
    "# tf.set_random_seed(30)\n",
    "tf.random.set_seed(30)"
   ]
  },
  {
   "cell_type": "markdown",
   "metadata": {},
   "source": [
    "In this block, you read the folder names for training and validation. You also set the `batch_size` here. Note that you set the batch size in such a way that you are able to use the GPU in full capacity. You keep increasing the batch size until the machine throws an error."
   ]
  },
  {
   "cell_type": "code",
   "execution_count": 5,
   "metadata": {},
   "outputs": [],
   "source": [
    "# train_doc = np.random.permutation(open('/notebooks/storage/Final_data/Collated_training/train.csv').readlines())\n",
    "# val_doc = np.random.permutation(open('/notebooks/storage/Final_data/Collated_training/val.csv').readlines())\n",
    "\n",
    "train_doc = np.random.permutation(open('/datasets/Project_data/train.csv').readlines())\n",
    "val_doc = np.random.permutation(open('/datasets/Project_data/val.csv').readlines())\n",
    "\n",
    "#hyperparameters\n",
    "batch_size = 64 #experiment with the batch size\n",
    "image_height = 160\n",
    "image_width = 160"
   ]
  },
  {
   "cell_type": "markdown",
   "metadata": {},
   "source": [
    "## Generator\n",
    "This is one of the most important part of the code. The overall structure of the generator has been given. In the generator, you are going to preprocess the images as you have images of 2 different dimensions as well as create a batch of video frames. You have to experiment with `img_idx`, `y`,`z` and normalization such that you get high accuracy."
   ]
  },
  {
   "cell_type": "code",
   "execution_count": 6,
   "metadata": {},
   "outputs": [],
   "source": [
    "def generator(source_path, folder_list, batch_size,img_height=160, img_width=160):\n",
    "    print( 'Source path = ', source_path, '; batch size =', batch_size)\n",
    "    img_idx = np.round(np.linspace(0, 29, 30)).astype(int) #list of image numbers for video.\n",
    "    while True:\n",
    "        t = np.random.permutation(folder_list)\n",
    "        if len(t) % batch_size == 0: # if divisible by batch_size\n",
    "            num_batches = int(len(t)/batch_size)\n",
    "            last_batch_size = 0\n",
    "        else:  #if not divisible by batch_size\n",
    "            num_batches = len(t) // batch_size\n",
    "            last_batch_size = len(t) % batch_size #surplus in the last batch\n",
    "        \n",
    "        for batch in range(num_batches): # we iterate over the number of batches\n",
    "            batch_data = np.zeros((batch_size,len(img_idx),img_height,img_width,3)) # x is the number of images you use for each video, (y,z) is the final size of the input images and 3 is the number of channels RGB\n",
    "            batch_labels = np.zeros((batch_size,5)) # batch_labels is the one hot representation of the output\n",
    "            for folder in range(batch_size): # iterate over the batch_size\n",
    "                imgs = os.listdir(source_path+'/'+ t[folder + (batch*batch_size)].split(';')[0]) # read all the images in the folder\n",
    "                for idx,item in enumerate(img_idx): #  Iterate iver the frames/images of a folder to read them in\n",
    "                    image = imread(source_path+'/'+ t[folder + (batch*batch_size)].strip().split(';')[0]+'/'+imgs[item]).astype(np.float32)\n",
    "                    \n",
    "                    #crop the images and resize them. Note that the images are of 2 different shape \n",
    "                    #and the conv3D will throw error if the inputs in a batch have different shapes\n",
    "                    resized_image = resize(image,(img_height,img_width))\n",
    "                    \n",
    "                    batch_data[folder,idx,:,:,0] = (resized_image[:,:,0])/255\n",
    "                    batch_data[folder,idx,:,:,1] = (resized_image[:,:,1])/255\n",
    "                    batch_data[folder,idx,:,:,2] = (resized_image[:,:,2])/255\n",
    "                    \n",
    "                batch_labels[folder, int(t[folder + (batch*batch_size)].strip().split(';')[2])] = 1\n",
    "            yield batch_data, batch_labels #you yield the batch_data and the batch_labels, remember what does yield do\n",
    "\n",
    "        \n",
    "        # write the code for the remaining data points which are left after full batches\n",
    "        if len(t) % batch_size != 0: # if not divisible by batch_size\n",
    "            batch_data = np.zeros((last_batch_size,len(img_idx),img_height,img_width,3)) # x is the number of images you use for each video, (y,z) is the final size of the input images and 3 is the number of channels RGB\n",
    "            batch_labels = np.zeros((last_batch_size,5)) # batch_labels is the one hot representation of the output\n",
    "            for folder in range(last_batch_size): # iterate over the batch_size\n",
    "                imgs = os.listdir(source_path+'/'+ t[folder + (batch*last_batch_size)].split(';')[0]) # read all the images in the folder\n",
    "                for idx,item in enumerate(img_idx): #  Iterate iver the frames/images of a folder to read them in\n",
    "                    image = imread(source_path+'/'+ t[folder + (batch*last_batch_size)].strip().split(';')[0]+'/'+imgs[item]).astype(np.float32)\n",
    "                    resized_image = resize(image,(img_height,img_width))\n",
    "\n",
    "                    batch_data[folder,idx,:,:,0] = (resized_image[:,:,0])/255\n",
    "                    batch_data[folder,idx,:,:,1] = (resized_image[:,:,1])/255\n",
    "                    batch_data[folder,idx,:,:,2] = (resized_image[:,:,2])/255\n",
    "\n",
    "                batch_labels[folder, int(t[folder + (batch*batch_size)].strip().split(';')[2])] = 1\n",
    "            yield batch_data, batch_labels\n"
   ]
  },
  {
   "cell_type": "markdown",
   "metadata": {},
   "source": [
    "Note here that a video is represented above in the generator as (number of images, height, width, number of channels). Take this into consideration while creating the model architecture."
   ]
  },
  {
   "cell_type": "code",
   "execution_count": 7,
   "metadata": {},
   "outputs": [
    {
     "name": "stdout",
     "output_type": "stream",
     "text": [
      "# training sequences = 663\n",
      "# validation sequences = 100\n",
      "# epochs = 20\n"
     ]
    }
   ],
   "source": [
    "curr_dt_time = datetime.datetime.now()\n",
    "# train_path = '/notebooks/storage/Final_data/Collated_training/train'\n",
    "# val_path = '/notebooks/storage/Final_data/Collated_training/val'\n",
    "train_path = '/datasets/Project_data/train'\n",
    "val_path = '/datasets/Project_data/val'\n",
    "num_train_sequences = len(train_doc)\n",
    "print('# training sequences =', num_train_sequences)\n",
    "num_val_sequences = len(val_doc)\n",
    "print('# validation sequences =', num_val_sequences)\n",
    "num_epochs = 20# choose the number of epochs\n",
    "print ('# epochs =', num_epochs)"
   ]
  },
  {
   "cell_type": "markdown",
   "metadata": {},
   "source": [
    "# Model 1 - Conv3D\n",
    "## Batch size = 64, No. of Epochs  = 20"
   ]
  },
  {
   "cell_type": "markdown",
   "metadata": {},
   "source": [
    "Here you make the model using different functionalities that Keras provides. Remember to use `Conv3D` and `MaxPooling3D` and not `Conv2D` and `Maxpooling2D` for a 3D convolution model. You would want to use `TimeDistributed` while building a Conv2D + RNN model. Also remember that the last layer is the softmax. Design the network in such a way that the model is able to give good accuracy on the least number of parameters so that it can fit in the memory of the webcam."
   ]
  },
  {
   "cell_type": "code",
   "execution_count": 8,
   "metadata": {},
   "outputs": [],
   "source": [
    "from tensorflow.keras.models import Sequential, Model\n",
    "from tensorflow.keras.layers import Dense, GRU, Flatten, TimeDistributed, Flatten, BatchNormalization, Activation, Dropout\n",
    "from tensorflow.keras.layers import Conv3D, MaxPooling3D, Conv2D, MaxPooling2D\n",
    "from tensorflow.keras.layers import GRU\n",
    "from tensorflow.keras.callbacks import ModelCheckpoint, ReduceLROnPlateau\n",
    "from tensorflow.keras import optimizers"
   ]
  },
  {
   "cell_type": "code",
   "execution_count": 9,
   "metadata": {},
   "outputs": [],
   "source": [
    "# Conv3D model\n",
    "model = Sequential()\n",
    "model.add(Conv3D(16, (3,3,3), # filters, kernel size\n",
    "                 padding = 'same', \n",
    "                 input_shape = (30,image_height,image_width,3))) #frames to sample, height, weight, channels\n",
    "model.add(Activation('relu'))\n",
    "model.add(BatchNormalization())\n",
    "model.add(MaxPooling3D(pool_size=(2,2,2)))\n",
    "\n",
    "model.add(Conv3D(32, (2, 2, 2), padding='same'))\n",
    "model.add(Activation('relu'))\n",
    "model.add(BatchNormalization())\n",
    "model.add(MaxPooling3D(pool_size=(2, 2, 2)))\n",
    "\n",
    "model.add(Conv3D(64, (2, 2, 2), padding='same'))\n",
    "model.add(Activation('relu'))\n",
    "model.add(BatchNormalization())\n",
    "model.add(MaxPooling3D(pool_size=(2, 2, 2)))\n",
    "\n",
    "model.add(Flatten())\n",
    "model.add(Dense(64,activation='relu'))\n",
    "model.add(BatchNormalization())\n",
    "model.add(Dropout(0.5))\n",
    "\n",
    "model.add(Dense(64,activation='relu'))\n",
    "model.add(BatchNormalization())\n",
    "model.add(Dropout(0.25))\n",
    "model.add(Dense(5,activation='softmax'))"
   ]
  },
  {
   "cell_type": "markdown",
   "metadata": {},
   "source": [
    "Now that you have written the model, the next step is to `compile` the model. When you print the `summary` of the model, you'll see the total number of parameters you have to train."
   ]
  },
  {
   "cell_type": "code",
   "execution_count": 10,
   "metadata": {
    "scrolled": true
   },
   "outputs": [
    {
     "name": "stdout",
     "output_type": "stream",
     "text": [
      "Model: \"sequential\"\n",
      "_________________________________________________________________\n",
      "Layer (type)                 Output Shape              Param #   \n",
      "=================================================================\n",
      "conv3d (Conv3D)              (None, 30, 160, 160, 16)  1312      \n",
      "_________________________________________________________________\n",
      "activation (Activation)      (None, 30, 160, 160, 16)  0         \n",
      "_________________________________________________________________\n",
      "batch_normalization (BatchNo (None, 30, 160, 160, 16)  64        \n",
      "_________________________________________________________________\n",
      "max_pooling3d (MaxPooling3D) (None, 15, 80, 80, 16)    0         \n",
      "_________________________________________________________________\n",
      "conv3d_1 (Conv3D)            (None, 15, 80, 80, 32)    4128      \n",
      "_________________________________________________________________\n",
      "activation_1 (Activation)    (None, 15, 80, 80, 32)    0         \n",
      "_________________________________________________________________\n",
      "batch_normalization_1 (Batch (None, 15, 80, 80, 32)    128       \n",
      "_________________________________________________________________\n",
      "max_pooling3d_1 (MaxPooling3 (None, 7, 40, 40, 32)     0         \n",
      "_________________________________________________________________\n",
      "conv3d_2 (Conv3D)            (None, 7, 40, 40, 64)     16448     \n",
      "_________________________________________________________________\n",
      "activation_2 (Activation)    (None, 7, 40, 40, 64)     0         \n",
      "_________________________________________________________________\n",
      "batch_normalization_2 (Batch (None, 7, 40, 40, 64)     256       \n",
      "_________________________________________________________________\n",
      "max_pooling3d_2 (MaxPooling3 (None, 3, 20, 20, 64)     0         \n",
      "_________________________________________________________________\n",
      "flatten (Flatten)            (None, 76800)             0         \n",
      "_________________________________________________________________\n",
      "dense (Dense)                (None, 64)                4915264   \n",
      "_________________________________________________________________\n",
      "batch_normalization_3 (Batch (None, 64)                256       \n",
      "_________________________________________________________________\n",
      "dropout (Dropout)            (None, 64)                0         \n",
      "_________________________________________________________________\n",
      "dense_1 (Dense)              (None, 64)                4160      \n",
      "_________________________________________________________________\n",
      "batch_normalization_4 (Batch (None, 64)                256       \n",
      "_________________________________________________________________\n",
      "dropout_1 (Dropout)          (None, 64)                0         \n",
      "_________________________________________________________________\n",
      "dense_2 (Dense)              (None, 5)                 325       \n",
      "=================================================================\n",
      "Total params: 4,942,597\n",
      "Trainable params: 4,942,117\n",
      "Non-trainable params: 480\n",
      "_________________________________________________________________\n",
      "None\n"
     ]
    }
   ],
   "source": [
    "def compile_and_summarize(learning_rate = 0.01): \n",
    "    model.compile(optimizer=tf.keras.optimizers.Adam(lr=learning_rate),\n",
    "                  loss='categorical_crossentropy',\n",
    "                  metrics=['categorical_accuracy'])\n",
    "    print (model.summary())\n",
    "\n",
    "compile_and_summarize()"
   ]
  },
  {
   "cell_type": "markdown",
   "metadata": {},
   "source": [
    "Let us create the `train_generator` and the `val_generator` which will be used in `.fit_generator`."
   ]
  },
  {
   "cell_type": "code",
   "execution_count": 11,
   "metadata": {},
   "outputs": [],
   "source": [
    "train_generator = generator(train_path, train_doc, batch_size)\n",
    "val_generator = generator(val_path, val_doc, batch_size)"
   ]
  },
  {
   "cell_type": "code",
   "execution_count": 12,
   "metadata": {},
   "outputs": [
    {
     "name": "stdout",
     "output_type": "stream",
     "text": [
      "Initializing model checkpoints\n",
      "WARNING:tensorflow:`period` argument is deprecated. Please use `save_freq` to specify the frequency in number of batches seen.\n"
     ]
    }
   ],
   "source": [
    "def model_checkpoints(model_prefix = 'model_init'):\n",
    "    print('Initializing model checkpoints')\n",
    "    model_name = model_prefix + '_' + str(curr_dt_time).replace(' ','').replace(':','_') + '/'\n",
    "\n",
    "    if not os.path.exists(model_name):\n",
    "        os.mkdir(model_name)\n",
    "\n",
    "    filepath = model_name + 'model-{epoch:05d}-{loss:.5f}-{categorical_accuracy:.5f}-{val_loss:.5f}-{val_categorical_accuracy:.5f}.h5'\n",
    "\n",
    "    checkpoint = ModelCheckpoint(filepath, monitor='val_loss', verbose=1, save_best_only=False, save_weights_only=False, mode='auto', period=1)\n",
    "\n",
    "    #reduce learning rate when val_loss has stopped improving.\n",
    "    #monitor -> metric to monitor\n",
    "    #verbose -> prints message to stdout\n",
    "    #patience -> number of epochs with no imporvement after which learning rate is reduced\n",
    "    #factor -> factor by which learning rate is reduced.\n",
    "    LR = ReduceLROnPlateau(monitor='val_loss', factor= 0.2, verbose=1,patience=5)\n",
    "    callbacks_list = [checkpoint, LR]\n",
    "    return callbacks_list\n",
    "\n",
    "callbacks_list = model_checkpoints()"
   ]
  },
  {
   "cell_type": "markdown",
   "metadata": {},
   "source": [
    "The `steps_per_epoch` and `validation_steps` are used by `fit_generator` to decide the number of next() calls it need to make."
   ]
  },
  {
   "cell_type": "code",
   "execution_count": 13,
   "metadata": {},
   "outputs": [
    {
     "name": "stdout",
     "output_type": "stream",
     "text": [
      "Calculating steps per epoch and validation steps\n"
     ]
    }
   ],
   "source": [
    "def calc_steps_per_epoch(btch_size=64):\n",
    "    print('Calculating steps per epoch and validation steps')\n",
    "    if (num_train_sequences%btch_size) == 0:\n",
    "        steps_per_epoch = int(num_train_sequences/btch_size)\n",
    "    else:\n",
    "        steps_per_epoch = (num_train_sequences//btch_size) + 1\n",
    "    return steps_per_epoch\n",
    "\n",
    "def calc_validation_steps(btch_size=64):\n",
    "    if (num_val_sequences%btch_size) == 0:\n",
    "        validation_steps = int(num_val_sequences/btch_size)\n",
    "    else:\n",
    "        validation_steps = (num_val_sequences//btch_size) + 1\n",
    "    return validation_steps\n",
    "\n",
    "steps_per_epoch = calc_steps_per_epoch(batch_size)\n",
    "validation_steps = calc_validation_steps(batch_size)"
   ]
  },
  {
   "cell_type": "markdown",
   "metadata": {},
   "source": [
    "Let us now fit the model. This will start training the model and with the help of the checkpoints, you'll be able to save the model at the end of each epoch."
   ]
  },
  {
   "cell_type": "code",
   "execution_count": 14,
   "metadata": {},
   "outputs": [],
   "source": [
    "# history = model.fit_generator(train_generator, steps_per_epoch=steps_per_epoch, epochs=num_epochs, verbose=1, \n",
    "#                     callbacks=callbacks_list, validation_data=val_generator, \n",
    "#                     validation_steps=validation_steps, class_weight=None, workers=1, initial_epoch=0)"
   ]
  },
  {
   "cell_type": "code",
   "execution_count": 15,
   "metadata": {},
   "outputs": [],
   "source": [
    "def train_val_loss_plot(history):\n",
    "    fig, axes = plt.subplots(nrows=1, ncols=2, figsize=(15,4))\n",
    "    axes[0].plot(history.history['loss'])   \n",
    "    axes[0].plot(history.history['val_loss'])\n",
    "    axes[0].legend(['loss','val_loss'])\n",
    "\n",
    "    axes[1].plot(history.history['categorical_accuracy'])   \n",
    "    axes[1].plot(history.history['val_categorical_accuracy'])\n",
    "    axes[1].legend(['categorical_accuracy','val_categorical_accuracy'])\n",
    "\n",
    "# train_val_loss_plot(history)"
   ]
  },
  {
   "cell_type": "markdown",
   "metadata": {},
   "source": [
    "<font color='blue'>\n",
    "    The above graph shows this model to be overfitted as the training loss is low while the validation loss is high. Accuracy is also not as high as expected. We can try with a more complex model to increase the training accuracy and change the dropout to reduce overfitting.\n",
    "    </font>"
   ]
  },
  {
   "cell_type": "markdown",
   "metadata": {},
   "source": [
    "# Model 2"
   ]
  },
  {
   "cell_type": "code",
   "execution_count": 39,
   "metadata": {},
   "outputs": [],
   "source": [
    "# Conv3D model2\n",
    "model = Sequential()\n",
    "model.add(Conv3D(16, (3,3,3), # filters, kernel size\n",
    "                 padding = 'same', \n",
    "                 input_shape = (30,image_height,image_width,3))) #frames to sample, height, weight, channels\n",
    "model.add(Activation('relu'))\n",
    "model.add(BatchNormalization())\n",
    "model.add(MaxPooling3D(pool_size=(2,2,2)))\n",
    "\n",
    "model.add(Conv3D(32, (2,2,2), padding='same'))\n",
    "model.add(Activation('relu'))\n",
    "model.add(BatchNormalization())\n",
    "model.add(MaxPooling3D(pool_size=(2, 2, 2)))\n",
    "\n",
    "model.add(Conv3D(128, (2,2,2), padding='same'))\n",
    "model.add(Activation('relu'))\n",
    "model.add(BatchNormalization())\n",
    "model.add(MaxPooling3D(pool_size=(2,2,2)))\n",
    "\n",
    "model.add(Conv3D(256, (2,2,2), padding='same'))\n",
    "model.add(Activation('relu'))\n",
    "model.add(BatchNormalization())\n",
    "model.add(MaxPooling3D(pool_size=(2,2,2)))\n",
    "\n",
    "model.add(Flatten())\n",
    "model.add(Dense(128,activation='relu'))\n",
    "model.add(BatchNormalization())\n",
    "model.add(Dropout(0.5))\n",
    "\n",
    "model.add(Dense(128,activation='relu'))\n",
    "model.add(BatchNormalization())\n",
    "model.add(Dropout(0.5))\n",
    "\n",
    "model.add(Dense(5,activation='softmax'))"
   ]
  },
  {
   "cell_type": "code",
   "execution_count": 40,
   "metadata": {
    "scrolled": true
   },
   "outputs": [
    {
     "name": "stdout",
     "output_type": "stream",
     "text": [
      "Model: \"sequential_1\"\n",
      "_________________________________________________________________\n",
      "Layer (type)                 Output Shape              Param #   \n",
      "=================================================================\n",
      "conv3d_3 (Conv3D)            (None, 30, 160, 160, 16)  1312      \n",
      "_________________________________________________________________\n",
      "activation_3 (Activation)    (None, 30, 160, 160, 16)  0         \n",
      "_________________________________________________________________\n",
      "batch_normalization_5 (Batch (None, 30, 160, 160, 16)  64        \n",
      "_________________________________________________________________\n",
      "max_pooling3d_3 (MaxPooling3 (None, 15, 80, 80, 16)    0         \n",
      "_________________________________________________________________\n",
      "conv3d_4 (Conv3D)            (None, 15, 80, 80, 32)    4128      \n",
      "_________________________________________________________________\n",
      "activation_4 (Activation)    (None, 15, 80, 80, 32)    0         \n",
      "_________________________________________________________________\n",
      "batch_normalization_6 (Batch (None, 15, 80, 80, 32)    128       \n",
      "_________________________________________________________________\n",
      "max_pooling3d_4 (MaxPooling3 (None, 7, 40, 40, 32)     0         \n",
      "_________________________________________________________________\n",
      "conv3d_5 (Conv3D)            (None, 7, 40, 40, 128)    32896     \n",
      "_________________________________________________________________\n",
      "activation_5 (Activation)    (None, 7, 40, 40, 128)    0         \n",
      "_________________________________________________________________\n",
      "batch_normalization_7 (Batch (None, 7, 40, 40, 128)    512       \n",
      "_________________________________________________________________\n",
      "max_pooling3d_5 (MaxPooling3 (None, 3, 20, 20, 128)    0         \n",
      "_________________________________________________________________\n",
      "conv3d_6 (Conv3D)            (None, 3, 20, 20, 256)    262400    \n",
      "_________________________________________________________________\n",
      "activation_6 (Activation)    (None, 3, 20, 20, 256)    0         \n",
      "_________________________________________________________________\n",
      "batch_normalization_8 (Batch (None, 3, 20, 20, 256)    1024      \n",
      "_________________________________________________________________\n",
      "max_pooling3d_6 (MaxPooling3 (None, 1, 10, 10, 256)    0         \n",
      "_________________________________________________________________\n",
      "flatten_1 (Flatten)          (None, 25600)             0         \n",
      "_________________________________________________________________\n",
      "dense_3 (Dense)              (None, 128)               3276928   \n",
      "_________________________________________________________________\n",
      "batch_normalization_9 (Batch (None, 128)               512       \n",
      "_________________________________________________________________\n",
      "dropout_2 (Dropout)          (None, 128)               0         \n",
      "_________________________________________________________________\n",
      "dense_4 (Dense)              (None, 128)               16512     \n",
      "_________________________________________________________________\n",
      "batch_normalization_10 (Batc (None, 128)               512       \n",
      "_________________________________________________________________\n",
      "dropout_3 (Dropout)          (None, 128)               0         \n",
      "_________________________________________________________________\n",
      "dense_5 (Dense)              (None, 5)                 645       \n",
      "=================================================================\n",
      "Total params: 3,597,573\n",
      "Trainable params: 3,596,197\n",
      "Non-trainable params: 1,376\n",
      "_________________________________________________________________\n",
      "None\n",
      "Initializing model checkpoints\n",
      "WARNING:tensorflow:`period` argument is deprecated. Please use `save_freq` to specify the frequency in number of batches seen.\n",
      "Calculating steps per epoch and validation steps\n"
     ]
    }
   ],
   "source": [
    "batch_size=32\n",
    "\n",
    "compile_and_summarize()\n",
    "\n",
    "train_generator = generator(train_path, train_doc, batch_size)\n",
    "val_generator = generator(val_path, val_doc, batch_size)\n",
    "\n",
    "callbacks_list = model_checkpoints('model_init2')\n",
    "\n",
    "steps_per_epoch = calc_steps_per_epoch(batch_size)\n",
    "validation_steps = calc_validation_steps(batch_size)"
   ]
  },
  {
   "cell_type": "code",
   "execution_count": 52,
   "metadata": {
    "scrolled": true
   },
   "outputs": [
    {
     "name": "stdout",
     "output_type": "stream",
     "text": [
      "Source path =  /datasets/Project_data/train ; batch size = 32\n",
      "Epoch 1/20\n",
      "21/21 [==============================] - ETA: 0s - loss: 1.8855 - categorical_accuracy: 0.3816Source path =  /datasets/Project_data/val ; batch size = 32\n",
      "\n",
      "Epoch 00001: saving model to model_init2_2021-10-2309_58_36.403853/model-00001-1.88553-0.38160-510.13156-0.21000.h5\n",
      "21/21 [==============================] - 172s 8s/step - loss: 1.8855 - categorical_accuracy: 0.3816 - val_loss: 510.1316 - val_categorical_accuracy: 0.2100\n",
      "Epoch 2/20\n",
      "21/21 [==============================] - ETA: 0s - loss: 1.3919 - categorical_accuracy: 0.4872\n",
      "Epoch 00002: saving model to model_init2_2021-10-2309_58_36.403853/model-00002-1.39189-0.48718-151.21103-0.19000.h5\n",
      "21/21 [==============================] - 170s 8s/step - loss: 1.3919 - categorical_accuracy: 0.4872 - val_loss: 151.2110 - val_categorical_accuracy: 0.1900\n",
      "Epoch 3/20\n",
      "21/21 [==============================] - ETA: 0s - loss: 1.1103 - categorical_accuracy: 0.5732\n",
      "Epoch 00003: saving model to model_init2_2021-10-2309_58_36.403853/model-00003-1.11032-0.57315-40.72122-0.27000.h5\n",
      "21/21 [==============================] - 172s 8s/step - loss: 1.1103 - categorical_accuracy: 0.5732 - val_loss: 40.7212 - val_categorical_accuracy: 0.2700\n",
      "Epoch 4/20\n",
      "21/21 [==============================] - ETA: 0s - loss: 0.9377 - categorical_accuracy: 0.6456\n",
      "Epoch 00004: saving model to model_init2_2021-10-2309_58_36.403853/model-00004-0.93771-0.64555-9.97868-0.23000.h5\n",
      "21/21 [==============================] - 163s 8s/step - loss: 0.9377 - categorical_accuracy: 0.6456 - val_loss: 9.9787 - val_categorical_accuracy: 0.2300\n",
      "Epoch 5/20\n",
      "21/21 [==============================] - ETA: 0s - loss: 0.9650 - categorical_accuracy: 0.6712\n",
      "Epoch 00005: saving model to model_init2_2021-10-2309_58_36.403853/model-00005-0.96500-0.67119-10.83975-0.23000.h5\n",
      "21/21 [==============================] - 170s 8s/step - loss: 0.9650 - categorical_accuracy: 0.6712 - val_loss: 10.8398 - val_categorical_accuracy: 0.2300\n",
      "Epoch 6/20\n",
      "21/21 [==============================] - ETA: 0s - loss: 0.7982 - categorical_accuracy: 0.7300\n",
      "Epoch 00006: saving model to model_init2_2021-10-2309_58_36.403853/model-00006-0.79815-0.73002-3.34841-0.24000.h5\n",
      "21/21 [==============================] - 172s 8s/step - loss: 0.7982 - categorical_accuracy: 0.7300 - val_loss: 3.3484 - val_categorical_accuracy: 0.2400\n",
      "Epoch 7/20\n",
      "21/21 [==============================] - ETA: 0s - loss: 0.6317 - categorical_accuracy: 0.7919\n",
      "Epoch 00007: saving model to model_init2_2021-10-2309_58_36.403853/model-00007-0.63165-0.79186-2.61050-0.32000.h5\n",
      "21/21 [==============================] - 173s 8s/step - loss: 0.6317 - categorical_accuracy: 0.7919 - val_loss: 2.6105 - val_categorical_accuracy: 0.3200\n",
      "Epoch 8/20\n",
      "21/21 [==============================] - ETA: 0s - loss: 0.6431 - categorical_accuracy: 0.7768\n",
      "Epoch 00008: saving model to model_init2_2021-10-2309_58_36.403853/model-00008-0.64313-0.77677-2.57091-0.38000.h5\n",
      "21/21 [==============================] - 164s 8s/step - loss: 0.6431 - categorical_accuracy: 0.7768 - val_loss: 2.5709 - val_categorical_accuracy: 0.3800\n",
      "Epoch 9/20\n",
      "21/21 [==============================] - ETA: 0s - loss: 0.5764 - categorical_accuracy: 0.8281\n",
      "Epoch 00009: saving model to model_init2_2021-10-2309_58_36.403853/model-00009-0.57643-0.82805-3.38323-0.32000.h5\n",
      "21/21 [==============================] - 168s 8s/step - loss: 0.5764 - categorical_accuracy: 0.8281 - val_loss: 3.3832 - val_categorical_accuracy: 0.3200\n",
      "Epoch 10/20\n",
      "21/21 [==============================] - ETA: 0s - loss: 0.5766 - categorical_accuracy: 0.8220\n",
      "Epoch 00010: saving model to model_init2_2021-10-2309_58_36.403853/model-00010-0.57659-0.82202-2.54613-0.37000.h5\n",
      "21/21 [==============================] - 170s 8s/step - loss: 0.5766 - categorical_accuracy: 0.8220 - val_loss: 2.5461 - val_categorical_accuracy: 0.3700\n",
      "Epoch 11/20\n",
      "21/21 [==============================] - ETA: 0s - loss: 0.4921 - categorical_accuracy: 0.8492\n",
      "Epoch 00011: saving model to model_init2_2021-10-2309_58_36.403853/model-00011-0.49209-0.84917-3.88894-0.34000.h5\n",
      "21/21 [==============================] - 170s 8s/step - loss: 0.4921 - categorical_accuracy: 0.8492 - val_loss: 3.8889 - val_categorical_accuracy: 0.3400\n",
      "Epoch 12/20\n",
      "21/21 [==============================] - ETA: 0s - loss: 0.4940 - categorical_accuracy: 0.8673\n",
      "Epoch 00012: saving model to model_init2_2021-10-2309_58_36.403853/model-00012-0.49403-0.86727-4.15504-0.31000.h5\n",
      "21/21 [==============================] - 162s 8s/step - loss: 0.4940 - categorical_accuracy: 0.8673 - val_loss: 4.1550 - val_categorical_accuracy: 0.3100\n",
      "Epoch 13/20\n",
      "21/21 [==============================] - ETA: 0s - loss: 0.4592 - categorical_accuracy: 0.8839\n",
      "Epoch 00013: saving model to model_init2_2021-10-2309_58_36.403853/model-00013-0.45917-0.88386-2.30211-0.44000.h5\n",
      "21/21 [==============================] - 169s 8s/step - loss: 0.4592 - categorical_accuracy: 0.8839 - val_loss: 2.3021 - val_categorical_accuracy: 0.4400\n",
      "Epoch 14/20\n",
      "21/21 [==============================] - ETA: 0s - loss: 0.4150 - categorical_accuracy: 0.8899\n",
      "Epoch 00014: saving model to model_init2_2021-10-2309_58_36.403853/model-00014-0.41500-0.88989-9.16751-0.24000.h5\n",
      "21/21 [==============================] - 170s 8s/step - loss: 0.4150 - categorical_accuracy: 0.8899 - val_loss: 9.1675 - val_categorical_accuracy: 0.2400\n",
      "Epoch 15/20\n",
      "21/21 [==============================] - ETA: 0s - loss: 0.4681 - categorical_accuracy: 0.8597\n",
      "Epoch 00015: saving model to model_init2_2021-10-2309_58_36.403853/model-00015-0.46806-0.85973-1.34303-0.62000.h5\n",
      "21/21 [==============================] - 172s 8s/step - loss: 0.4681 - categorical_accuracy: 0.8597 - val_loss: 1.3430 - val_categorical_accuracy: 0.6200\n",
      "Epoch 16/20\n",
      "21/21 [==============================] - ETA: 0s - loss: 0.4560 - categorical_accuracy: 0.8733\n",
      "Epoch 00016: saving model to model_init2_2021-10-2309_58_36.403853/model-00016-0.45602-0.87330-1.83336-0.52000.h5\n",
      "21/21 [==============================] - 165s 8s/step - loss: 0.4560 - categorical_accuracy: 0.8733 - val_loss: 1.8334 - val_categorical_accuracy: 0.5200\n",
      "Epoch 17/20\n",
      "21/21 [==============================] - ETA: 0s - loss: 0.4581 - categorical_accuracy: 0.8869\n",
      "Epoch 00017: saving model to model_init2_2021-10-2309_58_36.403853/model-00017-0.45812-0.88688-1.86138-0.45000.h5\n",
      "21/21 [==============================] - 169s 8s/step - loss: 0.4581 - categorical_accuracy: 0.8869 - val_loss: 1.8614 - val_categorical_accuracy: 0.4500\n",
      "Epoch 18/20\n",
      "21/21 [==============================] - ETA: 0s - loss: 0.3889 - categorical_accuracy: 0.9020\n",
      "Epoch 00018: saving model to model_init2_2021-10-2309_58_36.403853/model-00018-0.38887-0.90196-0.88378-0.72000.h5\n",
      "21/21 [==============================] - 170s 8s/step - loss: 0.3889 - categorical_accuracy: 0.9020 - val_loss: 0.8838 - val_categorical_accuracy: 0.7200\n",
      "Epoch 19/20\n",
      "21/21 [==============================] - ETA: 0s - loss: 0.4337 - categorical_accuracy: 0.9110\n",
      "Epoch 00019: saving model to model_init2_2021-10-2309_58_36.403853/model-00019-0.43366-0.91101-0.76063-0.73000.h5\n",
      "21/21 [==============================] - 173s 8s/step - loss: 0.4337 - categorical_accuracy: 0.9110 - val_loss: 0.7606 - val_categorical_accuracy: 0.7300\n",
      "Epoch 20/20\n",
      "21/21 [==============================] - ETA: 0s - loss: 0.3486 - categorical_accuracy: 0.9125\n",
      "Epoch 00020: saving model to model_init2_2021-10-2309_58_36.403853/model-00020-0.34856-0.91252-3.73718-0.28000.h5\n",
      "21/21 [==============================] - 165s 8s/step - loss: 0.3486 - categorical_accuracy: 0.9125 - val_loss: 3.7372 - val_categorical_accuracy: 0.2800\n"
     ]
    }
   ],
   "source": [
    "history2 = model.fit_generator(train_generator, steps_per_epoch=steps_per_epoch, epochs=num_epochs, verbose=1, \n",
    "                    callbacks=callbacks_list, validation_data=val_generator, \n",
    "                    validation_steps=validation_steps, class_weight=None, workers=1, initial_epoch=0)"
   ]
  },
  {
   "cell_type": "code",
   "execution_count": 56,
   "metadata": {},
   "outputs": [
    {
     "data": {
      "image/png": "[encoded data removed]",
      "text/plain": [
       "<Figure size 1080x288 with 2 Axes>"
      ]
     },
     "metadata": {
      "needs_background": "light"
     },
     "output_type": "display_data"
    }
   ],
   "source": [
    "train_val_loss_plot(history2)"
   ]
  },
  {
   "cell_type": "markdown",
   "metadata": {},
   "source": [
    "<font color='blue'>\n",
    "    This model also overfits. There is some improvement in the training accuracy.\n",
    "    </font>"
   ]
  },
  {
   "cell_type": "markdown",
   "metadata": {},
   "source": [
    "# Model 3\n",
    "## Learning rate = 0.0001"
   ]
  },
  {
   "cell_type": "code",
   "execution_count": 41,
   "metadata": {},
   "outputs": [],
   "source": [
    "# Conv3D model3\n",
    "model = Sequential()\n",
    "model.add(Conv3D(16, (3,3,3), # filters, kernel size\n",
    "                 padding = 'same', \n",
    "                 input_shape = (30,image_height,image_width,3))) #frames to sample, height, weight, channels\n",
    "model.add(Activation('relu'))\n",
    "model.add(BatchNormalization())\n",
    "model.add(MaxPooling3D(pool_size=(2,2,2)))\n",
    "\n",
    "model.add(Conv3D(32, (2,2,2), padding='same'))\n",
    "model.add(Activation('relu'))\n",
    "model.add(BatchNormalization())\n",
    "model.add(MaxPooling3D(pool_size=(2, 2, 2)))\n",
    "\n",
    "model.add(Conv3D(64, (2,2,2), padding='same'))\n",
    "model.add(Activation('relu'))\n",
    "model.add(BatchNormalization())\n",
    "model.add(MaxPooling3D(pool_size=(2,2,2)))\n",
    "\n",
    "model.add(Conv3D(128, (2,2,2), padding='same'))\n",
    "model.add(Activation('relu'))\n",
    "model.add(BatchNormalization())\n",
    "model.add(MaxPooling3D(pool_size=(2,2,2)))\n",
    "\n",
    "model.add(Flatten())\n",
    "model.add(Dense(64,activation='relu'))\n",
    "model.add(BatchNormalization())\n",
    "model.add(Dropout(0.5))\n",
    "\n",
    "model.add(Dense(64,activation='relu'))\n",
    "model.add(BatchNormalization())\n",
    "model.add(Dropout(0.5))\n",
    "\n",
    "model.add(Dense(5,activation='softmax'))"
   ]
  },
  {
   "cell_type": "code",
   "execution_count": 42,
   "metadata": {},
   "outputs": [
    {
     "name": "stdout",
     "output_type": "stream",
     "text": [
      "Model: \"sequential_2\"\n",
      "_________________________________________________________________\n",
      "Layer (type)                 Output Shape              Param #   \n",
      "=================================================================\n",
      "conv3d_7 (Conv3D)            (None, 30, 160, 160, 16)  1312      \n",
      "_________________________________________________________________\n",
      "activation_7 (Activation)    (None, 30, 160, 160, 16)  0         \n",
      "_________________________________________________________________\n",
      "batch_normalization_11 (Batc (None, 30, 160, 160, 16)  64        \n",
      "_________________________________________________________________\n",
      "max_pooling3d_7 (MaxPooling3 (None, 15, 80, 80, 16)    0         \n",
      "_________________________________________________________________\n",
      "conv3d_8 (Conv3D)            (None, 15, 80, 80, 32)    4128      \n",
      "_________________________________________________________________\n",
      "activation_8 (Activation)    (None, 15, 80, 80, 32)    0         \n",
      "_________________________________________________________________\n",
      "batch_normalization_12 (Batc (None, 15, 80, 80, 32)    128       \n",
      "_________________________________________________________________\n",
      "max_pooling3d_8 (MaxPooling3 (None, 7, 40, 40, 32)     0         \n",
      "_________________________________________________________________\n",
      "conv3d_9 (Conv3D)            (None, 7, 40, 40, 64)     16448     \n",
      "_________________________________________________________________\n",
      "activation_9 (Activation)    (None, 7, 40, 40, 64)     0         \n",
      "_________________________________________________________________\n",
      "batch_normalization_13 (Batc (None, 7, 40, 40, 64)     256       \n",
      "_________________________________________________________________\n",
      "max_pooling3d_9 (MaxPooling3 (None, 3, 20, 20, 64)     0         \n",
      "_________________________________________________________________\n",
      "conv3d_10 (Conv3D)           (None, 3, 20, 20, 128)    65664     \n",
      "_________________________________________________________________\n",
      "activation_10 (Activation)   (None, 3, 20, 20, 128)    0         \n",
      "_________________________________________________________________\n",
      "batch_normalization_14 (Batc (None, 3, 20, 20, 128)    512       \n",
      "_________________________________________________________________\n",
      "max_pooling3d_10 (MaxPooling (None, 1, 10, 10, 128)    0         \n",
      "_________________________________________________________________\n",
      "flatten_2 (Flatten)          (None, 12800)             0         \n",
      "_________________________________________________________________\n",
      "dense_6 (Dense)              (None, 64)                819264    \n",
      "_________________________________________________________________\n",
      "batch_normalization_15 (Batc (None, 64)                256       \n",
      "_________________________________________________________________\n",
      "dropout_4 (Dropout)          (None, 64)                0         \n",
      "_________________________________________________________________\n",
      "dense_7 (Dense)              (None, 64)                4160      \n",
      "_________________________________________________________________\n",
      "batch_normalization_16 (Batc (None, 64)                256       \n",
      "_________________________________________________________________\n",
      "dropout_5 (Dropout)          (None, 64)                0         \n",
      "_________________________________________________________________\n",
      "dense_8 (Dense)              (None, 5)                 325       \n",
      "=================================================================\n",
      "Total params: 912,773\n",
      "Trainable params: 912,037\n",
      "Non-trainable params: 736\n",
      "_________________________________________________________________\n",
      "None\n",
      "Initializing model checkpoints\n",
      "WARNING:tensorflow:`period` argument is deprecated. Please use `save_freq` to specify the frequency in number of batches seen.\n",
      "Calculating steps per epoch and validation steps\n"
     ]
    }
   ],
   "source": [
    "batch_size=32\n",
    "\n",
    "compile_and_summarize(0.0001)\n",
    "\n",
    "train_generator = generator(train_path, train_doc, batch_size)\n",
    "val_generator = generator(val_path, val_doc, batch_size)\n",
    "\n",
    "callbacks_list = model_checkpoints('model_init3')\n",
    "\n",
    "steps_per_epoch = calc_steps_per_epoch(batch_size)\n",
    "validation_steps = calc_validation_steps(batch_size)"
   ]
  },
  {
   "cell_type": "code",
   "execution_count": 59,
   "metadata": {},
   "outputs": [
    {
     "name": "stdout",
     "output_type": "stream",
     "text": [
      "Source path =  /datasets/Project_data/train ; batch size = 32\n",
      "Epoch 1/20\n",
      "21/21 [==============================] - ETA: 0s - loss: 2.2674 - categorical_accuracy: 0.2986Source path =  /datasets/Project_data/val ; batch size = 32\n",
      "\n",
      "Epoch 00001: saving model to model_init3_2021-10-2309_58_36.403853/model-00001-2.26741-0.29864-1.68234-0.15000.h5\n",
      "21/21 [==============================] - 173s 8s/step - loss: 2.2674 - categorical_accuracy: 0.2986 - val_loss: 1.6823 - val_categorical_accuracy: 0.1500\n",
      "Epoch 2/20\n",
      "21/21 [==============================] - ETA: 0s - loss: 1.8165 - categorical_accuracy: 0.3635\n",
      "Epoch 00002: saving model to model_init3_2021-10-2309_58_36.403853/model-00002-1.81655-0.36350-1.93595-0.18000.h5\n",
      "21/21 [==============================] - 170s 8s/step - loss: 1.8165 - categorical_accuracy: 0.3635 - val_loss: 1.9360 - val_categorical_accuracy: 0.1800\n",
      "Epoch 3/20\n",
      "21/21 [==============================] - ETA: 0s - loss: 1.5394 - categorical_accuracy: 0.4751\n",
      "Epoch 00003: saving model to model_init3_2021-10-2309_58_36.403853/model-00003-1.53940-0.47511-2.60667-0.13000.h5\n",
      "21/21 [==============================] - 170s 8s/step - loss: 1.5394 - categorical_accuracy: 0.4751 - val_loss: 2.6067 - val_categorical_accuracy: 0.1300\n",
      "Epoch 4/20\n",
      "21/21 [==============================] - ETA: 0s - loss: 1.2602 - categorical_accuracy: 0.5294\n",
      "Epoch 00004: saving model to model_init3_2021-10-2309_58_36.403853/model-00004-1.26020-0.52941-2.94335-0.15000.h5\n",
      "21/21 [==============================] - 165s 8s/step - loss: 1.2602 - categorical_accuracy: 0.5294 - val_loss: 2.9433 - val_categorical_accuracy: 0.1500\n",
      "Epoch 5/20\n",
      "21/21 [==============================] - ETA: 0s - loss: 1.2023 - categorical_accuracy: 0.5732\n",
      "Epoch 00005: saving model to model_init3_2021-10-2309_58_36.403853/model-00005-1.20226-0.57315-3.24859-0.17000.h5\n",
      "21/21 [==============================] - 170s 8s/step - loss: 1.2023 - categorical_accuracy: 0.5732 - val_loss: 3.2486 - val_categorical_accuracy: 0.1700\n",
      "Epoch 6/20\n",
      "21/21 [==============================] - ETA: 0s - loss: 1.1586 - categorical_accuracy: 0.6003\n",
      "Epoch 00006: saving model to model_init3_2021-10-2309_58_36.403853/model-00006-1.15858-0.60030-3.66655-0.17000.h5\n",
      "\n",
      "Epoch 00006: ReduceLROnPlateau reducing learning rate to 1.9999999494757503e-05.\n",
      "21/21 [==============================] - 170s 8s/step - loss: 1.1586 - categorical_accuracy: 0.6003 - val_loss: 3.6665 - val_categorical_accuracy: 0.1700\n",
      "Epoch 7/20\n",
      "21/21 [==============================] - ETA: 0s - loss: 1.1543 - categorical_accuracy: 0.6048\n",
      "Epoch 00007: saving model to model_init3_2021-10-2309_58_36.403853/model-00007-1.15426-0.60483-4.16741-0.14000.h5\n",
      "21/21 [==============================] - 169s 8s/step - loss: 1.1543 - categorical_accuracy: 0.6048 - val_loss: 4.1674 - val_categorical_accuracy: 0.1400\n",
      "Epoch 8/20\n",
      "21/21 [==============================] - ETA: 0s - loss: 1.1093 - categorical_accuracy: 0.6154\n",
      "Epoch 00008: saving model to model_init3_2021-10-2309_58_36.403853/model-00008-1.10933-0.61538-4.05677-0.15000.h5\n",
      "21/21 [==============================] - 164s 8s/step - loss: 1.1093 - categorical_accuracy: 0.6154 - val_loss: 4.0568 - val_categorical_accuracy: 0.1500\n",
      "Epoch 9/20\n",
      "21/21 [==============================] - ETA: 0s - loss: 0.9337 - categorical_accuracy: 0.6893\n",
      "Epoch 00009: saving model to model_init3_2021-10-2309_58_36.403853/model-00009-0.93370-0.68929-4.27505-0.15000.h5\n",
      "21/21 [==============================] - 172s 8s/step - loss: 0.9337 - categorical_accuracy: 0.6893 - val_loss: 4.2750 - val_categorical_accuracy: 0.1500\n",
      "Epoch 10/20\n",
      "21/21 [==============================] - ETA: 0s - loss: 0.9570 - categorical_accuracy: 0.6471\n",
      "Epoch 00010: saving model to model_init3_2021-10-2309_58_36.403853/model-00010-0.95700-0.64706-4.10817-0.30000.h5\n",
      "21/21 [==============================] - 168s 8s/step - loss: 0.9570 - categorical_accuracy: 0.6471 - val_loss: 4.1082 - val_categorical_accuracy: 0.3000\n",
      "Epoch 11/20\n",
      "21/21 [==============================] - ETA: 0s - loss: 0.8761 - categorical_accuracy: 0.6833\n",
      "Epoch 00011: saving model to model_init3_2021-10-2309_58_36.403853/model-00011-0.87609-0.68326-4.18714-0.33000.h5\n",
      "\n",
      "Epoch 00011: ReduceLROnPlateau reducing learning rate to 3.999999898951501e-06.\n",
      "21/21 [==============================] - 172s 8s/step - loss: 0.8761 - categorical_accuracy: 0.6833 - val_loss: 4.1871 - val_categorical_accuracy: 0.3300\n",
      "Epoch 12/20\n",
      "21/21 [==============================] - ETA: 0s - loss: 0.9003 - categorical_accuracy: 0.6637\n",
      "Epoch 00012: saving model to model_init3_2021-10-2309_58_36.403853/model-00012-0.90028-0.66365-4.17272-0.26000.h5\n",
      "21/21 [==============================] - 166s 8s/step - loss: 0.9003 - categorical_accuracy: 0.6637 - val_loss: 4.1727 - val_categorical_accuracy: 0.2600\n",
      "Epoch 13/20\n",
      "21/21 [==============================] - ETA: 0s - loss: 0.9164 - categorical_accuracy: 0.6712\n",
      "Epoch 00013: saving model to model_init3_2021-10-2309_58_36.403853/model-00013-0.91641-0.67119-4.36724-0.21000.h5\n",
      "21/21 [==============================] - 174s 8s/step - loss: 0.9164 - categorical_accuracy: 0.6712 - val_loss: 4.3672 - val_categorical_accuracy: 0.2100\n",
      "Epoch 14/20\n",
      "21/21 [==============================] - ETA: 0s - loss: 0.8986 - categorical_accuracy: 0.6501\n",
      "Epoch 00014: saving model to model_init3_2021-10-2309_58_36.403853/model-00014-0.89861-0.65008-4.28393-0.21000.h5\n",
      "21/21 [==============================] - 171s 8s/step - loss: 0.8986 - categorical_accuracy: 0.6501 - val_loss: 4.2839 - val_categorical_accuracy: 0.2100\n",
      "Epoch 15/20\n",
      "21/21 [==============================] - ETA: 0s - loss: 0.9734 - categorical_accuracy: 0.6486\n",
      "Epoch 00015: saving model to model_init3_2021-10-2309_58_36.403853/model-00015-0.97343-0.64857-3.74749-0.23000.h5\n",
      "21/21 [==============================] - 172s 8s/step - loss: 0.9734 - categorical_accuracy: 0.6486 - val_loss: 3.7475 - val_categorical_accuracy: 0.2300\n",
      "Epoch 16/20\n",
      "21/21 [==============================] - ETA: 0s - loss: 0.8757 - categorical_accuracy: 0.6501\n",
      "Epoch 00016: saving model to model_init3_2021-10-2309_58_36.403853/model-00016-0.87569-0.65008-3.45559-0.22000.h5\n",
      "\n",
      "Epoch 00016: ReduceLROnPlateau reducing learning rate to 7.999999979801942e-07.\n",
      "21/21 [==============================] - 164s 8s/step - loss: 0.8757 - categorical_accuracy: 0.6501 - val_loss: 3.4556 - val_categorical_accuracy: 0.2200\n",
      "Epoch 17/20\n",
      "21/21 [==============================] - ETA: 0s - loss: 0.8970 - categorical_accuracy: 0.6727\n",
      "Epoch 00017: saving model to model_init3_2021-10-2309_58_36.403853/model-00017-0.89703-0.67270-3.21417-0.20000.h5\n",
      "21/21 [==============================] - 174s 8s/step - loss: 0.8970 - categorical_accuracy: 0.6727 - val_loss: 3.2142 - val_categorical_accuracy: 0.2000\n",
      "Epoch 18/20\n",
      "21/21 [==============================] - ETA: 0s - loss: 0.9736 - categorical_accuracy: 0.6546\n",
      "Epoch 00018: saving model to model_init3_2021-10-2309_58_36.403853/model-00018-0.97356-0.65460-2.84343-0.20000.h5\n",
      "21/21 [==============================] - 171s 8s/step - loss: 0.9736 - categorical_accuracy: 0.6546 - val_loss: 2.8434 - val_categorical_accuracy: 0.2000\n",
      "Epoch 19/20\n",
      "21/21 [==============================] - ETA: 0s - loss: 0.9515 - categorical_accuracy: 0.6471\n",
      "Epoch 00019: saving model to model_init3_2021-10-2309_58_36.403853/model-00019-0.95146-0.64706-2.33203-0.31000.h5\n",
      "21/21 [==============================] - 169s 8s/step - loss: 0.9515 - categorical_accuracy: 0.6471 - val_loss: 2.3320 - val_categorical_accuracy: 0.3100\n",
      "Epoch 20/20\n",
      "21/21 [==============================] - ETA: 0s - loss: 0.9389 - categorical_accuracy: 0.6697\n",
      "Epoch 00020: saving model to model_init3_2021-10-2309_58_36.403853/model-00020-0.93894-0.66968-2.36053-0.24000.h5\n",
      "21/21 [==============================] - 164s 8s/step - loss: 0.9389 - categorical_accuracy: 0.6697 - val_loss: 2.3605 - val_categorical_accuracy: 0.2400\n"
     ]
    }
   ],
   "source": [
    "history3 = model.fit_generator(train_generator, steps_per_epoch=steps_per_epoch, epochs=num_epochs, verbose=1, \n",
    "                    callbacks=callbacks_list, validation_data=val_generator, \n",
    "                    validation_steps=validation_steps, class_weight=None, workers=1, initial_epoch=0)"
   ]
  },
  {
   "cell_type": "code",
   "execution_count": 60,
   "metadata": {},
   "outputs": [
    {
     "data": {
      "image/png": "[encoded data removed]",
      "text/plain": [
       "<Figure size 1080x288 with 2 Axes>"
      ]
     },
     "metadata": {
      "needs_background": "light"
     },
     "output_type": "display_data"
    }
   ],
   "source": [
    "train_val_loss_plot(history3)"
   ]
  },
  {
   "cell_type": "markdown",
   "metadata": {},
   "source": [
    "<font color ='blue'> The model is still performing badly on the validation set. The training accuracy is also not high.</font>"
   ]
  },
  {
   "cell_type": "markdown",
   "metadata": {},
   "source": [
    "# Model 4"
   ]
  },
  {
   "cell_type": "code",
   "execution_count": 19,
   "metadata": {},
   "outputs": [],
   "source": [
    "# Conv3D model4\n",
    "model = Sequential()\n",
    "model.add(Conv3D(16, (3,3,3), # filters, kernel size\n",
    "                 padding = 'same', \n",
    "                 input_shape = (30,image_height,image_width,3))) #frames to sample, height, weight, channels\n",
    "model.add(Activation('relu'))\n",
    "model.add(BatchNormalization())\n",
    "model.add(MaxPooling3D(pool_size=(2,2,2)))\n",
    "model.add(Dropout(0.2))\n",
    "\n",
    "model.add(Conv3D(32, (2,2,2), padding='same'))\n",
    "model.add(Activation('relu'))\n",
    "model.add(BatchNormalization())\n",
    "model.add(MaxPooling3D(pool_size=(2, 2, 2)))\n",
    "model.add(Dropout(0.2))\n",
    "\n",
    "model.add(Conv3D(64, (2,2,2), padding='same'))\n",
    "model.add(Activation('relu'))\n",
    "model.add(BatchNormalization())\n",
    "model.add(MaxPooling3D(pool_size=(2,2,2)))\n",
    "model.add(Dropout(0.2))\n",
    "\n",
    "model.add(Conv3D(128, (2,2,2), padding='same'))\n",
    "model.add(Activation('relu'))\n",
    "model.add(BatchNormalization())\n",
    "model.add(Dropout(0.2))\n",
    "\n",
    "model.add(Conv3D(256, (2,2,2), padding='same'))\n",
    "model.add(Activation('relu'))\n",
    "model.add(BatchNormalization())\n",
    "model.add(Dropout(0.2))\n",
    "\n",
    "model.add(MaxPooling3D(pool_size=(2,2,2)))\n",
    "\n",
    "model.add(Flatten())\n",
    "model.add(Dense(128,activation='relu'))\n",
    "model.add(BatchNormalization())\n",
    "model.add(Dropout(0.2))\n",
    "\n",
    "model.add(Dense(128,activation='relu'))\n",
    "model.add(BatchNormalization())\n",
    "model.add(Dropout(0.2))\n",
    "\n",
    "model.add(Dense(5,activation='softmax'))"
   ]
  },
  {
   "cell_type": "code",
   "execution_count": 21,
   "metadata": {},
   "outputs": [
    {
     "name": "stdout",
     "output_type": "stream",
     "text": [
      "Model: \"sequential_2\"\n",
      "_________________________________________________________________\n",
      "Layer (type)                 Output Shape              Param #   \n",
      "=================================================================\n",
      "conv3d_8 (Conv3D)            (None, 30, 160, 160, 16)  1312      \n",
      "_________________________________________________________________\n",
      "activation_8 (Activation)    (None, 30, 160, 160, 16)  0         \n",
      "_________________________________________________________________\n",
      "batch_normalization_12 (Batc (None, 30, 160, 160, 16)  64        \n",
      "_________________________________________________________________\n",
      "max_pooling3d_7 (MaxPooling3 (None, 15, 80, 80, 16)    0         \n",
      "_________________________________________________________________\n",
      "dropout_4 (Dropout)          (None, 15, 80, 80, 16)    0         \n",
      "_________________________________________________________________\n",
      "conv3d_9 (Conv3D)            (None, 15, 80, 80, 32)    4128      \n",
      "_________________________________________________________________\n",
      "activation_9 (Activation)    (None, 15, 80, 80, 32)    0         \n",
      "_________________________________________________________________\n",
      "batch_normalization_13 (Batc (None, 15, 80, 80, 32)    128       \n",
      "_________________________________________________________________\n",
      "max_pooling3d_8 (MaxPooling3 (None, 7, 40, 40, 32)     0         \n",
      "_________________________________________________________________\n",
      "dropout_5 (Dropout)          (None, 7, 40, 40, 32)     0         \n",
      "_________________________________________________________________\n",
      "conv3d_10 (Conv3D)           (None, 7, 40, 40, 64)     16448     \n",
      "_________________________________________________________________\n",
      "activation_10 (Activation)   (None, 7, 40, 40, 64)     0         \n",
      "_________________________________________________________________\n",
      "batch_normalization_14 (Batc (None, 7, 40, 40, 64)     256       \n",
      "_________________________________________________________________\n",
      "max_pooling3d_9 (MaxPooling3 (None, 3, 20, 20, 64)     0         \n",
      "_________________________________________________________________\n",
      "dropout_6 (Dropout)          (None, 3, 20, 20, 64)     0         \n",
      "_________________________________________________________________\n",
      "conv3d_11 (Conv3D)           (None, 3, 20, 20, 128)    65664     \n",
      "_________________________________________________________________\n",
      "activation_11 (Activation)   (None, 3, 20, 20, 128)    0         \n",
      "_________________________________________________________________\n",
      "batch_normalization_15 (Batc (None, 3, 20, 20, 128)    512       \n",
      "_________________________________________________________________\n",
      "dropout_7 (Dropout)          (None, 3, 20, 20, 128)    0         \n",
      "_________________________________________________________________\n",
      "conv3d_12 (Conv3D)           (None, 3, 20, 20, 256)    262400    \n",
      "_________________________________________________________________\n",
      "activation_12 (Activation)   (None, 3, 20, 20, 256)    0         \n",
      "_________________________________________________________________\n",
      "batch_normalization_16 (Batc (None, 3, 20, 20, 256)    1024      \n",
      "_________________________________________________________________\n",
      "dropout_8 (Dropout)          (None, 3, 20, 20, 256)    0         \n",
      "_________________________________________________________________\n",
      "max_pooling3d_10 (MaxPooling (None, 1, 10, 10, 256)    0         \n",
      "_________________________________________________________________\n",
      "flatten_2 (Flatten)          (None, 25600)             0         \n",
      "_________________________________________________________________\n",
      "dense_6 (Dense)              (None, 128)               3276928   \n",
      "_________________________________________________________________\n",
      "batch_normalization_17 (Batc (None, 128)               512       \n",
      "_________________________________________________________________\n",
      "dropout_9 (Dropout)          (None, 128)               0         \n",
      "_________________________________________________________________\n",
      "dense_7 (Dense)              (None, 128)               16512     \n",
      "_________________________________________________________________\n",
      "batch_normalization_18 (Batc (None, 128)               512       \n",
      "_________________________________________________________________\n",
      "dropout_10 (Dropout)         (None, 128)               0         \n",
      "_________________________________________________________________\n",
      "dense_8 (Dense)              (None, 5)                 645       \n",
      "=================================================================\n",
      "Total params: 3,647,045\n",
      "Trainable params: 3,645,541\n",
      "Non-trainable params: 1,504\n",
      "_________________________________________________________________\n",
      "None\n",
      "Initializing model checkpoints\n",
      "WARNING:tensorflow:`period` argument is deprecated. Please use `save_freq` to specify the frequency in number of batches seen.\n",
      "Calculating steps per epoch and validation steps\n"
     ]
    }
   ],
   "source": [
    "batch_size=15\n",
    "num_epochs=30\n",
    "\n",
    "compile_and_summarize(0.0002)\n",
    "\n",
    "train_generator = generator(train_path, train_doc, batch_size)\n",
    "val_generator = generator(val_path, val_doc, batch_size)\n",
    "\n",
    "callbacks_list = model_checkpoints('model_init4')\n",
    "\n",
    "steps_per_epoch = calc_steps_per_epoch(batch_size)\n",
    "validation_steps = calc_validation_steps(batch_size)"
   ]
  },
  {
   "cell_type": "code",
   "execution_count": 22,
   "metadata": {},
   "outputs": [
    {
     "name": "stdout",
     "output_type": "stream",
     "text": [
      "Source path =  /datasets/Project_data/train ; batch size = 15\n",
      "Epoch 1/30\n"
     ]
    },
    {
     "ename": "InternalError",
     "evalue": " Dst tensor is not initialized.\n\t [[{{node IteratorGetNext/_2}}]] [Op:__inference_train_function_5980]\n\nFunction call stack:\ntrain_function\n",
     "output_type": "error",
     "traceback": [
      "\u001b[0;31m---------------------------------------------------------------------------\u001b[0m",
      "\u001b[0;31mInternalError\u001b[0m                             Traceback (most recent call last)",
      "\u001b[0;32m<ipython-input-22-a383c6982c89>\u001b[0m in \u001b[0;36m<module>\u001b[0;34m\u001b[0m\n\u001b[1;32m      1\u001b[0m history4 = model.fit_generator(train_generator, steps_per_epoch=steps_per_epoch, epochs=num_epochs, verbose=1, \n\u001b[1;32m      2\u001b[0m                     \u001b[0mcallbacks\u001b[0m\u001b[0;34m=\u001b[0m\u001b[0mcallbacks_list\u001b[0m\u001b[0;34m,\u001b[0m \u001b[0mvalidation_data\u001b[0m\u001b[0;34m=\u001b[0m\u001b[0mval_generator\u001b[0m\u001b[0;34m,\u001b[0m\u001b[0;34m\u001b[0m\u001b[0;34m\u001b[0m\u001b[0m\n\u001b[0;32m----> 3\u001b[0;31m                     validation_steps=validation_steps, class_weight=None, workers=1, initial_epoch=0)\n\u001b[0m",
      "\u001b[0;32m/usr/local/lib/python3.6/dist-packages/tensorflow/python/util/deprecation.py\u001b[0m in \u001b[0;36mnew_func\u001b[0;34m(*args, **kwargs)\u001b[0m\n\u001b[1;32m    322\u001b[0m               \u001b[0;34m'in a future version'\u001b[0m \u001b[0;32mif\u001b[0m \u001b[0mdate\u001b[0m \u001b[0;32mis\u001b[0m \u001b[0;32mNone\u001b[0m \u001b[0;32melse\u001b[0m \u001b[0;34m(\u001b[0m\u001b[0;34m'after %s'\u001b[0m \u001b[0;34m%\u001b[0m \u001b[0mdate\u001b[0m\u001b[0;34m)\u001b[0m\u001b[0;34m,\u001b[0m\u001b[0;34m\u001b[0m\u001b[0;34m\u001b[0m\u001b[0m\n\u001b[1;32m    323\u001b[0m               instructions)\n\u001b[0;32m--> 324\u001b[0;31m       \u001b[0;32mreturn\u001b[0m \u001b[0mfunc\u001b[0m\u001b[0;34m(\u001b[0m\u001b[0;34m*\u001b[0m\u001b[0margs\u001b[0m\u001b[0;34m,\u001b[0m \u001b[0;34m**\u001b[0m\u001b[0mkwargs\u001b[0m\u001b[0;34m)\u001b[0m\u001b[0;34m\u001b[0m\u001b[0;34m\u001b[0m\u001b[0m\n\u001b[0m\u001b[1;32m    325\u001b[0m     return tf_decorator.make_decorator(\n\u001b[1;32m    326\u001b[0m         \u001b[0mfunc\u001b[0m\u001b[0;34m,\u001b[0m \u001b[0mnew_func\u001b[0m\u001b[0;34m,\u001b[0m \u001b[0;34m'deprecated'\u001b[0m\u001b[0;34m,\u001b[0m\u001b[0;34m\u001b[0m\u001b[0;34m\u001b[0m\u001b[0m\n",
      "\u001b[0;32m/usr/local/lib/python3.6/dist-packages/tensorflow/python/keras/engine/training.py\u001b[0m in \u001b[0;36mfit_generator\u001b[0;34m(self, generator, steps_per_epoch, epochs, verbose, callbacks, validation_data, validation_steps, validation_freq, class_weight, max_queue_size, workers, use_multiprocessing, shuffle, initial_epoch)\u001b[0m\n\u001b[1;32m   1827\u001b[0m         \u001b[0muse_multiprocessing\u001b[0m\u001b[0;34m=\u001b[0m\u001b[0muse_multiprocessing\u001b[0m\u001b[0;34m,\u001b[0m\u001b[0;34m\u001b[0m\u001b[0;34m\u001b[0m\u001b[0m\n\u001b[1;32m   1828\u001b[0m         \u001b[0mshuffle\u001b[0m\u001b[0;34m=\u001b[0m\u001b[0mshuffle\u001b[0m\u001b[0;34m,\u001b[0m\u001b[0;34m\u001b[0m\u001b[0;34m\u001b[0m\u001b[0m\n\u001b[0;32m-> 1829\u001b[0;31m         initial_epoch=initial_epoch)\n\u001b[0m\u001b[1;32m   1830\u001b[0m \u001b[0;34m\u001b[0m\u001b[0m\n\u001b[1;32m   1831\u001b[0m   @deprecation.deprecated(\n",
      "\u001b[0;32m/usr/local/lib/python3.6/dist-packages/tensorflow/python/keras/engine/training.py\u001b[0m in \u001b[0;36m_method_wrapper\u001b[0;34m(self, *args, **kwargs)\u001b[0m\n\u001b[1;32m    106\u001b[0m   \u001b[0;32mdef\u001b[0m \u001b[0m_method_wrapper\u001b[0m\u001b[0;34m(\u001b[0m\u001b[0mself\u001b[0m\u001b[0;34m,\u001b[0m \u001b[0;34m*\u001b[0m\u001b[0margs\u001b[0m\u001b[0;34m,\u001b[0m \u001b[0;34m**\u001b[0m\u001b[0mkwargs\u001b[0m\u001b[0;34m)\u001b[0m\u001b[0;34m:\u001b[0m\u001b[0;34m\u001b[0m\u001b[0;34m\u001b[0m\u001b[0m\n\u001b[1;32m    107\u001b[0m     \u001b[0;32mif\u001b[0m \u001b[0;32mnot\u001b[0m \u001b[0mself\u001b[0m\u001b[0;34m.\u001b[0m\u001b[0m_in_multi_worker_mode\u001b[0m\u001b[0;34m(\u001b[0m\u001b[0;34m)\u001b[0m\u001b[0;34m:\u001b[0m  \u001b[0;31m# pylint: disable=protected-access\u001b[0m\u001b[0;34m\u001b[0m\u001b[0;34m\u001b[0m\u001b[0m\n\u001b[0;32m--> 108\u001b[0;31m       \u001b[0;32mreturn\u001b[0m \u001b[0mmethod\u001b[0m\u001b[0;34m(\u001b[0m\u001b[0mself\u001b[0m\u001b[0;34m,\u001b[0m \u001b[0;34m*\u001b[0m\u001b[0margs\u001b[0m\u001b[0;34m,\u001b[0m \u001b[0;34m**\u001b[0m\u001b[0mkwargs\u001b[0m\u001b[0;34m)\u001b[0m\u001b[0;34m\u001b[0m\u001b[0;34m\u001b[0m\u001b[0m\n\u001b[0m\u001b[1;32m    109\u001b[0m \u001b[0;34m\u001b[0m\u001b[0m\n\u001b[1;32m    110\u001b[0m     \u001b[0;31m# Running inside `run_distribute_coordinator` already.\u001b[0m\u001b[0;34m\u001b[0m\u001b[0;34m\u001b[0m\u001b[0;34m\u001b[0m\u001b[0m\n",
      "\u001b[0;32m/usr/local/lib/python3.6/dist-packages/tensorflow/python/keras/engine/training.py\u001b[0m in \u001b[0;36mfit\u001b[0;34m(self, x, y, batch_size, epochs, verbose, callbacks, validation_split, validation_data, shuffle, class_weight, sample_weight, initial_epoch, steps_per_epoch, validation_steps, validation_batch_size, validation_freq, max_queue_size, workers, use_multiprocessing)\u001b[0m\n\u001b[1;32m   1096\u001b[0m                 batch_size=batch_size):\n\u001b[1;32m   1097\u001b[0m               \u001b[0mcallbacks\u001b[0m\u001b[0;34m.\u001b[0m\u001b[0mon_train_batch_begin\u001b[0m\u001b[0;34m(\u001b[0m\u001b[0mstep\u001b[0m\u001b[0;34m)\u001b[0m\u001b[0;34m\u001b[0m\u001b[0;34m\u001b[0m\u001b[0m\n\u001b[0;32m-> 1098\u001b[0;31m               \u001b[0mtmp_logs\u001b[0m \u001b[0;34m=\u001b[0m \u001b[0mtrain_function\u001b[0m\u001b[0;34m(\u001b[0m\u001b[0miterator\u001b[0m\u001b[0;34m)\u001b[0m\u001b[0;34m\u001b[0m\u001b[0;34m\u001b[0m\u001b[0m\n\u001b[0m\u001b[1;32m   1099\u001b[0m               \u001b[0;32mif\u001b[0m \u001b[0mdata_handler\u001b[0m\u001b[0;34m.\u001b[0m\u001b[0mshould_sync\u001b[0m\u001b[0;34m:\u001b[0m\u001b[0;34m\u001b[0m\u001b[0;34m\u001b[0m\u001b[0m\n\u001b[1;32m   1100\u001b[0m                 \u001b[0mcontext\u001b[0m\u001b[0;34m.\u001b[0m\u001b[0masync_wait\u001b[0m\u001b[0;34m(\u001b[0m\u001b[0;34m)\u001b[0m\u001b[0;34m\u001b[0m\u001b[0;34m\u001b[0m\u001b[0m\n",
      "\u001b[0;32m/usr/local/lib/python3.6/dist-packages/tensorflow/python/eager/def_function.py\u001b[0m in \u001b[0;36m__call__\u001b[0;34m(self, *args, **kwds)\u001b[0m\n\u001b[1;32m    778\u001b[0m       \u001b[0;32melse\u001b[0m\u001b[0;34m:\u001b[0m\u001b[0;34m\u001b[0m\u001b[0;34m\u001b[0m\u001b[0m\n\u001b[1;32m    779\u001b[0m         \u001b[0mcompiler\u001b[0m \u001b[0;34m=\u001b[0m \u001b[0;34m\"nonXla\"\u001b[0m\u001b[0;34m\u001b[0m\u001b[0;34m\u001b[0m\u001b[0m\n\u001b[0;32m--> 780\u001b[0;31m         \u001b[0mresult\u001b[0m \u001b[0;34m=\u001b[0m \u001b[0mself\u001b[0m\u001b[0;34m.\u001b[0m\u001b[0m_call\u001b[0m\u001b[0;34m(\u001b[0m\u001b[0;34m*\u001b[0m\u001b[0margs\u001b[0m\u001b[0;34m,\u001b[0m \u001b[0;34m**\u001b[0m\u001b[0mkwds\u001b[0m\u001b[0;34m)\u001b[0m\u001b[0;34m\u001b[0m\u001b[0;34m\u001b[0m\u001b[0m\n\u001b[0m\u001b[1;32m    781\u001b[0m \u001b[0;34m\u001b[0m\u001b[0m\n\u001b[1;32m    782\u001b[0m       \u001b[0mnew_tracing_count\u001b[0m \u001b[0;34m=\u001b[0m \u001b[0mself\u001b[0m\u001b[0;34m.\u001b[0m\u001b[0m_get_tracing_count\u001b[0m\u001b[0;34m(\u001b[0m\u001b[0;34m)\u001b[0m\u001b[0;34m\u001b[0m\u001b[0;34m\u001b[0m\u001b[0m\n",
      "\u001b[0;32m/usr/local/lib/python3.6/dist-packages/tensorflow/python/eager/def_function.py\u001b[0m in \u001b[0;36m_call\u001b[0;34m(self, *args, **kwds)\u001b[0m\n\u001b[1;32m    838\u001b[0m         \u001b[0;31m# Lifting succeeded, so variables are initialized and we can run the\u001b[0m\u001b[0;34m\u001b[0m\u001b[0;34m\u001b[0m\u001b[0;34m\u001b[0m\u001b[0m\n\u001b[1;32m    839\u001b[0m         \u001b[0;31m# stateless function.\u001b[0m\u001b[0;34m\u001b[0m\u001b[0;34m\u001b[0m\u001b[0;34m\u001b[0m\u001b[0m\n\u001b[0;32m--> 840\u001b[0;31m         \u001b[0;32mreturn\u001b[0m \u001b[0mself\u001b[0m\u001b[0;34m.\u001b[0m\u001b[0m_stateless_fn\u001b[0m\u001b[0;34m(\u001b[0m\u001b[0;34m*\u001b[0m\u001b[0margs\u001b[0m\u001b[0;34m,\u001b[0m \u001b[0;34m**\u001b[0m\u001b[0mkwds\u001b[0m\u001b[0;34m)\u001b[0m\u001b[0;34m\u001b[0m\u001b[0;34m\u001b[0m\u001b[0m\n\u001b[0m\u001b[1;32m    841\u001b[0m     \u001b[0;32melse\u001b[0m\u001b[0;34m:\u001b[0m\u001b[0;34m\u001b[0m\u001b[0;34m\u001b[0m\u001b[0m\n\u001b[1;32m    842\u001b[0m       \u001b[0mcanon_args\u001b[0m\u001b[0;34m,\u001b[0m \u001b[0mcanon_kwds\u001b[0m \u001b[0;34m=\u001b[0m\u001b[0;31m \u001b[0m\u001b[0;31m\\\u001b[0m\u001b[0;34m\u001b[0m\u001b[0;34m\u001b[0m\u001b[0m\n",
      "\u001b[0;32m/usr/local/lib/python3.6/dist-packages/tensorflow/python/eager/function.py\u001b[0m in \u001b[0;36m__call__\u001b[0;34m(self, *args, **kwargs)\u001b[0m\n\u001b[1;32m   2827\u001b[0m     \u001b[0;32mwith\u001b[0m \u001b[0mself\u001b[0m\u001b[0;34m.\u001b[0m\u001b[0m_lock\u001b[0m\u001b[0;34m:\u001b[0m\u001b[0;34m\u001b[0m\u001b[0;34m\u001b[0m\u001b[0m\n\u001b[1;32m   2828\u001b[0m       \u001b[0mgraph_function\u001b[0m\u001b[0;34m,\u001b[0m \u001b[0margs\u001b[0m\u001b[0;34m,\u001b[0m \u001b[0mkwargs\u001b[0m \u001b[0;34m=\u001b[0m \u001b[0mself\u001b[0m\u001b[0;34m.\u001b[0m\u001b[0m_maybe_define_function\u001b[0m\u001b[0;34m(\u001b[0m\u001b[0margs\u001b[0m\u001b[0;34m,\u001b[0m \u001b[0mkwargs\u001b[0m\u001b[0;34m)\u001b[0m\u001b[0;34m\u001b[0m\u001b[0;34m\u001b[0m\u001b[0m\n\u001b[0;32m-> 2829\u001b[0;31m     \u001b[0;32mreturn\u001b[0m \u001b[0mgraph_function\u001b[0m\u001b[0;34m.\u001b[0m\u001b[0m_filtered_call\u001b[0m\u001b[0;34m(\u001b[0m\u001b[0margs\u001b[0m\u001b[0;34m,\u001b[0m \u001b[0mkwargs\u001b[0m\u001b[0;34m)\u001b[0m  \u001b[0;31m# pylint: disable=protected-access\u001b[0m\u001b[0;34m\u001b[0m\u001b[0;34m\u001b[0m\u001b[0m\n\u001b[0m\u001b[1;32m   2830\u001b[0m \u001b[0;34m\u001b[0m\u001b[0m\n\u001b[1;32m   2831\u001b[0m   \u001b[0;34m@\u001b[0m\u001b[0mproperty\u001b[0m\u001b[0;34m\u001b[0m\u001b[0;34m\u001b[0m\u001b[0m\n",
      "\u001b[0;32m/usr/local/lib/python3.6/dist-packages/tensorflow/python/eager/function.py\u001b[0m in \u001b[0;36m_filtered_call\u001b[0;34m(self, args, kwargs, cancellation_manager)\u001b[0m\n\u001b[1;32m   1846\u001b[0m                            resource_variable_ops.BaseResourceVariable))],\n\u001b[1;32m   1847\u001b[0m         \u001b[0mcaptured_inputs\u001b[0m\u001b[0;34m=\u001b[0m\u001b[0mself\u001b[0m\u001b[0;34m.\u001b[0m\u001b[0mcaptured_inputs\u001b[0m\u001b[0;34m,\u001b[0m\u001b[0;34m\u001b[0m\u001b[0;34m\u001b[0m\u001b[0m\n\u001b[0;32m-> 1848\u001b[0;31m         cancellation_manager=cancellation_manager)\n\u001b[0m\u001b[1;32m   1849\u001b[0m \u001b[0;34m\u001b[0m\u001b[0m\n\u001b[1;32m   1850\u001b[0m   \u001b[0;32mdef\u001b[0m \u001b[0m_call_flat\u001b[0m\u001b[0;34m(\u001b[0m\u001b[0mself\u001b[0m\u001b[0;34m,\u001b[0m \u001b[0margs\u001b[0m\u001b[0;34m,\u001b[0m \u001b[0mcaptured_inputs\u001b[0m\u001b[0;34m,\u001b[0m \u001b[0mcancellation_manager\u001b[0m\u001b[0;34m=\u001b[0m\u001b[0;32mNone\u001b[0m\u001b[0;34m)\u001b[0m\u001b[0;34m:\u001b[0m\u001b[0;34m\u001b[0m\u001b[0;34m\u001b[0m\u001b[0m\n",
      "\u001b[0;32m/usr/local/lib/python3.6/dist-packages/tensorflow/python/eager/function.py\u001b[0m in \u001b[0;36m_call_flat\u001b[0;34m(self, args, captured_inputs, cancellation_manager)\u001b[0m\n\u001b[1;32m   1922\u001b[0m       \u001b[0;31m# No tape is watching; skip to running the function.\u001b[0m\u001b[0;34m\u001b[0m\u001b[0;34m\u001b[0m\u001b[0;34m\u001b[0m\u001b[0m\n\u001b[1;32m   1923\u001b[0m       return self._build_call_outputs(self._inference_function.call(\n\u001b[0;32m-> 1924\u001b[0;31m           ctx, args, cancellation_manager=cancellation_manager))\n\u001b[0m\u001b[1;32m   1925\u001b[0m     forward_backward = self._select_forward_and_backward_functions(\n\u001b[1;32m   1926\u001b[0m         \u001b[0margs\u001b[0m\u001b[0;34m,\u001b[0m\u001b[0;34m\u001b[0m\u001b[0;34m\u001b[0m\u001b[0m\n",
      "\u001b[0;32m/usr/local/lib/python3.6/dist-packages/tensorflow/python/eager/function.py\u001b[0m in \u001b[0;36mcall\u001b[0;34m(self, ctx, args, cancellation_manager)\u001b[0m\n\u001b[1;32m    548\u001b[0m               \u001b[0minputs\u001b[0m\u001b[0;34m=\u001b[0m\u001b[0margs\u001b[0m\u001b[0;34m,\u001b[0m\u001b[0;34m\u001b[0m\u001b[0;34m\u001b[0m\u001b[0m\n\u001b[1;32m    549\u001b[0m               \u001b[0mattrs\u001b[0m\u001b[0;34m=\u001b[0m\u001b[0mattrs\u001b[0m\u001b[0;34m,\u001b[0m\u001b[0;34m\u001b[0m\u001b[0;34m\u001b[0m\u001b[0m\n\u001b[0;32m--> 550\u001b[0;31m               ctx=ctx)\n\u001b[0m\u001b[1;32m    551\u001b[0m         \u001b[0;32melse\u001b[0m\u001b[0;34m:\u001b[0m\u001b[0;34m\u001b[0m\u001b[0;34m\u001b[0m\u001b[0m\n\u001b[1;32m    552\u001b[0m           outputs = execute.execute_with_cancellation(\n",
      "\u001b[0;32m/usr/local/lib/python3.6/dist-packages/tensorflow/python/eager/execute.py\u001b[0m in \u001b[0;36mquick_execute\u001b[0;34m(op_name, num_outputs, inputs, attrs, ctx, name)\u001b[0m\n\u001b[1;32m     58\u001b[0m     \u001b[0mctx\u001b[0m\u001b[0;34m.\u001b[0m\u001b[0mensure_initialized\u001b[0m\u001b[0;34m(\u001b[0m\u001b[0;34m)\u001b[0m\u001b[0;34m\u001b[0m\u001b[0;34m\u001b[0m\u001b[0m\n\u001b[1;32m     59\u001b[0m     tensors = pywrap_tfe.TFE_Py_Execute(ctx._handle, device_name, op_name,\n\u001b[0;32m---> 60\u001b[0;31m                                         inputs, attrs, num_outputs)\n\u001b[0m\u001b[1;32m     61\u001b[0m   \u001b[0;32mexcept\u001b[0m \u001b[0mcore\u001b[0m\u001b[0;34m.\u001b[0m\u001b[0m_NotOkStatusException\u001b[0m \u001b[0;32mas\u001b[0m \u001b[0me\u001b[0m\u001b[0;34m:\u001b[0m\u001b[0;34m\u001b[0m\u001b[0;34m\u001b[0m\u001b[0m\n\u001b[1;32m     62\u001b[0m     \u001b[0;32mif\u001b[0m \u001b[0mname\u001b[0m \u001b[0;32mis\u001b[0m \u001b[0;32mnot\u001b[0m \u001b[0;32mNone\u001b[0m\u001b[0;34m:\u001b[0m\u001b[0;34m\u001b[0m\u001b[0;34m\u001b[0m\u001b[0m\n",
      "\u001b[0;31mInternalError\u001b[0m:  Dst tensor is not initialized.\n\t [[{{node IteratorGetNext/_2}}]] [Op:__inference_train_function_5980]\n\nFunction call stack:\ntrain_function\n"
     ]
    }
   ],
   "source": [
    "history4 = model.fit_generator(train_generator, steps_per_epoch=steps_per_epoch, epochs=num_epochs, verbose=1, \n",
    "                    callbacks=callbacks_list, validation_data=val_generator, \n",
    "                    validation_steps=validation_steps, class_weight=None, workers=1, initial_epoch=0)"
   ]
  },
  {
   "cell_type": "code",
   "execution_count": null,
   "metadata": {},
   "outputs": [],
   "source": [
    "train_val_loss_plot(history4)"
   ]
  },
  {
   "cell_type": "markdown",
   "metadata": {},
   "source": [
    "<font color='blue'> The model still overfits, but the accuracy has imporved a little - 71% for train and 58% for validation.</font>"
   ]
  },
  {
   "cell_type": "markdown",
   "metadata": {},
   "source": [
    "# Model 5\n",
    "### CNN + GRU"
   ]
  },
  {
   "cell_type": "code",
   "execution_count": 29,
   "metadata": {},
   "outputs": [],
   "source": [
    "#CNN + GRU model\n",
    "model = Sequential()\n",
    "\n",
    "model.add(TimeDistributed(Conv2D(16, (3, 3) , padding='same', activation='relu'),\n",
    "                          input_shape=(30,image_height,image_width,3)))\n",
    "model.add(TimeDistributed(BatchNormalization()))\n",
    "\n",
    "model.add(TimeDistributed(MaxPooling2D((2, 2))))\n",
    "\n",
    "model.add(TimeDistributed(Conv2D(32, (3, 3) , padding='same', activation='relu')))\n",
    "model.add(TimeDistributed(BatchNormalization()))\n",
    "\n",
    "model.add(TimeDistributed(MaxPooling2D((2, 2))))\n",
    "\n",
    "model.add(TimeDistributed(Conv2D(64, (3, 3) , padding='same', activation='relu')))\n",
    "model.add(TimeDistributed(BatchNormalization()))\n",
    "\n",
    "model.add(TimeDistributed(MaxPooling2D((2, 2))))\n",
    "\n",
    "model.add(TimeDistributed(Conv2D(128, (3, 3) , padding='same', activation='relu')))\n",
    "model.add(TimeDistributed(BatchNormalization()))\n",
    "\n",
    "model.add(TimeDistributed(MaxPooling2D((2, 2))))\n",
    "\n",
    "model.add(TimeDistributed(Conv2D(256, (3, 3) , padding='same', activation='relu')))\n",
    "model.add(TimeDistributed(BatchNormalization()))\n",
    "\n",
    "model.add(TimeDistributed(MaxPooling2D((2, 2))))\n",
    "\n",
    "model.add(TimeDistributed(Flatten()))\n",
    "\n",
    "\n",
    "model.add(GRU(128))\n",
    "model.add(Dropout(0.5))\n",
    "\n",
    "model.add(Dense(128,activation='relu'))\n",
    "model.add(Dropout(0.5))\n",
    "\n",
    "model.add(Dense(5, activation='softmax'))"
   ]
  },
  {
   "cell_type": "code",
   "execution_count": 30,
   "metadata": {},
   "outputs": [
    {
     "name": "stdout",
     "output_type": "stream",
     "text": [
      "Model: \"sequential_4\"\n",
      "_________________________________________________________________\n",
      "Layer (type)                 Output Shape              Param #   \n",
      "=================================================================\n",
      "time_distributed (TimeDistri (None, 30, 160, 160, 16)  448       \n",
      "_________________________________________________________________\n",
      "time_distributed_1 (TimeDist (None, 30, 160, 160, 16)  64        \n",
      "_________________________________________________________________\n",
      "time_distributed_2 (TimeDist (None, 30, 80, 80, 16)    0         \n",
      "_________________________________________________________________\n",
      "time_distributed_3 (TimeDist (None, 30, 80, 80, 32)    4640      \n",
      "_________________________________________________________________\n",
      "time_distributed_4 (TimeDist (None, 30, 80, 80, 32)    128       \n",
      "_________________________________________________________________\n",
      "time_distributed_5 (TimeDist (None, 30, 40, 40, 32)    0         \n",
      "_________________________________________________________________\n",
      "time_distributed_6 (TimeDist (None, 30, 40, 40, 64)    18496     \n",
      "_________________________________________________________________\n",
      "time_distributed_7 (TimeDist (None, 30, 40, 40, 64)    256       \n",
      "_________________________________________________________________\n",
      "time_distributed_8 (TimeDist (None, 30, 20, 20, 64)    0         \n",
      "_________________________________________________________________\n",
      "time_distributed_9 (TimeDist (None, 30, 20, 20, 128)   73856     \n",
      "_________________________________________________________________\n",
      "time_distributed_10 (TimeDis (None, 30, 20, 20, 128)   512       \n",
      "_________________________________________________________________\n",
      "time_distributed_11 (TimeDis (None, 30, 10, 10, 128)   0         \n",
      "_________________________________________________________________\n",
      "time_distributed_12 (TimeDis (None, 30, 10, 10, 256)   295168    \n",
      "_________________________________________________________________\n",
      "time_distributed_13 (TimeDis (None, 30, 10, 10, 256)   1024      \n",
      "_________________________________________________________________\n",
      "time_distributed_14 (TimeDis (None, 30, 5, 5, 256)     0         \n",
      "_________________________________________________________________\n",
      "time_distributed_15 (TimeDis (None, 30, 6400)          0         \n",
      "_________________________________________________________________\n",
      "gru (GRU)                    (None, 128)               2507136   \n",
      "_________________________________________________________________\n",
      "dropout_8 (Dropout)          (None, 128)               0         \n",
      "_________________________________________________________________\n",
      "dense_12 (Dense)             (None, 128)               16512     \n",
      "_________________________________________________________________\n",
      "dropout_9 (Dropout)          (None, 128)               0         \n",
      "_________________________________________________________________\n",
      "dense_13 (Dense)             (None, 5)                 645       \n",
      "=================================================================\n",
      "Total params: 2,918,885\n",
      "Trainable params: 2,917,893\n",
      "Non-trainable params: 992\n",
      "_________________________________________________________________\n",
      "None\n",
      "Initializing model checkpoints\n",
      "WARNING:tensorflow:`period` argument is deprecated. Please use `save_freq` to specify the frequency in number of batches seen.\n",
      "Calculating steps per epoch and validation steps\n"
     ]
    }
   ],
   "source": [
    "batch_size=32\n",
    "num_epochs=20\n",
    "\n",
    "compile_and_summarize(0.0002)\n",
    "\n",
    "train_generator = generator(train_path, train_doc, batch_size)\n",
    "val_generator = generator(val_path, val_doc, batch_size)\n",
    "\n",
    "callbacks_list = model_checkpoints('model_init5')\n",
    "\n",
    "steps_per_epoch = calc_steps_per_epoch(batch_size)\n",
    "validation_steps = calc_validation_steps(batch_size)"
   ]
  },
  {
   "cell_type": "code",
   "execution_count": 31,
   "metadata": {},
   "outputs": [],
   "source": [
    "# history5 = model.fit_generator(train_generator, steps_per_epoch=steps_per_epoch, epochs=num_epochs, verbose=1, \n",
    "#                     callbacks=callbacks_list, validation_data=val_generator, \n",
    "#                     validation_steps=validation_steps, class_weight=None, workers=1, initial_epoch=0)"
   ]
  },
  {
   "cell_type": "code",
   "execution_count": 32,
   "metadata": {},
   "outputs": [],
   "source": [
    "# train_val_loss_plot(history5)"
   ]
  },
  {
   "cell_type": "markdown",
   "metadata": {},
   "source": [
    "<font color='blue'> CNN with GRU(RNN) also overfits.</font>"
   ]
  },
  {
   "cell_type": "markdown",
   "metadata": {},
   "source": [
    "# Model 6"
   ]
  },
  {
   "cell_type": "markdown",
   "metadata": {},
   "source": [
    "### CNN + GRU : Adding more dropout"
   ]
  },
  {
   "cell_type": "code",
   "execution_count": 33,
   "metadata": {},
   "outputs": [],
   "source": [
    "#CNN + GRU model\n",
    "model = Sequential()\n",
    "\n",
    "model.add(TimeDistributed(Conv2D(16, (3, 3) , padding='same', activation='relu'),\n",
    "                          input_shape=(30,image_height,image_width,3)))\n",
    "model.add(TimeDistributed(BatchNormalization()))\n",
    "\n",
    "model.add(TimeDistributed(MaxPooling2D((2, 2))))\n",
    "model.add(Dropout(0.5))\n",
    "\n",
    "model.add(TimeDistributed(Conv2D(32, (3, 3) , padding='same', activation='relu')))\n",
    "model.add(TimeDistributed(BatchNormalization()))\n",
    "\n",
    "model.add(TimeDistributed(MaxPooling2D((2, 2))))\n",
    "model.add(Dropout(0.5))\n",
    "\n",
    "model.add(TimeDistributed(Conv2D(64, (3, 3) , padding='same', activation='relu')))\n",
    "model.add(TimeDistributed(BatchNormalization()))\n",
    "\n",
    "model.add(TimeDistributed(MaxPooling2D((2, 2))))\n",
    "model.add(Dropout(0.5))\n",
    "\n",
    "model.add(TimeDistributed(Conv2D(128, (3, 3) , padding='same', activation='relu')))\n",
    "model.add(TimeDistributed(BatchNormalization()))\n",
    "\n",
    "model.add(TimeDistributed(MaxPooling2D((2, 2))))\n",
    "\n",
    "model.add(TimeDistributed(Conv2D(256, (3, 3) , padding='same', activation='relu')))\n",
    "model.add(TimeDistributed(BatchNormalization()))\n",
    "\n",
    "model.add(TimeDistributed(MaxPooling2D((2, 2))))\n",
    "\n",
    "model.add(TimeDistributed(Flatten()))\n",
    "\n",
    "\n",
    "model.add(GRU(128))\n",
    "model.add(Dropout(0.5))\n",
    "\n",
    "model.add(Dense(128,activation='relu'))\n",
    "model.add(Dropout(0.5))\n",
    "\n",
    "model.add(Dense(5, activation='softmax'))"
   ]
  },
  {
   "cell_type": "code",
   "execution_count": 34,
   "metadata": {},
   "outputs": [
    {
     "name": "stdout",
     "output_type": "stream",
     "text": [
      "Model: \"sequential_5\"\n",
      "_________________________________________________________________\n",
      "Layer (type)                 Output Shape              Param #   \n",
      "=================================================================\n",
      "time_distributed_16 (TimeDis (None, 30, 160, 160, 16)  448       \n",
      "_________________________________________________________________\n",
      "time_distributed_17 (TimeDis (None, 30, 160, 160, 16)  64        \n",
      "_________________________________________________________________\n",
      "time_distributed_18 (TimeDis (None, 30, 80, 80, 16)    0         \n",
      "_________________________________________________________________\n",
      "dropout_10 (Dropout)         (None, 30, 80, 80, 16)    0         \n",
      "_________________________________________________________________\n",
      "time_distributed_19 (TimeDis (None, 30, 80, 80, 32)    4640      \n",
      "_________________________________________________________________\n",
      "time_distributed_20 (TimeDis (None, 30, 80, 80, 32)    128       \n",
      "_________________________________________________________________\n",
      "time_distributed_21 (TimeDis (None, 30, 40, 40, 32)    0         \n",
      "_________________________________________________________________\n",
      "dropout_11 (Dropout)         (None, 30, 40, 40, 32)    0         \n",
      "_________________________________________________________________\n",
      "time_distributed_22 (TimeDis (None, 30, 40, 40, 64)    18496     \n",
      "_________________________________________________________________\n",
      "time_distributed_23 (TimeDis (None, 30, 40, 40, 64)    256       \n",
      "_________________________________________________________________\n",
      "time_distributed_24 (TimeDis (None, 30, 20, 20, 64)    0         \n",
      "_________________________________________________________________\n",
      "dropout_12 (Dropout)         (None, 30, 20, 20, 64)    0         \n",
      "_________________________________________________________________\n",
      "time_distributed_25 (TimeDis (None, 30, 20, 20, 128)   73856     \n",
      "_________________________________________________________________\n",
      "time_distributed_26 (TimeDis (None, 30, 20, 20, 128)   512       \n",
      "_________________________________________________________________\n",
      "time_distributed_27 (TimeDis (None, 30, 10, 10, 128)   0         \n",
      "_________________________________________________________________\n",
      "time_distributed_28 (TimeDis (None, 30, 10, 10, 256)   295168    \n",
      "_________________________________________________________________\n",
      "time_distributed_29 (TimeDis (None, 30, 10, 10, 256)   1024      \n",
      "_________________________________________________________________\n",
      "time_distributed_30 (TimeDis (None, 30, 5, 5, 256)     0         \n",
      "_________________________________________________________________\n",
      "time_distributed_31 (TimeDis (None, 30, 6400)          0         \n",
      "_________________________________________________________________\n",
      "gru_1 (GRU)                  (None, 128)               2507136   \n",
      "_________________________________________________________________\n",
      "dropout_13 (Dropout)         (None, 128)               0         \n",
      "_________________________________________________________________\n",
      "dense_14 (Dense)             (None, 128)               16512     \n",
      "_________________________________________________________________\n",
      "dropout_14 (Dropout)         (None, 128)               0         \n",
      "_________________________________________________________________\n",
      "dense_15 (Dense)             (None, 5)                 645       \n",
      "=================================================================\n",
      "Total params: 2,918,885\n",
      "Trainable params: 2,917,893\n",
      "Non-trainable params: 992\n",
      "_________________________________________________________________\n",
      "None\n",
      "Initializing model checkpoints\n",
      "WARNING:tensorflow:`period` argument is deprecated. Please use `save_freq` to specify the frequency in number of batches seen.\n",
      "Calculating steps per epoch and validation steps\n"
     ]
    }
   ],
   "source": [
    "batch_size=20\n",
    "num_epochs=40\n",
    "\n",
    "compile_and_summarize(0.0002)\n",
    "\n",
    "train_generator = generator(train_path, train_doc, batch_size)\n",
    "val_generator = generator(val_path, val_doc, batch_size)\n",
    "\n",
    "callbacks_list = model_checkpoints('model_init6')\n",
    "\n",
    "steps_per_epoch = calc_steps_per_epoch(batch_size)\n",
    "validation_steps = calc_validation_steps(batch_size)"
   ]
  },
  {
   "cell_type": "code",
   "execution_count": 35,
   "metadata": {},
   "outputs": [
    {
     "name": "stdout",
     "output_type": "stream",
     "text": [
      "Source path =  Project_data/train ; batch size = 20\n"
     ]
    },
    {
     "name": "stderr",
     "output_type": "stream",
     "text": [
      "2021-10-22 21:51:29.153957: I tensorflow/compiler/mlir/mlir_graph_optimization_pass.cc:185] None of the MLIR Optimization Passes are enabled (registered 2)\n"
     ]
    },
    {
     "name": "stdout",
     "output_type": "stream",
     "text": [
      "Epoch 1/40\n",
      "34/34 [==============================] - ETA: 0s - loss: 1.9697 - categorical_accuracy: 0.2247Source path =  Project_data/val ; batch size = 20\n",
      "34/34 [==============================] - 254s 7s/step - loss: 1.9697 - categorical_accuracy: 0.2247 - val_loss: 1.6912 - val_categorical_accuracy: 0.2100\n",
      "\n",
      "Epoch 00001: saving model to model_init6_2021-10-2221_51_24.592945/model-00001-1.96969-0.22474-1.69121-0.21000.h5\n",
      "Epoch 2/40\n",
      "34/34 [==============================] - 260s 8s/step - loss: 1.8106 - categorical_accuracy: 0.2685 - val_loss: 1.8913 - val_categorical_accuracy: 0.1900\n",
      "\n",
      "Epoch 00002: saving model to model_init6_2021-10-2221_51_24.592945/model-00002-1.81062-0.26848-1.89130-0.19000.h5\n",
      "Epoch 3/40\n",
      "34/34 [==============================] - 264s 8s/step - loss: 1.6470 - categorical_accuracy: 0.3303 - val_loss: 1.8761 - val_categorical_accuracy: 0.2500\n",
      "\n",
      "Epoch 00003: saving model to model_init6_2021-10-2221_51_24.592945/model-00003-1.64699-0.33032-1.87609-0.25000.h5\n",
      "Epoch 4/40\n",
      "34/34 [==============================] - 259s 8s/step - loss: 1.5958 - categorical_accuracy: 0.3243 - val_loss: 2.0993 - val_categorical_accuracy: 0.2100\n",
      "\n",
      "Epoch 00004: saving model to model_init6_2021-10-2221_51_24.592945/model-00004-1.59581-0.32428-2.09928-0.21000.h5\n",
      "Epoch 5/40\n",
      "34/34 [==============================] - 260s 8s/step - loss: 1.6000 - categorical_accuracy: 0.3394 - val_loss: 2.2468 - val_categorical_accuracy: 0.1900\n",
      "\n",
      "Epoch 00005: saving model to model_init6_2021-10-2221_51_24.592945/model-00005-1.60004-0.33937-2.24682-0.19000.h5\n",
      "Epoch 6/40\n",
      "34/34 [==============================] - 260s 8s/step - loss: 1.5558 - categorical_accuracy: 0.3514 - val_loss: 2.2011 - val_categorical_accuracy: 0.1900\n",
      "\n",
      "Epoch 00006: saving model to model_init6_2021-10-2221_51_24.592945/model-00006-1.55578-0.35143-2.20115-0.19000.h5\n",
      "\n",
      "Epoch 00006: ReduceLROnPlateau reducing learning rate to 3.9999998989515007e-05.\n",
      "Epoch 7/40\n",
      "34/34 [==============================] - 261s 8s/step - loss: 1.4888 - categorical_accuracy: 0.3560 - val_loss: 2.2638 - val_categorical_accuracy: 0.1500\n",
      "\n",
      "Epoch 00007: saving model to model_init6_2021-10-2221_51_24.592945/model-00007-1.48884-0.35596-2.26385-0.15000.h5\n",
      "Epoch 8/40\n",
      "34/34 [==============================] - 261s 8s/step - loss: 1.4148 - categorical_accuracy: 0.3891 - val_loss: 2.3255 - val_categorical_accuracy: 0.2200\n",
      "\n",
      "Epoch 00008: saving model to model_init6_2021-10-2221_51_24.592945/model-00008-1.41484-0.38914-2.32553-0.22000.h5\n",
      "Epoch 9/40\n",
      "34/34 [==============================] - 261s 8s/step - loss: 1.4056 - categorical_accuracy: 0.4193 - val_loss: 2.1351 - val_categorical_accuracy: 0.2000\n",
      "\n",
      "Epoch 00009: saving model to model_init6_2021-10-2221_51_24.592945/model-00009-1.40556-0.41931-2.13508-0.20000.h5\n",
      "Epoch 10/40\n",
      "34/34 [==============================] - 263s 8s/step - loss: 1.4014 - categorical_accuracy: 0.4087 - val_loss: 2.5404 - val_categorical_accuracy: 0.1100\n",
      "\n",
      "Epoch 00010: saving model to model_init6_2021-10-2221_51_24.592945/model-00010-1.40144-0.40875-2.54043-0.11000.h5\n",
      "Epoch 11/40\n",
      "34/34 [==============================] - 264s 8s/step - loss: 1.3633 - categorical_accuracy: 0.4344 - val_loss: 2.3144 - val_categorical_accuracy: 0.1800\n",
      "\n",
      "Epoch 00011: saving model to model_init6_2021-10-2221_51_24.592945/model-00011-1.36335-0.43439-2.31440-0.18000.h5\n",
      "\n",
      "Epoch 00011: ReduceLROnPlateau reducing learning rate to 7.999999797903002e-06.\n",
      "Epoch 12/40\n",
      "34/34 [==============================] - 265s 8s/step - loss: 1.3080 - categorical_accuracy: 0.4615 - val_loss: 2.3226 - val_categorical_accuracy: 0.2100\n",
      "\n",
      "Epoch 00012: saving model to model_init6_2021-10-2221_51_24.592945/model-00012-1.30798-0.46154-2.32264-0.21000.h5\n",
      "Epoch 13/40\n",
      "34/34 [==============================] - 264s 8s/step - loss: 1.2939 - categorical_accuracy: 0.4555 - val_loss: 2.3631 - val_categorical_accuracy: 0.1800\n",
      "\n",
      "Epoch 00013: saving model to model_init6_2021-10-2221_51_24.592945/model-00013-1.29395-0.45551-2.36312-0.18000.h5\n",
      "Epoch 14/40\n",
      "34/34 [==============================] - 265s 8s/step - loss: 1.3501 - categorical_accuracy: 0.4359 - val_loss: 2.2490 - val_categorical_accuracy: 0.2600\n",
      "\n",
      "Epoch 00014: saving model to model_init6_2021-10-2221_51_24.592945/model-00014-1.35012-0.43590-2.24895-0.26000.h5\n",
      "Epoch 15/40\n",
      "34/34 [==============================] - 264s 8s/step - loss: 1.3259 - categorical_accuracy: 0.4585 - val_loss: 2.3511 - val_categorical_accuracy: 0.2100\n",
      "\n",
      "Epoch 00015: saving model to model_init6_2021-10-2221_51_24.592945/model-00015-1.32586-0.45852-2.35109-0.21000.h5\n",
      "Epoch 16/40\n",
      "34/34 [==============================] - 268s 8s/step - loss: 1.3028 - categorical_accuracy: 0.4510 - val_loss: 2.2125 - val_categorical_accuracy: 0.2100\n",
      "\n",
      "Epoch 00016: saving model to model_init6_2021-10-2221_51_24.592945/model-00016-1.30277-0.45098-2.21248-0.21000.h5\n",
      "\n",
      "Epoch 00016: ReduceLROnPlateau reducing learning rate to 1.5999999959603884e-06.\n",
      "Epoch 17/40\n",
      "34/34 [==============================] - 267s 8s/step - loss: 1.2779 - categorical_accuracy: 0.4480 - val_loss: 2.2402 - val_categorical_accuracy: 0.2100\n",
      "\n",
      "Epoch 00017: saving model to model_init6_2021-10-2221_51_24.592945/model-00017-1.27794-0.44796-2.24016-0.21000.h5\n",
      "Epoch 18/40\n",
      "34/34 [==============================] - 268s 8s/step - loss: 1.2809 - categorical_accuracy: 0.4389 - val_loss: 2.1483 - val_categorical_accuracy: 0.2000\n",
      "\n",
      "Epoch 00018: saving model to model_init6_2021-10-2221_51_24.592945/model-00018-1.28092-0.43891-2.14832-0.20000.h5\n",
      "Epoch 19/40\n",
      "34/34 [==============================] - 269s 8s/step - loss: 1.3223 - categorical_accuracy: 0.4525 - val_loss: 2.2665 - val_categorical_accuracy: 0.1600\n",
      "\n",
      "Epoch 00019: saving model to model_init6_2021-10-2221_51_24.592945/model-00019-1.32232-0.45249-2.26653-0.16000.h5\n",
      "Epoch 20/40\n",
      "34/34 [==============================] - 269s 8s/step - loss: 1.3115 - categorical_accuracy: 0.4434 - val_loss: 2.0182 - val_categorical_accuracy: 0.2700\n",
      "\n",
      "Epoch 00020: saving model to model_init6_2021-10-2221_51_24.592945/model-00020-1.31153-0.44344-2.01823-0.27000.h5\n",
      "Epoch 21/40\n",
      "34/34 [==============================] - 270s 8s/step - loss: 1.3273 - categorical_accuracy: 0.4419 - val_loss: 2.1270 - val_categorical_accuracy: 0.2100\n",
      "\n",
      "Epoch 00021: saving model to model_init6_2021-10-2221_51_24.592945/model-00021-1.32733-0.44193-2.12703-0.21000.h5\n",
      "\n",
      "Epoch 00021: ReduceLROnPlateau reducing learning rate to 3.200000037395512e-07.\n",
      "Epoch 22/40\n",
      "34/34 [==============================] - 269s 8s/step - loss: 1.3169 - categorical_accuracy: 0.4208 - val_loss: 2.1856 - val_categorical_accuracy: 0.1800\n",
      "\n",
      "Epoch 00022: saving model to model_init6_2021-10-2221_51_24.592945/model-00022-1.31687-0.42081-2.18559-0.18000.h5\n",
      "Epoch 23/40\n",
      "34/34 [==============================] - 271s 8s/step - loss: 1.3491 - categorical_accuracy: 0.3906 - val_loss: 2.1579 - val_categorical_accuracy: 0.2000\n",
      "\n",
      "Epoch 00023: saving model to model_init6_2021-10-2221_51_24.592945/model-00023-1.34915-0.39065-2.15788-0.20000.h5\n",
      "Epoch 24/40\n",
      "34/34 [==============================] - 274s 8s/step - loss: 1.3070 - categorical_accuracy: 0.4465 - val_loss: 2.1367 - val_categorical_accuracy: 0.2000\n",
      "\n",
      "Epoch 00024: saving model to model_init6_2021-10-2221_51_24.592945/model-00024-1.30702-0.44646-2.13667-0.20000.h5\n",
      "Epoch 25/40\n",
      "34/34 [==============================] - 274s 8s/step - loss: 1.3337 - categorical_accuracy: 0.4329 - val_loss: 2.0525 - val_categorical_accuracy: 0.2300\n",
      "\n",
      "Epoch 00025: saving model to model_init6_2021-10-2221_51_24.592945/model-00025-1.33373-0.43288-2.05251-0.23000.h5\n",
      "Epoch 26/40\n",
      "34/34 [==============================] - 274s 8s/step - loss: 1.3037 - categorical_accuracy: 0.4615 - val_loss: 2.1030 - val_categorical_accuracy: 0.2100\n",
      "\n",
      "Epoch 00026: saving model to model_init6_2021-10-2221_51_24.592945/model-00026-1.30368-0.46154-2.10303-0.21000.h5\n",
      "\n",
      "Epoch 00026: ReduceLROnPlateau reducing learning rate to 6.399999961104187e-08.\n",
      "Epoch 27/40\n",
      "34/34 [==============================] - 273s 8s/step - loss: 1.3187 - categorical_accuracy: 0.4299 - val_loss: 2.0358 - val_categorical_accuracy: 0.2400\n",
      "\n",
      "Epoch 00027: saving model to model_init6_2021-10-2221_51_24.592945/model-00027-1.31868-0.42986-2.03578-0.24000.h5\n",
      "Epoch 28/40\n",
      "34/34 [==============================] - 274s 8s/step - loss: 1.3212 - categorical_accuracy: 0.4103 - val_loss: 2.1746 - val_categorical_accuracy: 0.2000\n",
      "\n",
      "Epoch 00028: saving model to model_init6_2021-10-2221_51_24.592945/model-00028-1.32116-0.41026-2.17457-0.20000.h5\n",
      "Epoch 29/40\n",
      "34/34 [==============================] - 275s 8s/step - loss: 1.2580 - categorical_accuracy: 0.4736 - val_loss: 2.1562 - val_categorical_accuracy: 0.1500\n",
      "\n",
      "Epoch 00029: saving model to model_init6_2021-10-2221_51_24.592945/model-00029-1.25795-0.47360-2.15619-0.15000.h5\n",
      "Epoch 30/40\n",
      "34/34 [==============================] - 275s 8s/step - loss: 1.2383 - categorical_accuracy: 0.4676 - val_loss: 2.1409 - val_categorical_accuracy: 0.1900\n",
      "\n",
      "Epoch 00030: saving model to model_init6_2021-10-2221_51_24.592945/model-00030-1.23829-0.46757-2.14085-0.19000.h5\n",
      "Epoch 31/40\n",
      "34/34 [==============================] - 274s 8s/step - loss: 1.2819 - categorical_accuracy: 0.4495 - val_loss: 2.0984 - val_categorical_accuracy: 0.2100\n",
      "\n",
      "Epoch 00031: saving model to model_init6_2021-10-2221_51_24.592945/model-00031-1.28194-0.44947-2.09843-0.21000.h5\n",
      "\n",
      "Epoch 00031: ReduceLROnPlateau reducing learning rate to 1.2799999637991278e-08.\n",
      "Epoch 32/40\n",
      "34/34 [==============================] - 275s 8s/step - loss: 1.2764 - categorical_accuracy: 0.4540 - val_loss: 2.1296 - val_categorical_accuracy: 0.2000\n",
      "\n",
      "Epoch 00032: saving model to model_init6_2021-10-2221_51_24.592945/model-00032-1.27636-0.45400-2.12961-0.20000.h5\n",
      "Epoch 33/40\n",
      "34/34 [==============================] - 276s 8s/step - loss: 1.3289 - categorical_accuracy: 0.4449 - val_loss: 2.2058 - val_categorical_accuracy: 0.1600\n",
      "\n",
      "Epoch 00033: saving model to model_init6_2021-10-2221_51_24.592945/model-00033-1.32888-0.44495-2.20578-0.16000.h5\n",
      "Epoch 34/40\n",
      "34/34 [==============================] - 276s 8s/step - loss: 1.2701 - categorical_accuracy: 0.4555 - val_loss: 2.0385 - val_categorical_accuracy: 0.2300\n",
      "\n",
      "Epoch 00034: saving model to model_init6_2021-10-2221_51_24.592945/model-00034-1.27007-0.45551-2.03852-0.23000.h5\n",
      "Epoch 35/40\n",
      "34/34 [==============================] - 277s 8s/step - loss: 1.3414 - categorical_accuracy: 0.4449 - val_loss: 2.1480 - val_categorical_accuracy: 0.2000\n",
      "\n",
      "Epoch 00035: saving model to model_init6_2021-10-2221_51_24.592945/model-00035-1.34136-0.44495-2.14801-0.20000.h5\n",
      "Epoch 36/40\n",
      "34/34 [==============================] - 275s 8s/step - loss: 1.3354 - categorical_accuracy: 0.4268 - val_loss: 2.0969 - val_categorical_accuracy: 0.2100\n",
      "\n",
      "Epoch 00036: saving model to model_init6_2021-10-2221_51_24.592945/model-00036-1.33544-0.42685-2.09689-0.21000.h5\n",
      "\n",
      "Epoch 00036: ReduceLROnPlateau reducing learning rate to 2.559999856543982e-09.\n",
      "Epoch 37/40\n",
      "34/34 [==============================] - 277s 8s/step - loss: 1.3343 - categorical_accuracy: 0.4465 - val_loss: 2.0807 - val_categorical_accuracy: 0.2200\n",
      "\n",
      "Epoch 00037: saving model to model_init6_2021-10-2221_51_24.592945/model-00037-1.33426-0.44646-2.08071-0.22000.h5\n",
      "Epoch 38/40\n",
      "34/34 [==============================] - 276s 8s/step - loss: 1.2802 - categorical_accuracy: 0.4389 - val_loss: 2.0836 - val_categorical_accuracy: 0.2200\n",
      "\n",
      "Epoch 00038: saving model to model_init6_2021-10-2221_51_24.592945/model-00038-1.28018-0.43891-2.08357-0.22000.h5\n",
      "Epoch 39/40\n",
      "34/34 [==============================] - 278s 8s/step - loss: 1.3170 - categorical_accuracy: 0.4359 - val_loss: 2.0547 - val_categorical_accuracy: 0.2300\n",
      "\n",
      "Epoch 00039: saving model to model_init6_2021-10-2221_51_24.592945/model-00039-1.31701-0.43590-2.05471-0.23000.h5\n",
      "Epoch 40/40\n",
      "34/34 [==============================] - 279s 8s/step - loss: 1.3243 - categorical_accuracy: 0.4404 - val_loss: 2.0697 - val_categorical_accuracy: 0.2200\n",
      "\n",
      "Epoch 00040: saving model to model_init6_2021-10-2221_51_24.592945/model-00040-1.32426-0.44042-2.06974-0.22000.h5\n"
     ]
    }
   ],
   "source": [
    "history6 = model.fit_generator(train_generator, steps_per_epoch=steps_per_epoch, epochs=num_epochs, verbose=1, \n",
    "                    callbacks=callbacks_list, validation_data=val_generator, \n",
    "                    validation_steps=validation_steps, class_weight=None, workers=1, initial_epoch=0)"
   ]
  },
  {
   "cell_type": "code",
   "execution_count": 36,
   "metadata": {},
   "outputs": [
    {
     "data": {
      "image/png": "[encoded data removed]",
      "text/plain": [
       "<Figure size 1080x288 with 2 Axes>"
      ]
     },
     "metadata": {
      "needs_background": "light"
     },
     "output_type": "display_data"
    }
   ],
   "source": [
    "train_val_loss_plot(history6)"
   ]
  },
  {
   "cell_type": "code",
   "execution_count": null,
   "metadata": {},
   "outputs": [],
   "source": []
  }
 ],
 "metadata": {
  "kernelspec": {
   "display_name": "Python 3",
   "language": "python",
   "name": "python3"
  },
  "language_info": {
   "codemirror_mode": {
    "name": "ipython",
    "version": 3
   },
   "file_extension": ".py",
   "mimetype": "text/x-python",
   "name": "python",
   "nbconvert_exporter": "python",
   "pygments_lexer": "ipython3",
   "version": "3.6.9"
  }
 },
 "nbformat": 4,
 "nbformat_minor": 4
}
