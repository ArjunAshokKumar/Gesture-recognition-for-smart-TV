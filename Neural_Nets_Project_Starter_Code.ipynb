{
 "cells": [
  {
   "cell_type": "markdown",
   "metadata": {},
   "source": [
    "# Gesture Recognition\n",
    "In this group project, you are going to build a 3D Conv model that will be able to predict the 5 gestures correctly. Please import the following libraries to get started."
   ]
  },
  {
   "cell_type": "code",
   "execution_count": 84,
   "metadata": {},
   "outputs": [
    {
     "name": "stdout",
     "output_type": "stream",
     "text": [
      "Requirement already satisfied: imageio in /home/ajaxgen/anaconda3/envs/msmlai/lib/python3.9/site-packages (2.9.0)\n",
      "Requirement already satisfied: numpy in /home/ajaxgen/anaconda3/envs/msmlai/lib/python3.9/site-packages (from imageio) (1.19.5)\n",
      "Requirement already satisfied: pillow in /home/ajaxgen/anaconda3/envs/msmlai/lib/python3.9/site-packages (from imageio) (8.3.1)\n",
      "Requirement already satisfied: scikit-image in /home/ajaxgen/anaconda3/envs/msmlai/lib/python3.9/site-packages (0.18.3)\n",
      "Requirement already satisfied: pillow!=7.1.0,!=7.1.1,>=4.3.0 in /home/ajaxgen/anaconda3/envs/msmlai/lib/python3.9/site-packages (from scikit-image) (8.3.1)\n",
      "Requirement already satisfied: tifffile>=2019.7.26 in /home/ajaxgen/anaconda3/envs/msmlai/lib/python3.9/site-packages (from scikit-image) (2021.10.12)\n",
      "Requirement already satisfied: numpy>=1.16.5 in /home/ajaxgen/anaconda3/envs/msmlai/lib/python3.9/site-packages (from scikit-image) (1.19.5)\n",
      "Requirement already satisfied: imageio>=2.3.0 in /home/ajaxgen/anaconda3/envs/msmlai/lib/python3.9/site-packages (from scikit-image) (2.9.0)\n",
      "Requirement already satisfied: networkx>=2.0 in /home/ajaxgen/anaconda3/envs/msmlai/lib/python3.9/site-packages (from scikit-image) (2.6.3)\n",
      "Requirement already satisfied: scipy>=1.0.1 in /home/ajaxgen/anaconda3/envs/msmlai/lib/python3.9/site-packages (from scikit-image) (1.7.1)\n",
      "Requirement already satisfied: matplotlib!=3.0.0,>=2.0.0 in /home/ajaxgen/anaconda3/envs/msmlai/lib/python3.9/site-packages (from scikit-image) (3.4.2)\n",
      "Requirement already satisfied: PyWavelets>=1.1.1 in /home/ajaxgen/anaconda3/envs/msmlai/lib/python3.9/site-packages (from scikit-image) (1.1.1)\n",
      "Requirement already satisfied: cycler>=0.10 in /home/ajaxgen/anaconda3/envs/msmlai/lib/python3.9/site-packages (from matplotlib!=3.0.0,>=2.0.0->scikit-image) (0.10.0)\n",
      "Requirement already satisfied: kiwisolver>=1.0.1 in /home/ajaxgen/anaconda3/envs/msmlai/lib/python3.9/site-packages (from matplotlib!=3.0.0,>=2.0.0->scikit-image) (1.3.1)\n",
      "Requirement already satisfied: pyparsing>=2.2.1 in /home/ajaxgen/anaconda3/envs/msmlai/lib/python3.9/site-packages (from matplotlib!=3.0.0,>=2.0.0->scikit-image) (2.4.7)\n",
      "Requirement already satisfied: python-dateutil>=2.7 in /home/ajaxgen/anaconda3/envs/msmlai/lib/python3.9/site-packages (from matplotlib!=3.0.0,>=2.0.0->scikit-image) (2.8.2)\n",
      "Requirement already satisfied: six in /home/ajaxgen/anaconda3/envs/msmlai/lib/python3.9/site-packages (from cycler>=0.10->matplotlib!=3.0.0,>=2.0.0->scikit-image) (1.15.0)\n"
     ]
    }
   ],
   "source": [
    "# Install imageio for imread as imread from scipy.misc is deprecated\n",
    "\n",
    "!pip install imageio\n",
    "#!pip install opencv-python\n",
    "!pip install scikit-image"
   ]
  },
  {
   "cell_type": "code",
   "execution_count": 85,
   "metadata": {},
   "outputs": [],
   "source": [
    "import numpy as np\n",
    "import os\n",
    "\n",
    "# following in deprecated:\n",
    "# from scipy.misc import imread, imresize\n",
    "from imageio import imread\n",
    "from skimage.transform import resize\n",
    "from PIL import Image\n",
    "#import cv2\n",
    "\n",
    "import datetime\n",
    "import os\n",
    "\n",
    "import matplotlib.pyplot as plt\n",
    "%matplotlib inline"
   ]
  },
  {
   "cell_type": "code",
   "execution_count": 86,
   "metadata": {},
   "outputs": [],
   "source": [
    "#ignore warnings\n",
    "import warnings\n",
    "warnings.filterwarnings(\"ignore\")"
   ]
  },
  {
   "cell_type": "markdown",
   "metadata": {},
   "source": [
    "We set the random seed so that the results don't vary drastically."
   ]
  },
  {
   "cell_type": "code",
   "execution_count": 87,
   "metadata": {},
   "outputs": [],
   "source": [
    "np.random.seed(30)\n",
    "import random as rn\n",
    "rn.seed(30)\n",
    "from keras import backend as K\n",
    "import tensorflow as tf\n",
    "\n",
    "# set_random_seed is deprecated.\n",
    "# tf.set_random_seed(30)\n",
    "tf.random.set_seed(30)"
   ]
  },
  {
   "cell_type": "markdown",
   "metadata": {},
   "source": [
    "In this block, you read the folder names for training and validation. You also set the `batch_size` here. Note that you set the batch size in such a way that you are able to use the GPU in full capacity. You keep increasing the batch size until the machine throws an error."
   ]
  },
  {
   "cell_type": "code",
   "execution_count": 88,
   "metadata": {},
   "outputs": [],
   "source": [
    "# train_doc = np.random.permutation(open('/notebooks/storage/Final_data/Collated_training/train.csv').readlines())\n",
    "# val_doc = np.random.permutation(open('/notebooks/storage/Final_data/Collated_training/val.csv').readlines())\n",
    "\n",
    "train_doc = np.random.permutation(open('Project_data/train.csv').readlines())\n",
    "val_doc = np.random.permutation(open('Project_data/val.csv').readlines())\n",
    "\n",
    "batch_size = 64 #experiment with the batch size"
   ]
  },
  {
   "cell_type": "markdown",
   "metadata": {},
   "source": [
    "## Generator\n",
    "This is one of the most important part of the code. The overall structure of the generator has been given. In the generator, you are going to preprocess the images as you have images of 2 different dimensions as well as create a batch of video frames. You have to experiment with `img_idx`, `y`,`z` and normalization such that you get high accuracy."
   ]
  },
  {
   "cell_type": "code",
   "execution_count": 89,
   "metadata": {},
   "outputs": [],
   "source": [
    "def generator(source_path, folder_list, batch_size):\n",
    "    print( 'Source path = ', source_path, '; batch size =', batch_size)\n",
    "    img_idx = np.round(np.linspace(0, 29, 30)).astype(int) #list of image numbers for video.\n",
    "    while True:\n",
    "        t = np.random.permutation(folder_list)\n",
    "        if len(t) % batch_size == 0: # if divisible by batch_size\n",
    "            num_batches = int(len(t)/batch_size)\n",
    "        else:  #if not divisible by batch_size\n",
    "            num_batches = len(t) // batch_size\n",
    "            last_batch_size = len(t) % batch_size #surplus in the last batch\n",
    "        \n",
    "        for batch in range(num_batches): # we iterate over the number of batches\n",
    "            batch_data = np.zeros((batch_size,len(img_idx),160,160,3)) # x is the number of images you use for each video, (y,z) is the final size of the input images and 3 is the number of channels RGB\n",
    "            batch_labels = np.zeros((batch_size,5)) # batch_labels is the one hot representation of the output\n",
    "            for folder in range(batch_size): # iterate over the batch_size\n",
    "                imgs = os.listdir(source_path+'/'+ t[folder + (batch*batch_size)].split(';')[0]) # read all the images in the folder\n",
    "                for idx,item in enumerate(img_idx): #  Iterate iver the frames/images of a folder to read them in\n",
    "                    image = imread(source_path+'/'+ t[folder + (batch*batch_size)].strip().split(';')[0]+'/'+imgs[item]).astype(np.float32)\n",
    "                    \n",
    "                    #crop the images and resize them. Note that the images are of 2 different shape \n",
    "                    #and the conv3D will throw error if the inputs in a batch have different shapes\n",
    "                    resized_image = resize(image,(160,160))\n",
    "                    \n",
    "                    batch_data[folder,idx,:,:,0] = (resized_image[:,:,0])/255\n",
    "                    batch_data[folder,idx,:,:,1] = (resized_image[:,:,1])/255\n",
    "                    batch_data[folder,idx,:,:,2] = (resized_image[:,:,2])/255\n",
    "                    \n",
    "                batch_labels[folder, int(t[folder + (batch*batch_size)].strip().split(';')[2])] = 1\n",
    "            yield batch_data, batch_labels #you yield the batch_data and the batch_labels, remember what does yield do\n",
    "\n",
    "        \n",
    "        # write the code for the remaining data points which are left after full batches\n",
    "        batch_data = np.zeros((last_batch_size,len(img_idx),160,160,3)) # x is the number of images you use for each video, (y,z) is the final size of the input images and 3 is the number of channels RGB\n",
    "        batch_labels = np.zeros((last_batch_size,5)) # batch_labels is the one hot representation of the output\n",
    "        for folder in range(last_batch_size): # iterate over the batch_size\n",
    "            imgs = os.listdir(source_path+'/'+ t[folder + (batch*last_batch_size)].split(';')[0]) # read all the images in the folder\n",
    "            for idx,item in enumerate(img_idx): #  Iterate iver the frames/images of a folder to read them in\n",
    "                image = imread(source_path+'/'+ t[folder + (batch*last_batch_size)].strip().split(';')[0]+'/'+imgs[item]).astype(np.float32)\n",
    "                resized_image = resize(image,(160,160))\n",
    "\n",
    "                batch_data[folder,idx,:,:,0] = (resized_image[:,:,0])/255\n",
    "                batch_data[folder,idx,:,:,1] = (resized_image[:,:,1])/255\n",
    "                batch_data[folder,idx,:,:,2] = (resized_image[:,:,2])/255\n",
    "\n",
    "            batch_labels[folder, int(t[folder + (batch*batch_size)].strip().split(';')[2])] = 1\n",
    "        yield batch_data, batch_labels\n"
   ]
  },
  {
   "cell_type": "markdown",
   "metadata": {},
   "source": [
    "Note here that a video is represented above in the generator as (number of images, height, width, number of channels). Take this into consideration while creating the model architecture."
   ]
  },
  {
   "cell_type": "code",
   "execution_count": 90,
   "metadata": {},
   "outputs": [
    {
     "name": "stdout",
     "output_type": "stream",
     "text": [
      "# training sequences = 663\n",
      "# validation sequences = 100\n",
      "# epochs = 20\n"
     ]
    }
   ],
   "source": [
    "curr_dt_time = datetime.datetime.now()\n",
    "# train_path = '/notebooks/storage/Final_data/Collated_training/train'\n",
    "# val_path = '/notebooks/storage/Final_data/Collated_training/val'\n",
    "train_path = 'Project_data/train'\n",
    "val_path = 'Project_data/val'\n",
    "num_train_sequences = len(train_doc)\n",
    "print('# training sequences =', num_train_sequences)\n",
    "num_val_sequences = len(val_doc)\n",
    "print('# validation sequences =', num_val_sequences)\n",
    "num_epochs = 20# choose the number of epochs\n",
    "print ('# epochs =', num_epochs)"
   ]
  },
  {
   "cell_type": "markdown",
   "metadata": {},
   "source": [
    "# Model 1 - Conv3D\n",
    "## Batch size = 64, No. of Epochs  = 20"
   ]
  },
  {
   "cell_type": "markdown",
   "metadata": {},
   "source": [
    "Here you make the model using different functionalities that Keras provides. Remember to use `Conv3D` and `MaxPooling3D` and not `Conv2D` and `Maxpooling2D` for a 3D convolution model. You would want to use `TimeDistributed` while building a Conv2D + RNN model. Also remember that the last layer is the softmax. Design the network in such a way that the model is able to give good accuracy on the least number of parameters so that it can fit in the memory of the webcam."
   ]
  },
  {
   "cell_type": "code",
   "execution_count": 91,
   "metadata": {},
   "outputs": [],
   "source": [
    "from keras.models import Sequential, Model\n",
    "from keras.layers import Dense, GRU, Flatten, TimeDistributed, Flatten, BatchNormalization, Activation, Dropout\n",
    "from keras.layers.convolutional import Conv3D, MaxPooling3D\n",
    "from keras.callbacks import ModelCheckpoint, ReduceLROnPlateau\n",
    "from keras import optimizers"
   ]
  },
  {
   "cell_type": "code",
   "execution_count": 92,
   "metadata": {},
   "outputs": [],
   "source": [
    "# Conv3D model\n",
    "model = Sequential()\n",
    "model.add(Conv3D(16, (3,3,3), # filters, kernel size\n",
    "                 padding = 'same', \n",
    "                 input_shape = (30,160,160,3))) #frames to sample, height, weight, channels\n",
    "model.add(Activation('relu'))\n",
    "model.add(BatchNormalization())\n",
    "model.add(MaxPooling3D(pool_size=(2,2,2)))\n",
    "\n",
    "model.add(Conv3D(32, (2, 2, 2), padding='same'))\n",
    "model.add(Activation('relu'))\n",
    "model.add(BatchNormalization())\n",
    "model.add(MaxPooling3D(pool_size=(2, 2, 2)))\n",
    "\n",
    "model.add(Conv3D(64, (2, 2, 2), padding='same'))\n",
    "model.add(Activation('relu'))\n",
    "model.add(BatchNormalization())\n",
    "model.add(MaxPooling3D(pool_size=(2, 2, 2)))\n",
    "\n",
    "model.add(Flatten())\n",
    "model.add(Dense(64,activation='relu'))\n",
    "model.add(BatchNormalization())\n",
    "model.add(Dropout(0.5))\n",
    "\n",
    "model.add(Dense(64,activation='relu'))\n",
    "model.add(BatchNormalization())\n",
    "model.add(Dropout(0.25))\n",
    "model.add(Dense(5,activation='softmax'))"
   ]
  },
  {
   "cell_type": "markdown",
   "metadata": {},
   "source": [
    "Now that you have written the model, the next step is to `compile` the model. When you print the `summary` of the model, you'll see the total number of parameters you have to train."
   ]
  },
  {
   "cell_type": "code",
   "execution_count": 93,
   "metadata": {
    "scrolled": true
   },
   "outputs": [
    {
     "name": "stdout",
     "output_type": "stream",
     "text": [
      "Model: \"sequential_10\"\n",
      "_________________________________________________________________\n",
      "Layer (type)                 Output Shape              Param #   \n",
      "=================================================================\n",
      "conv3d_36 (Conv3D)           (None, 30, 160, 160, 16)  1312      \n",
      "_________________________________________________________________\n",
      "activation_36 (Activation)   (None, 30, 160, 160, 16)  0         \n",
      "_________________________________________________________________\n",
      "batch_normalization_56 (Batc (None, 30, 160, 160, 16)  64        \n",
      "_________________________________________________________________\n",
      "max_pooling3d_36 (MaxPooling (None, 15, 80, 80, 16)    0         \n",
      "_________________________________________________________________\n",
      "conv3d_37 (Conv3D)           (None, 15, 80, 80, 32)    4128      \n",
      "_________________________________________________________________\n",
      "activation_37 (Activation)   (None, 15, 80, 80, 32)    0         \n",
      "_________________________________________________________________\n",
      "batch_normalization_57 (Batc (None, 15, 80, 80, 32)    128       \n",
      "_________________________________________________________________\n",
      "max_pooling3d_37 (MaxPooling (None, 7, 40, 40, 32)     0         \n",
      "_________________________________________________________________\n",
      "conv3d_38 (Conv3D)           (None, 7, 40, 40, 64)     16448     \n",
      "_________________________________________________________________\n",
      "activation_38 (Activation)   (None, 7, 40, 40, 64)     0         \n",
      "_________________________________________________________________\n",
      "batch_normalization_58 (Batc (None, 7, 40, 40, 64)     256       \n",
      "_________________________________________________________________\n",
      "max_pooling3d_38 (MaxPooling (None, 3, 20, 20, 64)     0         \n",
      "_________________________________________________________________\n",
      "flatten_10 (Flatten)         (None, 76800)             0         \n",
      "_________________________________________________________________\n",
      "dense_30 (Dense)             (None, 64)                4915264   \n",
      "_________________________________________________________________\n",
      "batch_normalization_59 (Batc (None, 64)                256       \n",
      "_________________________________________________________________\n",
      "dropout_20 (Dropout)         (None, 64)                0         \n",
      "_________________________________________________________________\n",
      "dense_31 (Dense)             (None, 64)                4160      \n",
      "_________________________________________________________________\n",
      "batch_normalization_60 (Batc (None, 64)                256       \n",
      "_________________________________________________________________\n",
      "dropout_21 (Dropout)         (None, 64)                0         \n",
      "_________________________________________________________________\n",
      "dense_32 (Dense)             (None, 5)                 325       \n",
      "=================================================================\n",
      "Total params: 4,942,597\n",
      "Trainable params: 4,942,117\n",
      "Non-trainable params: 480\n",
      "_________________________________________________________________\n",
      "None\n"
     ]
    }
   ],
   "source": [
    "def compile_and_summarize(optimiser='adam'): #optimiser is adam unless specified otherwise\n",
    "    #optimiser = 'adam'\n",
    "    model.compile(optimizer=optimiser, loss='categorical_crossentropy', metrics=['categorical_accuracy'])\n",
    "    print (model.summary())\n",
    "\n",
    "compile_and_summarize()"
   ]
  },
  {
   "cell_type": "markdown",
   "metadata": {},
   "source": [
    "Let us create the `train_generator` and the `val_generator` which will be used in `.fit_generator`."
   ]
  },
  {
   "cell_type": "code",
   "execution_count": 94,
   "metadata": {},
   "outputs": [],
   "source": [
    "train_generator = generator(train_path, train_doc, batch_size)\n",
    "val_generator = generator(val_path, val_doc, batch_size)"
   ]
  },
  {
   "cell_type": "code",
   "execution_count": 95,
   "metadata": {},
   "outputs": [
    {
     "name": "stdout",
     "output_type": "stream",
     "text": [
      "Initializing model checkpoints\n",
      "WARNING:tensorflow:`period` argument is deprecated. Please use `save_freq` to specify the frequency in number of batches seen.\n"
     ]
    }
   ],
   "source": [
    "def model_checkpoints(model_prefix = 'model_init'):\n",
    "    print('Initializing model checkpoints')\n",
    "    model_name = model_prefix + '_' + str(curr_dt_time).replace(' ','').replace(':','_') + '/'\n",
    "\n",
    "    if not os.path.exists(model_name):\n",
    "        os.mkdir(model_name)\n",
    "\n",
    "    filepath = model_name + 'model-{epoch:05d}-{loss:.5f}-{categorical_accuracy:.5f}-{val_loss:.5f}-{val_categorical_accuracy:.5f}.h5'\n",
    "\n",
    "    checkpoint = ModelCheckpoint(filepath, monitor='val_loss', verbose=1, save_best_only=False, save_weights_only=False, mode='auto', period=1)\n",
    "\n",
    "    #reduce learning rate when val_loss has stopped improving.\n",
    "    #monitor -> metric to monitor\n",
    "    #verbose -> prints message to stdout\n",
    "    #patience -> number of epochs with no imporvement after which learning rate is reduced\n",
    "    #factor -> factor by which learning rate is reduced.\n",
    "    LR = ReduceLROnPlateau(monitor='val_loss', factor= 0.2, verbose=1,patience=5)\n",
    "    callbacks_list = [checkpoint, LR]\n",
    "    return callbacks_list\n",
    "\n",
    "callbacks_list = model_checkpoints()"
   ]
  },
  {
   "cell_type": "markdown",
   "metadata": {},
   "source": [
    "The `steps_per_epoch` and `validation_steps` are used by `fit_generator` to decide the number of next() calls it need to make."
   ]
  },
  {
   "cell_type": "code",
   "execution_count": 96,
   "metadata": {},
   "outputs": [
    {
     "name": "stdout",
     "output_type": "stream",
     "text": [
      "Calculating steps per epoch and validation steps\n"
     ]
    }
   ],
   "source": [
    "def calc_steps_per_epoch(btch_size=64):\n",
    "    print('Calculating steps per epoch and validation steps')\n",
    "    if (num_train_sequences%btch_size) == 0:\n",
    "        steps_per_epoch = int(num_train_sequences/btch_size)\n",
    "    else:\n",
    "        steps_per_epoch = (num_train_sequences//btch_size) + 1\n",
    "    return steps_per_epoch\n",
    "\n",
    "def calc_validation_steps(btch_size=64):\n",
    "    if (num_val_sequences%btch_size) == 0:\n",
    "        validation_steps = int(num_val_sequences/btch_size)\n",
    "    else:\n",
    "        validation_steps = (num_val_sequences//btch_size) + 1\n",
    "    return validation_steps\n",
    "\n",
    "steps_per_epoch = calc_steps_per_epoch(batch_size)\n",
    "validation_steps = calc_validation_steps(batch_size)"
   ]
  },
  {
   "cell_type": "markdown",
   "metadata": {},
   "source": [
    "Let us now fit the model. This will start training the model and with the help of the checkpoints, you'll be able to save the model at the end of each epoch."
   ]
  },
  {
   "cell_type": "code",
   "execution_count": 97,
   "metadata": {},
   "outputs": [],
   "source": [
    "history = model.fit_generator(train_generator, steps_per_epoch=steps_per_epoch, epochs=num_epochs, verbose=1, \n",
    "                    callbacks=callbacks_list, validation_data=val_generator, \n",
    "                    validation_steps=validation_steps, class_weight=None, workers=1, initial_epoch=0)"
   ]
  },
  {
   "cell_type": "code",
   "execution_count": 98,
   "metadata": {},
   "outputs": [],
   "source": [
    "def train_val_loss_plot(history):\n",
    "    fig, axes = plt.subplots(nrows=1, ncols=2, figsize=(15,4))\n",
    "    axes[0].plot(history.history['loss'])   \n",
    "    axes[0].plot(history.history['val_loss'])\n",
    "    axes[0].legend(['loss','val_loss'])\n",
    "\n",
    "    axes[1].plot(history.history['categorical_accuracy'])   \n",
    "    axes[1].plot(history.history['val_categorical_accuracy'])\n",
    "    axes[1].legend(['categorical_accuracy','val_categorical_accuracy'])\n",
    "\n",
    "train_val_loss_plot(history)"
   ]
  },
  {
   "cell_type": "markdown",
   "metadata": {},
   "source": [
    "<font color='blue'>\n",
    "    The above graph shows this model to be overfitted as the training loss is low while the validation loss is high. Accuracy is also not as high as expected. We can try with a more complex model to increase the training accuracy and change the dropout to reduce overfitting.\n",
    "    </font>"
   ]
  },
  {
   "cell_type": "markdown",
   "metadata": {},
   "source": [
    "# Model 2"
   ]
  },
  {
   "cell_type": "code",
   "execution_count": 99,
   "metadata": {},
   "outputs": [],
   "source": [
    "# Conv3D model2\n",
    "model = Sequential()\n",
    "model.add(Conv3D(16, (3,3,3), # filters, kernel size\n",
    "                 padding = 'same', \n",
    "                 input_shape = (30,160,160,3))) #frames to sample, height, weight, channels\n",
    "model.add(Activation('relu'))\n",
    "model.add(BatchNormalization())\n",
    "model.add(MaxPooling3D(pool_size=(2,2,2)))\n",
    "\n",
    "model.add(Conv3D(32, (2,2,2), padding='same'))\n",
    "model.add(Activation('relu'))\n",
    "model.add(BatchNormalization())\n",
    "model.add(MaxPooling3D(pool_size=(2, 2, 2)))\n",
    "\n",
    "model.add(Conv3D(128, (2,2,2), padding='same'))\n",
    "model.add(Activation('relu'))\n",
    "model.add(BatchNormalization())\n",
    "model.add(MaxPooling3D(pool_size=(2,2,2)))\n",
    "\n",
    "model.add(Conv3D(256, (2,2,2), padding='same'))\n",
    "model.add(Activation('relu'))\n",
    "model.add(BatchNormalization())\n",
    "model.add(MaxPooling3D(pool_size=(2,2,2)))\n",
    "\n",
    "model.add(Flatten())\n",
    "model.add(Dense(128,activation='relu'))\n",
    "model.add(BatchNormalization())\n",
    "model.add(Dropout(0.5))\n",
    "\n",
    "model.add(Dense(128,activation='relu'))\n",
    "model.add(BatchNormalization())\n",
    "model.add(Dropout(0.5))\n",
    "\n",
    "model.add(Dense(5,activation='softmax'))"
   ]
  },
  {
   "cell_type": "code",
   "execution_count": 100,
   "metadata": {
    "scrolled": true
   },
   "outputs": [
    {
     "name": "stdout",
     "output_type": "stream",
     "text": [
      "Model: \"sequential_11\"\n",
      "_________________________________________________________________\n",
      "Layer (type)                 Output Shape              Param #   \n",
      "=================================================================\n",
      "conv3d_39 (Conv3D)           (None, 30, 160, 160, 16)  1312      \n",
      "_________________________________________________________________\n",
      "activation_39 (Activation)   (None, 30, 160, 160, 16)  0         \n",
      "_________________________________________________________________\n",
      "batch_normalization_61 (Batc (None, 30, 160, 160, 16)  64        \n",
      "_________________________________________________________________\n",
      "max_pooling3d_39 (MaxPooling (None, 15, 80, 80, 16)    0         \n",
      "_________________________________________________________________\n",
      "conv3d_40 (Conv3D)           (None, 15, 80, 80, 32)    4128      \n",
      "_________________________________________________________________\n",
      "activation_40 (Activation)   (None, 15, 80, 80, 32)    0         \n",
      "_________________________________________________________________\n",
      "batch_normalization_62 (Batc (None, 15, 80, 80, 32)    128       \n",
      "_________________________________________________________________\n",
      "max_pooling3d_40 (MaxPooling (None, 7, 40, 40, 32)     0         \n",
      "_________________________________________________________________\n",
      "conv3d_41 (Conv3D)           (None, 7, 40, 40, 128)    32896     \n",
      "_________________________________________________________________\n",
      "activation_41 (Activation)   (None, 7, 40, 40, 128)    0         \n",
      "_________________________________________________________________\n",
      "batch_normalization_63 (Batc (None, 7, 40, 40, 128)    512       \n",
      "_________________________________________________________________\n",
      "max_pooling3d_41 (MaxPooling (None, 3, 20, 20, 128)    0         \n",
      "_________________________________________________________________\n",
      "conv3d_42 (Conv3D)           (None, 3, 20, 20, 256)    262400    \n",
      "_________________________________________________________________\n",
      "activation_42 (Activation)   (None, 3, 20, 20, 256)    0         \n",
      "_________________________________________________________________\n",
      "batch_normalization_64 (Batc (None, 3, 20, 20, 256)    1024      \n",
      "_________________________________________________________________\n",
      "max_pooling3d_42 (MaxPooling (None, 1, 10, 10, 256)    0         \n",
      "_________________________________________________________________\n",
      "flatten_11 (Flatten)         (None, 25600)             0         \n",
      "_________________________________________________________________\n",
      "dense_33 (Dense)             (None, 128)               3276928   \n",
      "_________________________________________________________________\n",
      "batch_normalization_65 (Batc (None, 128)               512       \n",
      "_________________________________________________________________\n",
      "dropout_22 (Dropout)         (None, 128)               0         \n",
      "_________________________________________________________________\n",
      "dense_34 (Dense)             (None, 128)               16512     \n",
      "_________________________________________________________________\n",
      "batch_normalization_66 (Batc (None, 128)               512       \n",
      "_________________________________________________________________\n",
      "dropout_23 (Dropout)         (None, 128)               0         \n",
      "_________________________________________________________________\n",
      "dense_35 (Dense)             (None, 5)                 645       \n",
      "=================================================================\n",
      "Total params: 3,597,573\n",
      "Trainable params: 3,596,197\n",
      "Non-trainable params: 1,376\n",
      "_________________________________________________________________\n",
      "None\n",
      "Initializing model checkpoints\n",
      "WARNING:tensorflow:`period` argument is deprecated. Please use `save_freq` to specify the frequency in number of batches seen.\n",
      "Calculating steps per epoch and validation steps\n"
     ]
    }
   ],
   "source": [
    "batch_size=32\n",
    "\n",
    "compile_and_summarize()\n",
    "\n",
    "train_generator = generator(train_path, train_doc, batch_size)\n",
    "val_generator = generator(val_path, val_doc, batch_size)\n",
    "\n",
    "callbacks_list = model_checkpoints('model_init2')\n",
    "\n",
    "steps_per_epoch = calc_steps_per_epoch(batch_size)\n",
    "validation_steps = calc_validation_steps(batch_size)"
   ]
  },
  {
   "cell_type": "code",
   "execution_count": 101,
   "metadata": {
    "scrolled": true
   },
   "outputs": [
    {
     "name": "stdout",
     "output_type": "stream",
     "text": [
      "Source path =  Project_data/train ; batch size = 32\n"
     ]
    },
    {
     "name": "stderr",
     "output_type": "stream",
     "text": [
      "2021-10-20 18:33:15.027554: I tensorflow/compiler/mlir/mlir_graph_optimization_pass.cc:185] None of the MLIR Optimization Passes are enabled (registered 2)\n"
     ]
    },
    {
     "name": "stdout",
     "output_type": "stream",
     "text": [
      "Epoch 1/20\n"
     ]
    },
    {
     "name": "stderr",
     "output_type": "stream",
     "text": [
      "2021-10-20 18:33:16.194063: W tensorflow/core/framework/cpu_allocator_impl.cc:80] Allocation of 1572864000 exceeds 10% of free system memory.\n",
      "2021-10-20 18:33:17.526842: W tensorflow/core/framework/cpu_allocator_impl.cc:80] Allocation of 1572864000 exceeds 10% of free system memory.\n",
      "2021-10-20 18:33:26.068834: W tensorflow/core/framework/cpu_allocator_impl.cc:80] Allocation of 1572864000 exceeds 10% of free system memory.\n",
      "2021-10-20 18:33:40.399571: W tensorflow/core/framework/cpu_allocator_impl.cc:80] Allocation of 1572864000 exceeds 10% of free system memory.\n"
     ]
    },
    {
     "name": "stdout",
     "output_type": "stream",
     "text": [
      "\r",
      " 1/21 [>.............................] - ETA: 10:00 - loss: 2.8225 - categorical_accuracy: 0.2812"
     ]
    },
    {
     "name": "stderr",
     "output_type": "stream",
     "text": [
      "2021-10-20 18:33:45.103723: W tensorflow/core/framework/cpu_allocator_impl.cc:80] Allocation of 1572864000 exceeds 10% of free system memory.\n"
     ]
    },
    {
     "name": "stdout",
     "output_type": "stream",
     "text": [
      "21/21 [==============================] - ETA: 0s - loss: 1.8464 - categorical_accuracy: 0.4012 Source path =  Project_data/val ; batch size = 32\n",
      "21/21 [==============================] - 610s 29s/step - loss: 1.8464 - categorical_accuracy: 0.4012 - val_loss: 4.0381 - val_categorical_accuracy: 0.1600\n",
      "\n",
      "Epoch 00001: saving model to model_init2_2021-10-2018_33_09.303746/model-00001-1.84644-0.40121-4.03809-0.16000.h5\n",
      "Epoch 2/20\n",
      "21/21 [==============================] - 604s 29s/step - loss: 1.3745 - categorical_accuracy: 0.5324 - val_loss: 5.1924 - val_categorical_accuracy: 0.1700\n",
      "\n",
      "Epoch 00002: saving model to model_init2_2021-10-2018_33_09.303746/model-00002-1.37451-0.53243-5.19243-0.17000.h5\n",
      "Epoch 3/20\n",
      "21/21 [==============================] - 604s 29s/step - loss: 1.0743 - categorical_accuracy: 0.6199 - val_loss: 6.9394 - val_categorical_accuracy: 0.2100\n",
      "\n",
      "Epoch 00003: saving model to model_init2_2021-10-2018_33_09.303746/model-00003-1.07435-0.61991-6.93942-0.21000.h5\n",
      "Epoch 4/20\n",
      "21/21 [==============================] - 605s 29s/step - loss: 0.9631 - categorical_accuracy: 0.6395 - val_loss: 6.0955 - val_categorical_accuracy: 0.2000\n",
      "\n",
      "Epoch 00004: saving model to model_init2_2021-10-2018_33_09.303746/model-00004-0.96312-0.63952-6.09554-0.20000.h5\n",
      "Epoch 5/20\n",
      "21/21 [==============================] - 602s 29s/step - loss: 1.0015 - categorical_accuracy: 0.6652 - val_loss: 8.5173 - val_categorical_accuracy: 0.1800\n",
      "\n",
      "Epoch 00005: saving model to model_init2_2021-10-2018_33_09.303746/model-00005-1.00146-0.66516-8.51734-0.18000.h5\n",
      "Epoch 6/20\n",
      "21/21 [==============================] - 606s 29s/step - loss: 0.8690 - categorical_accuracy: 0.6968 - val_loss: 7.9451 - val_categorical_accuracy: 0.2100\n",
      "\n",
      "Epoch 00006: saving model to model_init2_2021-10-2018_33_09.303746/model-00006-0.86899-0.69683-7.94509-0.21000.h5\n",
      "\n",
      "Epoch 00006: ReduceLROnPlateau reducing learning rate to 0.00020000000949949026.\n",
      "Epoch 7/20\n",
      "21/21 [==============================] - 606s 29s/step - loss: 0.7447 - categorical_accuracy: 0.7421 - val_loss: 8.7296 - val_categorical_accuracy: 0.1800\n",
      "\n",
      "Epoch 00007: saving model to model_init2_2021-10-2018_33_09.303746/model-00007-0.74471-0.74208-8.72959-0.18000.h5\n",
      "Epoch 8/20\n",
      "21/21 [==============================] - 603s 29s/step - loss: 0.7027 - categorical_accuracy: 0.7783 - val_loss: 8.8380 - val_categorical_accuracy: 0.2000\n",
      "\n",
      "Epoch 00008: saving model to model_init2_2021-10-2018_33_09.303746/model-00008-0.70269-0.77828-8.83797-0.20000.h5\n",
      "Epoch 9/20\n",
      "21/21 [==============================] - 604s 29s/step - loss: 0.5856 - categorical_accuracy: 0.8054 - val_loss: 7.7514 - val_categorical_accuracy: 0.2300\n",
      "\n",
      "Epoch 00009: saving model to model_init2_2021-10-2018_33_09.303746/model-00009-0.58564-0.80543-7.75138-0.23000.h5\n",
      "Epoch 10/20\n",
      "21/21 [==============================] - 609s 29s/step - loss: 0.5814 - categorical_accuracy: 0.8130 - val_loss: 8.0644 - val_categorical_accuracy: 0.1600\n",
      "\n",
      "Epoch 00010: saving model to model_init2_2021-10-2018_33_09.303746/model-00010-0.58137-0.81297-8.06439-0.16000.h5\n",
      "Epoch 11/20\n",
      "21/21 [==============================] - 609s 29s/step - loss: 0.5674 - categorical_accuracy: 0.8115 - val_loss: 8.2078 - val_categorical_accuracy: 0.2200\n",
      "\n",
      "Epoch 00011: saving model to model_init2_2021-10-2018_33_09.303746/model-00011-0.56743-0.81146-8.20784-0.22000.h5\n",
      "\n",
      "Epoch 00011: ReduceLROnPlateau reducing learning rate to 4.0000001899898055e-05.\n",
      "Epoch 12/20\n",
      "21/21 [==============================] - 607s 29s/step - loss: 0.5417 - categorical_accuracy: 0.8326 - val_loss: 7.3061 - val_categorical_accuracy: 0.2400\n",
      "\n",
      "Epoch 00012: saving model to model_init2_2021-10-2018_33_09.303746/model-00012-0.54174-0.83258-7.30613-0.24000.h5\n",
      "Epoch 13/20\n",
      "21/21 [==============================] - 607s 29s/step - loss: 0.4761 - categorical_accuracy: 0.8462 - val_loss: 6.4460 - val_categorical_accuracy: 0.3000\n",
      "\n",
      "Epoch 00013: saving model to model_init2_2021-10-2018_33_09.303746/model-00013-0.47608-0.84615-6.44603-0.30000.h5\n",
      "Epoch 14/20\n",
      "21/21 [==============================] - 614s 29s/step - loss: 0.5362 - categorical_accuracy: 0.8341 - val_loss: 6.5305 - val_categorical_accuracy: 0.2900\n",
      "\n",
      "Epoch 00014: saving model to model_init2_2021-10-2018_33_09.303746/model-00014-0.53618-0.83409-6.53054-0.29000.h5\n",
      "Epoch 15/20\n",
      "21/21 [==============================] - 622s 30s/step - loss: 0.4898 - categorical_accuracy: 0.8688 - val_loss: 5.5176 - val_categorical_accuracy: 0.2700\n",
      "\n",
      "Epoch 00015: saving model to model_init2_2021-10-2018_33_09.303746/model-00015-0.48975-0.86878-5.51763-0.27000.h5\n",
      "Epoch 16/20\n",
      "21/21 [==============================] - 624s 30s/step - loss: 0.4444 - categorical_accuracy: 0.8658 - val_loss: 4.9277 - val_categorical_accuracy: 0.3000\n",
      "\n",
      "Epoch 00016: saving model to model_init2_2021-10-2018_33_09.303746/model-00016-0.44438-0.86576-4.92774-0.30000.h5\n",
      "\n",
      "Epoch 00016: ReduceLROnPlateau reducing learning rate to 8.000000525498762e-06.\n",
      "Epoch 17/20\n",
      "21/21 [==============================] - 614s 29s/step - loss: 0.5514 - categorical_accuracy: 0.8431 - val_loss: 4.2837 - val_categorical_accuracy: 0.2800\n",
      "\n",
      "Epoch 00017: saving model to model_init2_2021-10-2018_33_09.303746/model-00017-0.55141-0.84314-4.28372-0.28000.h5\n",
      "Epoch 18/20\n",
      "21/21 [==============================] - 616s 29s/step - loss: 0.4939 - categorical_accuracy: 0.8477 - val_loss: 3.7766 - val_categorical_accuracy: 0.3000\n",
      "\n",
      "Epoch 00018: saving model to model_init2_2021-10-2018_33_09.303746/model-00018-0.49385-0.84766-3.77658-0.30000.h5\n",
      "Epoch 19/20\n",
      "21/21 [==============================] - 619s 29s/step - loss: 0.5441 - categorical_accuracy: 0.8612 - val_loss: 2.9793 - val_categorical_accuracy: 0.3200\n",
      "\n",
      "Epoch 00019: saving model to model_init2_2021-10-2018_33_09.303746/model-00019-0.54405-0.86124-2.97935-0.32000.h5\n",
      "Epoch 20/20\n",
      "21/21 [==============================] - 614s 29s/step - loss: 0.4186 - categorical_accuracy: 0.8808 - val_loss: 2.8503 - val_categorical_accuracy: 0.3400\n",
      "\n",
      "Epoch 00020: saving model to model_init2_2021-10-2018_33_09.303746/model-00020-0.41858-0.88084-2.85030-0.34000.h5\n"
     ]
    }
   ],
   "source": [
    "history2 = model.fit_generator(train_generator, steps_per_epoch=steps_per_epoch, epochs=num_epochs, verbose=1, \n",
    "                    callbacks=callbacks_list, validation_data=val_generator, \n",
    "                    validation_steps=validation_steps, class_weight=None, workers=1, initial_epoch=0)"
   ]
  },
  {
   "cell_type": "code",
   "execution_count": 102,
   "metadata": {},
   "outputs": [
    {
     "data": {
      "image/png": "[encoded data removed]",
      "text/plain": [
       "<Figure size 1080x288 with 2 Axes>"
      ]
     },
     "metadata": {
      "needs_background": "light"
     },
     "output_type": "display_data"
    }
   ],
   "source": [
    "train_val_loss_plot(history2)"
   ]
  },
  {
   "cell_type": "markdown",
   "metadata": {},
   "source": [
    "<font color='blue'>\n",
    "    This model also overfits. There is some improvement in the training accuracy.\n",
    "    </font>"
   ]
  },
  {
   "cell_type": "code",
   "execution_count": null,
   "metadata": {},
   "outputs": [],
   "source": []
  }
 ],
 "metadata": {
  "kernelspec": {
   "display_name": "Python 3 (ipykernel)",
   "language": "python",
   "name": "python3"
  },
  "language_info": {
   "codemirror_mode": {
    "name": "ipython",
    "version": 3
   },
   "file_extension": ".py",
   "mimetype": "text/x-python",
   "name": "python",
   "nbconvert_exporter": "python",
   "pygments_lexer": "ipython3",
   "version": "3.9.5"
  }
 },
 "nbformat": 4,
 "nbformat_minor": 2
}
