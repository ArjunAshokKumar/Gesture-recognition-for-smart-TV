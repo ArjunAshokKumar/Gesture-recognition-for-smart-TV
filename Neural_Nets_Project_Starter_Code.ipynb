{
 "cells": [
  {
   "cell_type": "markdown",
   "metadata": {},
   "source": [
    "# Gesture Recognition\n",
    "In this group project, you are going to build a 3D Conv model that will be able to predict the 5 gestures correctly. Please import the following libraries to get started."
   ]
  },
  {
   "cell_type": "code",
   "execution_count": 119,
   "metadata": {},
   "outputs": [
    {
     "name": "stdout",
     "output_type": "stream",
     "text": [
      "Requirement already satisfied: imageio in /home/ajaxgen/anaconda3/envs/msmlai/lib/python3.9/site-packages (2.9.0)\n",
      "Requirement already satisfied: numpy in /home/ajaxgen/anaconda3/envs/msmlai/lib/python3.9/site-packages (from imageio) (1.19.5)\n",
      "Requirement already satisfied: pillow in /home/ajaxgen/anaconda3/envs/msmlai/lib/python3.9/site-packages (from imageio) (8.3.1)\n",
      "Requirement already satisfied: scikit-image in /home/ajaxgen/anaconda3/envs/msmlai/lib/python3.9/site-packages (0.18.3)\n",
      "Requirement already satisfied: numpy>=1.16.5 in /home/ajaxgen/anaconda3/envs/msmlai/lib/python3.9/site-packages (from scikit-image) (1.19.5)\n",
      "Requirement already satisfied: matplotlib!=3.0.0,>=2.0.0 in /home/ajaxgen/anaconda3/envs/msmlai/lib/python3.9/site-packages (from scikit-image) (3.4.2)\n",
      "Requirement already satisfied: PyWavelets>=1.1.1 in /home/ajaxgen/anaconda3/envs/msmlai/lib/python3.9/site-packages (from scikit-image) (1.1.1)\n",
      "Requirement already satisfied: tifffile>=2019.7.26 in /home/ajaxgen/anaconda3/envs/msmlai/lib/python3.9/site-packages (from scikit-image) (2021.10.12)\n",
      "Requirement already satisfied: imageio>=2.3.0 in /home/ajaxgen/anaconda3/envs/msmlai/lib/python3.9/site-packages (from scikit-image) (2.9.0)\n",
      "Requirement already satisfied: pillow!=7.1.0,!=7.1.1,>=4.3.0 in /home/ajaxgen/anaconda3/envs/msmlai/lib/python3.9/site-packages (from scikit-image) (8.3.1)\n",
      "Requirement already satisfied: scipy>=1.0.1 in /home/ajaxgen/anaconda3/envs/msmlai/lib/python3.9/site-packages (from scikit-image) (1.7.1)\n",
      "Requirement already satisfied: networkx>=2.0 in /home/ajaxgen/anaconda3/envs/msmlai/lib/python3.9/site-packages (from scikit-image) (2.6.3)\n",
      "Requirement already satisfied: python-dateutil>=2.7 in /home/ajaxgen/anaconda3/envs/msmlai/lib/python3.9/site-packages (from matplotlib!=3.0.0,>=2.0.0->scikit-image) (2.8.2)\n",
      "Requirement already satisfied: kiwisolver>=1.0.1 in /home/ajaxgen/anaconda3/envs/msmlai/lib/python3.9/site-packages (from matplotlib!=3.0.0,>=2.0.0->scikit-image) (1.3.1)\n",
      "Requirement already satisfied: cycler>=0.10 in /home/ajaxgen/anaconda3/envs/msmlai/lib/python3.9/site-packages (from matplotlib!=3.0.0,>=2.0.0->scikit-image) (0.10.0)\n",
      "Requirement already satisfied: pyparsing>=2.2.1 in /home/ajaxgen/anaconda3/envs/msmlai/lib/python3.9/site-packages (from matplotlib!=3.0.0,>=2.0.0->scikit-image) (2.4.7)\n",
      "Requirement already satisfied: six in /home/ajaxgen/anaconda3/envs/msmlai/lib/python3.9/site-packages (from cycler>=0.10->matplotlib!=3.0.0,>=2.0.0->scikit-image) (1.15.0)\n"
     ]
    }
   ],
   "source": [
    "# Install imageio for imread as imread from scipy.misc is deprecated\n",
    "\n",
    "!pip install imageio\n",
    "#!pip install opencv-python\n",
    "!pip install scikit-image"
   ]
  },
  {
   "cell_type": "code",
   "execution_count": 120,
   "metadata": {},
   "outputs": [],
   "source": [
    "import numpy as np\n",
    "import os\n",
    "\n",
    "# following in deprecated:\n",
    "# from scipy.misc import imread, imresize\n",
    "from imageio import imread\n",
    "from skimage.transform import resize\n",
    "from PIL import Image\n",
    "#import cv2\n",
    "\n",
    "import datetime\n",
    "import os\n",
    "\n",
    "import matplotlib.pyplot as plt\n",
    "%matplotlib inline"
   ]
  },
  {
   "cell_type": "code",
   "execution_count": 121,
   "metadata": {},
   "outputs": [],
   "source": [
    "#ignore warnings\n",
    "import warnings\n",
    "warnings.filterwarnings(\"ignore\")"
   ]
  },
  {
   "cell_type": "markdown",
   "metadata": {},
   "source": [
    "We set the random seed so that the results don't vary drastically."
   ]
  },
  {
   "cell_type": "code",
   "execution_count": 122,
   "metadata": {},
   "outputs": [],
   "source": [
    "np.random.seed(30)\n",
    "import random as rn\n",
    "rn.seed(30)\n",
    "from keras import backend as K\n",
    "import tensorflow as tf\n",
    "\n",
    "# set_random_seed is deprecated.\n",
    "# tf.set_random_seed(30)\n",
    "tf.random.set_seed(30)"
   ]
  },
  {
   "cell_type": "markdown",
   "metadata": {},
   "source": [
    "In this block, you read the folder names for training and validation. You also set the `batch_size` here. Note that you set the batch size in such a way that you are able to use the GPU in full capacity. You keep increasing the batch size until the machine throws an error."
   ]
  },
  {
   "cell_type": "code",
   "execution_count": 123,
   "metadata": {},
   "outputs": [],
   "source": [
    "# train_doc = np.random.permutation(open('/notebooks/storage/Final_data/Collated_training/train.csv').readlines())\n",
    "# val_doc = np.random.permutation(open('/notebooks/storage/Final_data/Collated_training/val.csv').readlines())\n",
    "\n",
    "train_doc = np.random.permutation(open('Project_data/train.csv').readlines())\n",
    "val_doc = np.random.permutation(open('Project_data/val.csv').readlines())\n",
    "\n",
    "#hyperparameters\n",
    "batch_size = 64 #experiment with the batch size\n",
    "image_height = 160\n",
    "image_width = 160"
   ]
  },
  {
   "cell_type": "markdown",
   "metadata": {},
   "source": [
    "## Generator\n",
    "This is one of the most important part of the code. The overall structure of the generator has been given. In the generator, you are going to preprocess the images as you have images of 2 different dimensions as well as create a batch of video frames. You have to experiment with `img_idx`, `y`,`z` and normalization such that you get high accuracy."
   ]
  },
  {
   "cell_type": "code",
   "execution_count": 124,
   "metadata": {},
   "outputs": [],
   "source": [
    "def generator(source_path, folder_list, batch_size):\n",
    "    print( 'Source path = ', source_path, '; batch size =', batch_size)\n",
    "    img_idx = np.round(np.linspace(0, 29, 30)).astype(int) #list of image numbers for video.\n",
    "    while True:\n",
    "        t = np.random.permutation(folder_list)\n",
    "        if len(t) % batch_size == 0: # if divisible by batch_size\n",
    "            num_batches = int(len(t)/batch_size)\n",
    "        else:  #if not divisible by batch_size\n",
    "            num_batches = len(t) // batch_size\n",
    "            last_batch_size = len(t) % batch_size #surplus in the last batch\n",
    "        \n",
    "        for batch in range(num_batches): # we iterate over the number of batches\n",
    "            batch_data = np.zeros((batch_size,len(img_idx),image_height,image_width,3)) # x is the number of images you use for each video, (y,z) is the final size of the input images and 3 is the number of channels RGB\n",
    "            batch_labels = np.zeros((batch_size,5)) # batch_labels is the one hot representation of the output\n",
    "            for folder in range(batch_size): # iterate over the batch_size\n",
    "                imgs = os.listdir(source_path+'/'+ t[folder + (batch*batch_size)].split(';')[0]) # read all the images in the folder\n",
    "                for idx,item in enumerate(img_idx): #  Iterate iver the frames/images of a folder to read them in\n",
    "                    image = imread(source_path+'/'+ t[folder + (batch*batch_size)].strip().split(';')[0]+'/'+imgs[item]).astype(np.float32)\n",
    "                    \n",
    "                    #crop the images and resize them. Note that the images are of 2 different shape \n",
    "                    #and the conv3D will throw error if the inputs in a batch have different shapes\n",
    "                    resized_image = resize(image,(image_height,image_width))\n",
    "                    \n",
    "                    batch_data[folder,idx,:,:,0] = (resized_image[:,:,0])/255\n",
    "                    batch_data[folder,idx,:,:,1] = (resized_image[:,:,1])/255\n",
    "                    batch_data[folder,idx,:,:,2] = (resized_image[:,:,2])/255\n",
    "                    \n",
    "                batch_labels[folder, int(t[folder + (batch*batch_size)].strip().split(';')[2])] = 1\n",
    "            yield batch_data, batch_labels #you yield the batch_data and the batch_labels, remember what does yield do\n",
    "\n",
    "        \n",
    "        # write the code for the remaining data points which are left after full batches\n",
    "        batch_data = np.zeros((last_batch_size,len(img_idx),160,160,3)) # x is the number of images you use for each video, (y,z) is the final size of the input images and 3 is the number of channels RGB\n",
    "        batch_labels = np.zeros((last_batch_size,5)) # batch_labels is the one hot representation of the output\n",
    "        for folder in range(last_batch_size): # iterate over the batch_size\n",
    "            imgs = os.listdir(source_path+'/'+ t[folder + (batch*last_batch_size)].split(';')[0]) # read all the images in the folder\n",
    "            for idx,item in enumerate(img_idx): #  Iterate iver the frames/images of a folder to read them in\n",
    "                image = imread(source_path+'/'+ t[folder + (batch*last_batch_size)].strip().split(';')[0]+'/'+imgs[item]).astype(np.float32)\n",
    "                resized_image = resize(image,(image_height,image_width))\n",
    "\n",
    "                batch_data[folder,idx,:,:,0] = (resized_image[:,:,0])/255\n",
    "                batch_data[folder,idx,:,:,1] = (resized_image[:,:,1])/255\n",
    "                batch_data[folder,idx,:,:,2] = (resized_image[:,:,2])/255\n",
    "\n",
    "            batch_labels[folder, int(t[folder + (batch*batch_size)].strip().split(';')[2])] = 1\n",
    "        yield batch_data, batch_labels\n"
   ]
  },
  {
   "cell_type": "markdown",
   "metadata": {},
   "source": [
    "Note here that a video is represented above in the generator as (number of images, height, width, number of channels). Take this into consideration while creating the model architecture."
   ]
  },
  {
   "cell_type": "code",
   "execution_count": 125,
   "metadata": {},
   "outputs": [
    {
     "name": "stdout",
     "output_type": "stream",
     "text": [
      "# training sequences = 663\n",
      "# validation sequences = 100\n",
      "# epochs = 20\n"
     ]
    }
   ],
   "source": [
    "curr_dt_time = datetime.datetime.now()\n",
    "# train_path = '/notebooks/storage/Final_data/Collated_training/train'\n",
    "# val_path = '/notebooks/storage/Final_data/Collated_training/val'\n",
    "train_path = 'Project_data/train'\n",
    "val_path = 'Project_data/val'\n",
    "num_train_sequences = len(train_doc)\n",
    "print('# training sequences =', num_train_sequences)\n",
    "num_val_sequences = len(val_doc)\n",
    "print('# validation sequences =', num_val_sequences)\n",
    "num_epochs = 20# choose the number of epochs\n",
    "print ('# epochs =', num_epochs)"
   ]
  },
  {
   "cell_type": "markdown",
   "metadata": {},
   "source": [
    "# Model 1 - Conv3D\n",
    "## Batch size = 64, No. of Epochs  = 20"
   ]
  },
  {
   "cell_type": "markdown",
   "metadata": {},
   "source": [
    "Here you make the model using different functionalities that Keras provides. Remember to use `Conv3D` and `MaxPooling3D` and not `Conv2D` and `Maxpooling2D` for a 3D convolution model. You would want to use `TimeDistributed` while building a Conv2D + RNN model. Also remember that the last layer is the softmax. Design the network in such a way that the model is able to give good accuracy on the least number of parameters so that it can fit in the memory of the webcam."
   ]
  },
  {
   "cell_type": "code",
   "execution_count": 126,
   "metadata": {},
   "outputs": [],
   "source": [
    "from keras.models import Sequential, Model\n",
    "from keras.layers import Dense, GRU, Flatten, TimeDistributed, Flatten, BatchNormalization, Activation, Dropout\n",
    "from keras.layers.convolutional import Conv3D, MaxPooling3D\n",
    "from keras.callbacks import ModelCheckpoint, ReduceLROnPlateau\n",
    "from keras import optimizers"
   ]
  },
  {
   "cell_type": "code",
   "execution_count": 127,
   "metadata": {},
   "outputs": [],
   "source": [
    "# Conv3D model\n",
    "model = Sequential()\n",
    "model.add(Conv3D(16, (3,3,3), # filters, kernel size\n",
    "                 padding = 'same', \n",
    "                 input_shape = (30,160,160,3))) #frames to sample, height, weight, channels\n",
    "model.add(Activation('relu'))\n",
    "model.add(BatchNormalization())\n",
    "model.add(MaxPooling3D(pool_size=(2,2,2)))\n",
    "\n",
    "model.add(Conv3D(32, (2, 2, 2), padding='same'))\n",
    "model.add(Activation('relu'))\n",
    "model.add(BatchNormalization())\n",
    "model.add(MaxPooling3D(pool_size=(2, 2, 2)))\n",
    "\n",
    "model.add(Conv3D(64, (2, 2, 2), padding='same'))\n",
    "model.add(Activation('relu'))\n",
    "model.add(BatchNormalization())\n",
    "model.add(MaxPooling3D(pool_size=(2, 2, 2)))\n",
    "\n",
    "model.add(Flatten())\n",
    "model.add(Dense(64,activation='relu'))\n",
    "model.add(BatchNormalization())\n",
    "model.add(Dropout(0.5))\n",
    "\n",
    "model.add(Dense(64,activation='relu'))\n",
    "model.add(BatchNormalization())\n",
    "model.add(Dropout(0.25))\n",
    "model.add(Dense(5,activation='softmax'))"
   ]
  },
  {
   "cell_type": "markdown",
   "metadata": {},
   "source": [
    "Now that you have written the model, the next step is to `compile` the model. When you print the `summary` of the model, you'll see the total number of parameters you have to train."
   ]
  },
  {
   "cell_type": "code",
   "execution_count": 128,
   "metadata": {
    "scrolled": true
   },
   "outputs": [
    {
     "name": "stdout",
     "output_type": "stream",
     "text": [
      "Model: \"sequential_13\"\n",
      "_________________________________________________________________\n",
      "Layer (type)                 Output Shape              Param #   \n",
      "=================================================================\n",
      "conv3d_46 (Conv3D)           (None, 30, 160, 160, 16)  1312      \n",
      "_________________________________________________________________\n",
      "activation_46 (Activation)   (None, 30, 160, 160, 16)  0         \n",
      "_________________________________________________________________\n",
      "batch_normalization_72 (Batc (None, 30, 160, 160, 16)  64        \n",
      "_________________________________________________________________\n",
      "max_pooling3d_46 (MaxPooling (None, 15, 80, 80, 16)    0         \n",
      "_________________________________________________________________\n",
      "conv3d_47 (Conv3D)           (None, 15, 80, 80, 32)    4128      \n",
      "_________________________________________________________________\n",
      "activation_47 (Activation)   (None, 15, 80, 80, 32)    0         \n",
      "_________________________________________________________________\n",
      "batch_normalization_73 (Batc (None, 15, 80, 80, 32)    128       \n",
      "_________________________________________________________________\n",
      "max_pooling3d_47 (MaxPooling (None, 7, 40, 40, 32)     0         \n",
      "_________________________________________________________________\n",
      "conv3d_48 (Conv3D)           (None, 7, 40, 40, 64)     16448     \n",
      "_________________________________________________________________\n",
      "activation_48 (Activation)   (None, 7, 40, 40, 64)     0         \n",
      "_________________________________________________________________\n",
      "batch_normalization_74 (Batc (None, 7, 40, 40, 64)     256       \n",
      "_________________________________________________________________\n",
      "max_pooling3d_48 (MaxPooling (None, 3, 20, 20, 64)     0         \n",
      "_________________________________________________________________\n",
      "flatten_13 (Flatten)         (None, 76800)             0         \n",
      "_________________________________________________________________\n",
      "dense_39 (Dense)             (None, 64)                4915264   \n",
      "_________________________________________________________________\n",
      "batch_normalization_75 (Batc (None, 64)                256       \n",
      "_________________________________________________________________\n",
      "dropout_26 (Dropout)         (None, 64)                0         \n",
      "_________________________________________________________________\n",
      "dense_40 (Dense)             (None, 64)                4160      \n",
      "_________________________________________________________________\n",
      "batch_normalization_76 (Batc (None, 64)                256       \n",
      "_________________________________________________________________\n",
      "dropout_27 (Dropout)         (None, 64)                0         \n",
      "_________________________________________________________________\n",
      "dense_41 (Dense)             (None, 5)                 325       \n",
      "=================================================================\n",
      "Total params: 4,942,597\n",
      "Trainable params: 4,942,117\n",
      "Non-trainable params: 480\n",
      "_________________________________________________________________\n",
      "None\n"
     ]
    }
   ],
   "source": [
    "def compile_and_summarize(learning_rate = 0.01): \n",
    "    model.compile(optimizer=tf.keras.optimizers.Adam(lr=learning_rate),\n",
    "                  loss='categorical_crossentropy',\n",
    "                  metrics=['categorical_accuracy'])\n",
    "    print (model.summary())\n",
    "\n",
    "compile_and_summarize()"
   ]
  },
  {
   "cell_type": "markdown",
   "metadata": {},
   "source": [
    "Let us create the `train_generator` and the `val_generator` which will be used in `.fit_generator`."
   ]
  },
  {
   "cell_type": "code",
   "execution_count": 129,
   "metadata": {},
   "outputs": [],
   "source": [
    "train_generator = generator(train_path, train_doc, batch_size)\n",
    "val_generator = generator(val_path, val_doc, batch_size)"
   ]
  },
  {
   "cell_type": "code",
   "execution_count": 130,
   "metadata": {},
   "outputs": [
    {
     "name": "stdout",
     "output_type": "stream",
     "text": [
      "Initializing model checkpoints\n",
      "WARNING:tensorflow:`period` argument is deprecated. Please use `save_freq` to specify the frequency in number of batches seen.\n"
     ]
    }
   ],
   "source": [
    "def model_checkpoints(model_prefix = 'model_init'):\n",
    "    print('Initializing model checkpoints')\n",
    "    model_name = model_prefix + '_' + str(curr_dt_time).replace(' ','').replace(':','_') + '/'\n",
    "\n",
    "    if not os.path.exists(model_name):\n",
    "        os.mkdir(model_name)\n",
    "\n",
    "    filepath = model_name + 'model-{epoch:05d}-{loss:.5f}-{categorical_accuracy:.5f}-{val_loss:.5f}-{val_categorical_accuracy:.5f}.h5'\n",
    "\n",
    "    checkpoint = ModelCheckpoint(filepath, monitor='val_loss', verbose=1, save_best_only=False, save_weights_only=False, mode='auto', period=1)\n",
    "\n",
    "    #reduce learning rate when val_loss has stopped improving.\n",
    "    #monitor -> metric to monitor\n",
    "    #verbose -> prints message to stdout\n",
    "    #patience -> number of epochs with no imporvement after which learning rate is reduced\n",
    "    #factor -> factor by which learning rate is reduced.\n",
    "    LR = ReduceLROnPlateau(monitor='val_loss', factor= 0.2, verbose=1,patience=5)\n",
    "    callbacks_list = [checkpoint, LR]\n",
    "    return callbacks_list\n",
    "\n",
    "callbacks_list = model_checkpoints()"
   ]
  },
  {
   "cell_type": "markdown",
   "metadata": {},
   "source": [
    "The `steps_per_epoch` and `validation_steps` are used by `fit_generator` to decide the number of next() calls it need to make."
   ]
  },
  {
   "cell_type": "code",
   "execution_count": 131,
   "metadata": {},
   "outputs": [
    {
     "name": "stdout",
     "output_type": "stream",
     "text": [
      "Calculating steps per epoch and validation steps\n"
     ]
    }
   ],
   "source": [
    "def calc_steps_per_epoch(btch_size=64):\n",
    "    print('Calculating steps per epoch and validation steps')\n",
    "    if (num_train_sequences%btch_size) == 0:\n",
    "        steps_per_epoch = int(num_train_sequences/btch_size)\n",
    "    else:\n",
    "        steps_per_epoch = (num_train_sequences//btch_size) + 1\n",
    "    return steps_per_epoch\n",
    "\n",
    "def calc_validation_steps(btch_size=64):\n",
    "    if (num_val_sequences%btch_size) == 0:\n",
    "        validation_steps = int(num_val_sequences/btch_size)\n",
    "    else:\n",
    "        validation_steps = (num_val_sequences//btch_size) + 1\n",
    "    return validation_steps\n",
    "\n",
    "steps_per_epoch = calc_steps_per_epoch(batch_size)\n",
    "validation_steps = calc_validation_steps(batch_size)"
   ]
  },
  {
   "cell_type": "markdown",
   "metadata": {},
   "source": [
    "Let us now fit the model. This will start training the model and with the help of the checkpoints, you'll be able to save the model at the end of each epoch."
   ]
  },
  {
   "cell_type": "markdown",
   "metadata": {},
   "source": [
    "### <font color='red'> Uncomment below two cells to train and see the graph</font>"
   ]
  },
  {
   "cell_type": "code",
   "execution_count": 132,
   "metadata": {},
   "outputs": [],
   "source": [
    "# history = model.fit_generator(train_generator, steps_per_epoch=steps_per_epoch, epochs=num_epochs, verbose=1, \n",
    "#                     callbacks=callbacks_list, validation_data=val_generator, \n",
    "#                     validation_steps=validation_steps, class_weight=None, workers=1, initial_epoch=0)"
   ]
  },
  {
   "cell_type": "code",
   "execution_count": 133,
   "metadata": {},
   "outputs": [],
   "source": [
    "def train_val_loss_plot(history):\n",
    "    fig, axes = plt.subplots(nrows=1, ncols=2, figsize=(15,4))\n",
    "    axes[0].plot(history.history['loss'])   \n",
    "    axes[0].plot(history.history['val_loss'])\n",
    "    axes[0].legend(['loss','val_loss'])\n",
    "\n",
    "    axes[1].plot(history.history['categorical_accuracy'])   \n",
    "    axes[1].plot(history.history['val_categorical_accuracy'])\n",
    "    axes[1].legend(['categorical_accuracy','val_categorical_accuracy'])\n",
    "\n",
    "# train_val_loss_plot(history)"
   ]
  },
  {
   "cell_type": "markdown",
   "metadata": {},
   "source": [
    "<font color='blue'>\n",
    "    The above graph shows this model to be overfitted as the training loss is low while the validation loss is high. Accuracy is also not as high as expected. We can try with a more complex model to increase the training accuracy and change the dropout to reduce overfitting.\n",
    "    </font>"
   ]
  },
  {
   "cell_type": "markdown",
   "metadata": {},
   "source": [
    "# Model 2"
   ]
  },
  {
   "cell_type": "code",
   "execution_count": 134,
   "metadata": {},
   "outputs": [],
   "source": [
    "# Conv3D model2\n",
    "model = Sequential()\n",
    "model.add(Conv3D(16, (3,3,3), # filters, kernel size\n",
    "                 padding = 'same', \n",
    "                 input_shape = (30,160,160,3))) #frames to sample, height, weight, channels\n",
    "model.add(Activation('relu'))\n",
    "model.add(BatchNormalization())\n",
    "model.add(MaxPooling3D(pool_size=(2,2,2)))\n",
    "\n",
    "model.add(Conv3D(32, (2,2,2), padding='same'))\n",
    "model.add(Activation('relu'))\n",
    "model.add(BatchNormalization())\n",
    "model.add(MaxPooling3D(pool_size=(2, 2, 2)))\n",
    "\n",
    "model.add(Conv3D(128, (2,2,2), padding='same'))\n",
    "model.add(Activation('relu'))\n",
    "model.add(BatchNormalization())\n",
    "model.add(MaxPooling3D(pool_size=(2,2,2)))\n",
    "\n",
    "model.add(Conv3D(256, (2,2,2), padding='same'))\n",
    "model.add(Activation('relu'))\n",
    "model.add(BatchNormalization())\n",
    "model.add(MaxPooling3D(pool_size=(2,2,2)))\n",
    "\n",
    "model.add(Flatten())\n",
    "model.add(Dense(128,activation='relu'))\n",
    "model.add(BatchNormalization())\n",
    "model.add(Dropout(0.5))\n",
    "\n",
    "model.add(Dense(128,activation='relu'))\n",
    "model.add(BatchNormalization())\n",
    "model.add(Dropout(0.5))\n",
    "\n",
    "model.add(Dense(5,activation='softmax'))"
   ]
  },
  {
   "cell_type": "code",
   "execution_count": 135,
   "metadata": {
    "scrolled": true
   },
   "outputs": [
    {
     "name": "stdout",
     "output_type": "stream",
     "text": [
      "Model: \"sequential_14\"\n",
      "_________________________________________________________________\n",
      "Layer (type)                 Output Shape              Param #   \n",
      "=================================================================\n",
      "conv3d_49 (Conv3D)           (None, 30, 160, 160, 16)  1312      \n",
      "_________________________________________________________________\n",
      "activation_49 (Activation)   (None, 30, 160, 160, 16)  0         \n",
      "_________________________________________________________________\n",
      "batch_normalization_77 (Batc (None, 30, 160, 160, 16)  64        \n",
      "_________________________________________________________________\n",
      "max_pooling3d_49 (MaxPooling (None, 15, 80, 80, 16)    0         \n",
      "_________________________________________________________________\n",
      "conv3d_50 (Conv3D)           (None, 15, 80, 80, 32)    4128      \n",
      "_________________________________________________________________\n",
      "activation_50 (Activation)   (None, 15, 80, 80, 32)    0         \n",
      "_________________________________________________________________\n",
      "batch_normalization_78 (Batc (None, 15, 80, 80, 32)    128       \n",
      "_________________________________________________________________\n",
      "max_pooling3d_50 (MaxPooling (None, 7, 40, 40, 32)     0         \n",
      "_________________________________________________________________\n",
      "conv3d_51 (Conv3D)           (None, 7, 40, 40, 128)    32896     \n",
      "_________________________________________________________________\n",
      "activation_51 (Activation)   (None, 7, 40, 40, 128)    0         \n",
      "_________________________________________________________________\n",
      "batch_normalization_79 (Batc (None, 7, 40, 40, 128)    512       \n",
      "_________________________________________________________________\n",
      "max_pooling3d_51 (MaxPooling (None, 3, 20, 20, 128)    0         \n",
      "_________________________________________________________________\n",
      "conv3d_52 (Conv3D)           (None, 3, 20, 20, 256)    262400    \n",
      "_________________________________________________________________\n",
      "activation_52 (Activation)   (None, 3, 20, 20, 256)    0         \n",
      "_________________________________________________________________\n",
      "batch_normalization_80 (Batc (None, 3, 20, 20, 256)    1024      \n",
      "_________________________________________________________________\n",
      "max_pooling3d_52 (MaxPooling (None, 1, 10, 10, 256)    0         \n",
      "_________________________________________________________________\n",
      "flatten_14 (Flatten)         (None, 25600)             0         \n",
      "_________________________________________________________________\n",
      "dense_42 (Dense)             (None, 128)               3276928   \n",
      "_________________________________________________________________\n",
      "batch_normalization_81 (Batc (None, 128)               512       \n",
      "_________________________________________________________________\n",
      "dropout_28 (Dropout)         (None, 128)               0         \n",
      "_________________________________________________________________\n",
      "dense_43 (Dense)             (None, 128)               16512     \n",
      "_________________________________________________________________\n",
      "batch_normalization_82 (Batc (None, 128)               512       \n",
      "_________________________________________________________________\n",
      "dropout_29 (Dropout)         (None, 128)               0         \n",
      "_________________________________________________________________\n",
      "dense_44 (Dense)             (None, 5)                 645       \n",
      "=================================================================\n",
      "Total params: 3,597,573\n",
      "Trainable params: 3,596,197\n",
      "Non-trainable params: 1,376\n",
      "_________________________________________________________________\n",
      "None\n",
      "Initializing model checkpoints\n",
      "WARNING:tensorflow:`period` argument is deprecated. Please use `save_freq` to specify the frequency in number of batches seen.\n",
      "Calculating steps per epoch and validation steps\n"
     ]
    }
   ],
   "source": [
    "batch_size=32\n",
    "\n",
    "compile_and_summarize()\n",
    "\n",
    "train_generator = generator(train_path, train_doc, batch_size)\n",
    "val_generator = generator(val_path, val_doc, batch_size)\n",
    "\n",
    "callbacks_list = model_checkpoints('model_init2')\n",
    "\n",
    "steps_per_epoch = calc_steps_per_epoch(batch_size)\n",
    "validation_steps = calc_validation_steps(batch_size)"
   ]
  },
  {
   "cell_type": "markdown",
   "metadata": {},
   "source": [
    "### <font color='red'> Uncomment below two cells to train and see the graph</font>"
   ]
  },
  {
   "cell_type": "code",
   "execution_count": 136,
   "metadata": {
    "scrolled": true
   },
   "outputs": [],
   "source": [
    "# history2 = model.fit_generator(train_generator, steps_per_epoch=steps_per_epoch, epochs=num_epochs, verbose=1, \n",
    "#                     callbacks=callbacks_list, validation_data=val_generator, \n",
    "#                     validation_steps=validation_steps, class_weight=None, workers=1, initial_epoch=0)"
   ]
  },
  {
   "cell_type": "code",
   "execution_count": 137,
   "metadata": {},
   "outputs": [],
   "source": [
    "# train_val_loss_plot(history2)"
   ]
  },
  {
   "cell_type": "markdown",
   "metadata": {},
   "source": [
    "<font color='blue'>\n",
    "    This model also overfits. There is some improvement in the training accuracy.\n",
    "    </font>"
   ]
  },
  {
   "cell_type": "markdown",
   "metadata": {},
   "source": [
    "# Model 3\n",
    "## Learning rate = 0.0001"
   ]
  },
  {
   "cell_type": "code",
   "execution_count": 138,
   "metadata": {},
   "outputs": [],
   "source": [
    "# Conv3D model3\n",
    "model = Sequential()\n",
    "model.add(Conv3D(16, (3,3,3), # filters, kernel size\n",
    "                 padding = 'same', \n",
    "                 input_shape = (30,160,160,3))) #frames to sample, height, weight, channels\n",
    "model.add(Activation('relu'))\n",
    "model.add(BatchNormalization())\n",
    "model.add(MaxPooling3D(pool_size=(2,2,2)))\n",
    "\n",
    "model.add(Conv3D(32, (2,2,2), padding='same'))\n",
    "model.add(Activation('relu'))\n",
    "model.add(BatchNormalization())\n",
    "model.add(MaxPooling3D(pool_size=(2, 2, 2)))\n",
    "\n",
    "model.add(Conv3D(64, (2,2,2), padding='same'))\n",
    "model.add(Activation('relu'))\n",
    "model.add(BatchNormalization())\n",
    "model.add(MaxPooling3D(pool_size=(2,2,2)))\n",
    "\n",
    "model.add(Conv3D(128, (2,2,2), padding='same'))\n",
    "model.add(Activation('relu'))\n",
    "model.add(BatchNormalization())\n",
    "model.add(MaxPooling3D(pool_size=(2,2,2)))\n",
    "\n",
    "model.add(Flatten())\n",
    "model.add(Dense(64,activation='relu'))\n",
    "model.add(BatchNormalization())\n",
    "model.add(Dropout(0.5))\n",
    "\n",
    "model.add(Dense(64,activation='relu'))\n",
    "model.add(BatchNormalization())\n",
    "model.add(Dropout(0.5))\n",
    "\n",
    "model.add(Dense(5,activation='softmax'))"
   ]
  },
  {
   "cell_type": "code",
   "execution_count": 139,
   "metadata": {},
   "outputs": [
    {
     "name": "stdout",
     "output_type": "stream",
     "text": [
      "Model: \"sequential_15\"\n",
      "_________________________________________________________________\n",
      "Layer (type)                 Output Shape              Param #   \n",
      "=================================================================\n",
      "conv3d_53 (Conv3D)           (None, 30, 160, 160, 16)  1312      \n",
      "_________________________________________________________________\n",
      "activation_53 (Activation)   (None, 30, 160, 160, 16)  0         \n",
      "_________________________________________________________________\n",
      "batch_normalization_83 (Batc (None, 30, 160, 160, 16)  64        \n",
      "_________________________________________________________________\n",
      "max_pooling3d_53 (MaxPooling (None, 15, 80, 80, 16)    0         \n",
      "_________________________________________________________________\n",
      "conv3d_54 (Conv3D)           (None, 15, 80, 80, 32)    4128      \n",
      "_________________________________________________________________\n",
      "activation_54 (Activation)   (None, 15, 80, 80, 32)    0         \n",
      "_________________________________________________________________\n",
      "batch_normalization_84 (Batc (None, 15, 80, 80, 32)    128       \n",
      "_________________________________________________________________\n",
      "max_pooling3d_54 (MaxPooling (None, 7, 40, 40, 32)     0         \n",
      "_________________________________________________________________\n",
      "conv3d_55 (Conv3D)           (None, 7, 40, 40, 64)     16448     \n",
      "_________________________________________________________________\n",
      "activation_55 (Activation)   (None, 7, 40, 40, 64)     0         \n",
      "_________________________________________________________________\n",
      "batch_normalization_85 (Batc (None, 7, 40, 40, 64)     256       \n",
      "_________________________________________________________________\n",
      "max_pooling3d_55 (MaxPooling (None, 3, 20, 20, 64)     0         \n",
      "_________________________________________________________________\n",
      "conv3d_56 (Conv3D)           (None, 3, 20, 20, 128)    65664     \n",
      "_________________________________________________________________\n",
      "activation_56 (Activation)   (None, 3, 20, 20, 128)    0         \n",
      "_________________________________________________________________\n",
      "batch_normalization_86 (Batc (None, 3, 20, 20, 128)    512       \n",
      "_________________________________________________________________\n",
      "max_pooling3d_56 (MaxPooling (None, 1, 10, 10, 128)    0         \n",
      "_________________________________________________________________\n",
      "flatten_15 (Flatten)         (None, 12800)             0         \n",
      "_________________________________________________________________\n",
      "dense_45 (Dense)             (None, 64)                819264    \n",
      "_________________________________________________________________\n",
      "batch_normalization_87 (Batc (None, 64)                256       \n",
      "_________________________________________________________________\n",
      "dropout_30 (Dropout)         (None, 64)                0         \n",
      "_________________________________________________________________\n",
      "dense_46 (Dense)             (None, 64)                4160      \n",
      "_________________________________________________________________\n",
      "batch_normalization_88 (Batc (None, 64)                256       \n",
      "_________________________________________________________________\n",
      "dropout_31 (Dropout)         (None, 64)                0         \n",
      "_________________________________________________________________\n",
      "dense_47 (Dense)             (None, 5)                 325       \n",
      "=================================================================\n",
      "Total params: 912,773\n",
      "Trainable params: 912,037\n",
      "Non-trainable params: 736\n",
      "_________________________________________________________________\n",
      "None\n",
      "Initializing model checkpoints\n",
      "WARNING:tensorflow:`period` argument is deprecated. Please use `save_freq` to specify the frequency in number of batches seen.\n",
      "Calculating steps per epoch and validation steps\n"
     ]
    }
   ],
   "source": [
    "batch_size=32\n",
    "\n",
    "compile_and_summarize(0.0001)\n",
    "\n",
    "train_generator = generator(train_path, train_doc, batch_size)\n",
    "val_generator = generator(val_path, val_doc, batch_size)\n",
    "\n",
    "callbacks_list = model_checkpoints('model_init3')\n",
    "\n",
    "steps_per_epoch = calc_steps_per_epoch(batch_size)\n",
    "validation_steps = calc_validation_steps(batch_size)"
   ]
  },
  {
   "cell_type": "code",
   "execution_count": 140,
   "metadata": {},
   "outputs": [
    {
     "name": "stdout",
     "output_type": "stream",
     "text": [
      "Source path =  Project_data/train ; batch size = 32\n",
      "Epoch 1/20\n",
      "21/21 [==============================] - ETA: 0s - loss: 2.3958 - categorical_accuracy: 0.2459 Source path =  Project_data/val ; batch size = 32\n",
      "21/21 [==============================] - 609s 29s/step - loss: 2.3958 - categorical_accuracy: 0.2459 - val_loss: 1.7130 - val_categorical_accuracy: 0.2100\n",
      "\n",
      "Epoch 00001: saving model to model_init3_2021-10-2115_05_43.919926/model-00001-2.39578-0.24585-1.71303-0.21000.h5\n",
      "Epoch 2/20\n",
      "21/21 [==============================] - 612s 29s/step - loss: 1.8179 - categorical_accuracy: 0.3756 - val_loss: 2.1018 - val_categorical_accuracy: 0.2300\n",
      "\n",
      "Epoch 00002: saving model to model_init3_2021-10-2115_05_43.919926/model-00002-1.81787-0.37557-2.10177-0.23000.h5\n",
      "Epoch 3/20\n",
      "21/21 [==============================] - 610s 29s/step - loss: 1.6258 - categorical_accuracy: 0.4449 - val_loss: 2.7211 - val_categorical_accuracy: 0.2000\n",
      "\n",
      "Epoch 00003: saving model to model_init3_2021-10-2115_05_43.919926/model-00003-1.62579-0.44495-2.72115-0.20000.h5\n",
      "Epoch 4/20\n",
      "21/21 [==============================] - 606s 29s/step - loss: 1.4558 - categorical_accuracy: 0.5023 - val_loss: 3.1185 - val_categorical_accuracy: 0.2100\n",
      "\n",
      "Epoch 00004: saving model to model_init3_2021-10-2115_05_43.919926/model-00004-1.45577-0.50226-3.11853-0.21000.h5\n",
      "Epoch 5/20\n",
      "21/21 [==============================] - 609s 29s/step - loss: 1.3864 - categorical_accuracy: 0.5294 - val_loss: 3.5830 - val_categorical_accuracy: 0.1500\n",
      "\n",
      "Epoch 00005: saving model to model_init3_2021-10-2115_05_43.919926/model-00005-1.38643-0.52941-3.58302-0.15000.h5\n",
      "Epoch 6/20\n",
      "21/21 [==============================] - 608s 29s/step - loss: 1.3672 - categorical_accuracy: 0.4932 - val_loss: 4.1673 - val_categorical_accuracy: 0.2000\n",
      "\n",
      "Epoch 00006: saving model to model_init3_2021-10-2115_05_43.919926/model-00006-1.36718-0.49321-4.16730-0.20000.h5\n",
      "\n",
      "Epoch 00006: ReduceLROnPlateau reducing learning rate to 1.9999999494757503e-05.\n",
      "Epoch 7/20\n",
      "21/21 [==============================] - 607s 29s/step - loss: 1.1515 - categorical_accuracy: 0.5882 - val_loss: 4.4150 - val_categorical_accuracy: 0.2000\n",
      "\n",
      "Epoch 00007: saving model to model_init3_2021-10-2115_05_43.919926/model-00007-1.15148-0.58824-4.41501-0.20000.h5\n",
      "Epoch 8/20\n",
      "21/21 [==============================] - 605s 29s/step - loss: 1.2220 - categorical_accuracy: 0.5490 - val_loss: 4.7293 - val_categorical_accuracy: 0.1500\n",
      "\n",
      "Epoch 00008: saving model to model_init3_2021-10-2115_05_43.919926/model-00008-1.22198-0.54902-4.72934-0.15000.h5\n",
      "Epoch 9/20\n",
      "21/21 [==============================] - 619s 30s/step - loss: 1.1361 - categorical_accuracy: 0.5913 - val_loss: 4.8258 - val_categorical_accuracy: 0.1900\n",
      "\n",
      "Epoch 00009: saving model to model_init3_2021-10-2115_05_43.919926/model-00009-1.13607-0.59125-4.82585-0.19000.h5\n",
      "Epoch 10/20\n",
      "21/21 [==============================] - 606s 29s/step - loss: 1.1881 - categorical_accuracy: 0.5792 - val_loss: 5.1891 - val_categorical_accuracy: 0.1200\n",
      "\n",
      "Epoch 00010: saving model to model_init3_2021-10-2115_05_43.919926/model-00010-1.18813-0.57919-5.18907-0.12000.h5\n",
      "Epoch 11/20\n",
      "21/21 [==============================] - 608s 29s/step - loss: 1.0364 - categorical_accuracy: 0.6169 - val_loss: 5.0526 - val_categorical_accuracy: 0.1400\n",
      "\n",
      "Epoch 00011: saving model to model_init3_2021-10-2115_05_43.919926/model-00011-1.03640-0.61689-5.05258-0.14000.h5\n",
      "\n",
      "Epoch 00011: ReduceLROnPlateau reducing learning rate to 3.999999898951501e-06.\n",
      "Epoch 12/20\n",
      "21/21 [==============================] - 604s 29s/step - loss: 1.0294 - categorical_accuracy: 0.6320 - val_loss: 5.0276 - val_categorical_accuracy: 0.1600\n",
      "\n",
      "Epoch 00012: saving model to model_init3_2021-10-2115_05_43.919926/model-00012-1.02942-0.63198-5.02758-0.16000.h5\n",
      "Epoch 13/20\n",
      "21/21 [==============================] - 609s 29s/step - loss: 1.1046 - categorical_accuracy: 0.6109 - val_loss: 4.8709 - val_categorical_accuracy: 0.1900\n",
      "\n",
      "Epoch 00013: saving model to model_init3_2021-10-2115_05_43.919926/model-00013-1.10465-0.61086-4.87086-0.19000.h5\n",
      "Epoch 14/20\n",
      "21/21 [==============================] - 608s 29s/step - loss: 1.0922 - categorical_accuracy: 0.6259 - val_loss: 5.0142 - val_categorical_accuracy: 0.1800\n",
      "\n",
      "Epoch 00014: saving model to model_init3_2021-10-2115_05_43.919926/model-00014-1.09218-0.62594-5.01416-0.18000.h5\n",
      "Epoch 15/20\n",
      "21/21 [==============================] - 610s 29s/step - loss: 1.0751 - categorical_accuracy: 0.6018 - val_loss: 4.6531 - val_categorical_accuracy: 0.2000\n",
      "\n",
      "Epoch 00015: saving model to model_init3_2021-10-2115_05_43.919926/model-00015-1.07513-0.60181-4.65314-0.20000.h5\n",
      "Epoch 16/20\n",
      "21/21 [==============================] - 604s 29s/step - loss: 1.1330 - categorical_accuracy: 0.5928 - val_loss: 4.1964 - val_categorical_accuracy: 0.2400\n",
      "\n",
      "Epoch 00016: saving model to model_init3_2021-10-2115_05_43.919926/model-00016-1.13300-0.59276-4.19637-0.24000.h5\n",
      "\n",
      "Epoch 00016: ReduceLROnPlateau reducing learning rate to 7.999999979801942e-07.\n",
      "Epoch 17/20\n",
      "21/21 [==============================] - 604s 29s/step - loss: 1.1317 - categorical_accuracy: 0.6063 - val_loss: 3.9975 - val_categorical_accuracy: 0.2300\n",
      "\n",
      "Epoch 00017: saving model to model_init3_2021-10-2115_05_43.919926/model-00017-1.13168-0.60633-3.99746-0.23000.h5\n",
      "Epoch 18/20\n",
      "21/21 [==============================] - 608s 29s/step - loss: 1.1308 - categorical_accuracy: 0.5822 - val_loss: 3.4472 - val_categorical_accuracy: 0.2700\n",
      "\n",
      "Epoch 00018: saving model to model_init3_2021-10-2115_05_43.919926/model-00018-1.13075-0.58220-3.44717-0.27000.h5\n",
      "Epoch 19/20\n",
      "21/21 [==============================] - 605s 29s/step - loss: 1.1062 - categorical_accuracy: 0.6365 - val_loss: 3.0517 - val_categorical_accuracy: 0.3100\n",
      "\n",
      "Epoch 00019: saving model to model_init3_2021-10-2115_05_43.919926/model-00019-1.10621-0.63650-3.05171-0.31000.h5\n",
      "Epoch 20/20\n",
      "21/21 [==============================] - 605s 29s/step - loss: 1.1179 - categorical_accuracy: 0.5928 - val_loss: 2.9550 - val_categorical_accuracy: 0.2900\n",
      "\n",
      "Epoch 00020: saving model to model_init3_2021-10-2115_05_43.919926/model-00020-1.11793-0.59276-2.95499-0.29000.h5\n"
     ]
    }
   ],
   "source": [
    "history3 = model.fit_generator(train_generator, steps_per_epoch=steps_per_epoch, epochs=num_epochs, verbose=1, \n",
    "                    callbacks=callbacks_list, validation_data=val_generator, \n",
    "                    validation_steps=validation_steps, class_weight=None, workers=1, initial_epoch=0)"
   ]
  },
  {
   "cell_type": "code",
   "execution_count": 141,
   "metadata": {},
   "outputs": [
    {
     "data": {
      "image/png": "[encoded data removed]",
      "text/plain": [
       "<Figure size 1080x288 with 2 Axes>"
      ]
     },
     "metadata": {
      "needs_background": "light"
     },
     "output_type": "display_data"
    }
   ],
   "source": [
    "train_val_loss_plot(history3)"
   ]
  },
  {
   "cell_type": "markdown",
   "metadata": {},
   "source": [
    "<font color ='blue'> The model is still performing badly on the validation set. The training accuracy is also not high.</font>"
   ]
  },
  {
   "cell_type": "markdown",
   "metadata": {},
   "source": [
    "# Model 4"
   ]
  },
  {
   "cell_type": "code",
   "execution_count": 152,
   "metadata": {},
   "outputs": [],
   "source": [
    "# Conv3D model4\n",
    "model = Sequential()\n",
    "model.add(Conv3D(16, (3,3,3), # filters, kernel size\n",
    "                 padding = 'same', \n",
    "                 input_shape = (30,160,160,3))) #frames to sample, height, weight, channels\n",
    "model.add(Activation('relu'))\n",
    "model.add(BatchNormalization())\n",
    "model.add(MaxPooling3D(pool_size=(2,2,2)))\n",
    "\n",
    "model.add(Conv3D(32, (2,2,2), padding='same'))\n",
    "model.add(Activation('relu'))\n",
    "model.add(BatchNormalization())\n",
    "model.add(MaxPooling3D(pool_size=(2, 2, 2)))\n",
    "\n",
    "model.add(Conv3D(64, (2,2,2), padding='same'))\n",
    "model.add(Activation('relu'))\n",
    "model.add(BatchNormalization())\n",
    "model.add(MaxPooling3D(pool_size=(2,2,2)))\n",
    "\n",
    "model.add(Conv3D(128, (2,2,2), padding='same'))\n",
    "model.add(Activation('relu'))\n",
    "model.add(BatchNormalization())\n",
    "\n",
    "model.add(Conv3D(256, (2,2,2), padding='same'))\n",
    "model.add(Activation('relu'))\n",
    "model.add(BatchNormalization())\n",
    "\n",
    "model.add(MaxPooling3D(pool_size=(2,2,2)))\n",
    "\n",
    "model.add(Flatten())\n",
    "model.add(Dense(128,activation='relu'))\n",
    "model.add(BatchNormalization())\n",
    "model.add(Dropout(0.6))\n",
    "\n",
    "model.add(Dense(128,activation='relu'))\n",
    "model.add(BatchNormalization())\n",
    "model.add(Dropout(0.6))\n",
    "\n",
    "model.add(Dense(5,activation='softmax'))"
   ]
  },
  {
   "cell_type": "code",
   "execution_count": 155,
   "metadata": {},
   "outputs": [
    {
     "name": "stdout",
     "output_type": "stream",
     "text": [
      "Model: \"sequential_24\"\n",
      "_________________________________________________________________\n",
      "Layer (type)                 Output Shape              Param #   \n",
      "=================================================================\n",
      "conv3d_96 (Conv3D)           (None, 30, 160, 160, 16)  1312      \n",
      "_________________________________________________________________\n",
      "activation_96 (Activation)   (None, 30, 160, 160, 16)  0         \n",
      "_________________________________________________________________\n",
      "batch_normalization_132 (Bat (None, 30, 160, 160, 16)  64        \n",
      "_________________________________________________________________\n",
      "max_pooling3d_95 (MaxPooling (None, 15, 80, 80, 16)    0         \n",
      "_________________________________________________________________\n",
      "conv3d_97 (Conv3D)           (None, 15, 80, 80, 32)    4128      \n",
      "_________________________________________________________________\n",
      "activation_97 (Activation)   (None, 15, 80, 80, 32)    0         \n",
      "_________________________________________________________________\n",
      "batch_normalization_133 (Bat (None, 15, 80, 80, 32)    128       \n",
      "_________________________________________________________________\n",
      "max_pooling3d_96 (MaxPooling (None, 7, 40, 40, 32)     0         \n",
      "_________________________________________________________________\n",
      "conv3d_98 (Conv3D)           (None, 7, 40, 40, 64)     16448     \n",
      "_________________________________________________________________\n",
      "activation_98 (Activation)   (None, 7, 40, 40, 64)     0         \n",
      "_________________________________________________________________\n",
      "batch_normalization_134 (Bat (None, 7, 40, 40, 64)     256       \n",
      "_________________________________________________________________\n",
      "max_pooling3d_97 (MaxPooling (None, 3, 20, 20, 64)     0         \n",
      "_________________________________________________________________\n",
      "conv3d_99 (Conv3D)           (None, 3, 20, 20, 128)    65664     \n",
      "_________________________________________________________________\n",
      "activation_99 (Activation)   (None, 3, 20, 20, 128)    0         \n",
      "_________________________________________________________________\n",
      "batch_normalization_135 (Bat (None, 3, 20, 20, 128)    512       \n",
      "_________________________________________________________________\n",
      "conv3d_100 (Conv3D)          (None, 3, 20, 20, 256)    262400    \n",
      "_________________________________________________________________\n",
      "activation_100 (Activation)  (None, 3, 20, 20, 256)    0         \n",
      "_________________________________________________________________\n",
      "batch_normalization_136 (Bat (None, 3, 20, 20, 256)    1024      \n",
      "_________________________________________________________________\n",
      "max_pooling3d_98 (MaxPooling (None, 1, 10, 10, 256)    0         \n",
      "_________________________________________________________________\n",
      "flatten_18 (Flatten)         (None, 25600)             0         \n",
      "_________________________________________________________________\n",
      "dense_54 (Dense)             (None, 128)               3276928   \n",
      "_________________________________________________________________\n",
      "batch_normalization_137 (Bat (None, 128)               512       \n",
      "_________________________________________________________________\n",
      "dropout_36 (Dropout)         (None, 128)               0         \n",
      "_________________________________________________________________\n",
      "dense_55 (Dense)             (None, 128)               16512     \n",
      "_________________________________________________________________\n",
      "batch_normalization_138 (Bat (None, 128)               512       \n",
      "_________________________________________________________________\n",
      "dropout_37 (Dropout)         (None, 128)               0         \n",
      "_________________________________________________________________\n",
      "dense_56 (Dense)             (None, 5)                 645       \n",
      "=================================================================\n",
      "Total params: 3,647,045\n",
      "Trainable params: 3,645,541\n",
      "Non-trainable params: 1,504\n",
      "_________________________________________________________________\n",
      "None\n",
      "Initializing model checkpoints\n",
      "WARNING:tensorflow:`period` argument is deprecated. Please use `save_freq` to specify the frequency in number of batches seen.\n",
      "Calculating steps per epoch and validation steps\n"
     ]
    }
   ],
   "source": [
    "batch_size=32\n",
    "num_epochs=30\n",
    "\n",
    "compile_and_summarize(0.0002)\n",
    "\n",
    "train_generator = generator(train_path, train_doc, batch_size)\n",
    "val_generator = generator(val_path, val_doc, batch_size)\n",
    "\n",
    "callbacks_list = model_checkpoints('model_init4')\n",
    "\n",
    "steps_per_epoch = calc_steps_per_epoch(batch_size)\n",
    "validation_steps = calc_validation_steps(batch_size)"
   ]
  },
  {
   "cell_type": "code",
   "execution_count": 156,
   "metadata": {},
   "outputs": [
    {
     "name": "stdout",
     "output_type": "stream",
     "text": [
      "Source path =  Project_data/train ; batch size = 32\n",
      "Epoch 1/30\n",
      "21/21 [==============================] - ETA: 0s - loss: 2.2562 - categorical_accuracy: 0.3303 Source path =  Project_data/val ; batch size = 32\n",
      "21/21 [==============================] - 611s 29s/step - loss: 2.2562 - categorical_accuracy: 0.3303 - val_loss: 1.7635 - val_categorical_accuracy: 0.2000\n",
      "\n",
      "Epoch 00001: saving model to model_init4_2021-10-2115_05_43.919926/model-00001-2.25617-0.33032-1.76349-0.20000.h5\n",
      "Epoch 2/30\n",
      "21/21 [==============================] - 597s 28s/step - loss: 1.6600 - categorical_accuracy: 0.4646 - val_loss: 1.9659 - val_categorical_accuracy: 0.2400\n",
      "\n",
      "Epoch 00002: saving model to model_init4_2021-10-2115_05_43.919926/model-00002-1.65996-0.46456-1.96589-0.24000.h5\n",
      "Epoch 3/30\n",
      "21/21 [==============================] - 596s 28s/step - loss: 1.5320 - categorical_accuracy: 0.5189 - val_loss: 2.2967 - val_categorical_accuracy: 0.1100\n",
      "\n",
      "Epoch 00003: saving model to model_init4_2021-10-2115_05_43.919926/model-00003-1.53201-0.51885-2.29666-0.11000.h5\n",
      "Epoch 4/30\n",
      "21/21 [==============================] - 593s 28s/step - loss: 1.2501 - categorical_accuracy: 0.5716 - val_loss: 2.6704 - val_categorical_accuracy: 0.1600\n",
      "\n",
      "Epoch 00004: saving model to model_init4_2021-10-2115_05_43.919926/model-00004-1.25009-0.57164-2.67042-0.16000.h5\n",
      "Epoch 5/30\n",
      "21/21 [==============================] - 593s 28s/step - loss: 1.1376 - categorical_accuracy: 0.5943 - val_loss: 3.1627 - val_categorical_accuracy: 0.2200\n",
      "\n",
      "Epoch 00005: saving model to model_init4_2021-10-2115_05_43.919926/model-00005-1.13760-0.59427-3.16267-0.22000.h5\n",
      "Epoch 6/30\n",
      "21/21 [==============================] - 596s 28s/step - loss: 1.1145 - categorical_accuracy: 0.6290 - val_loss: 3.3352 - val_categorical_accuracy: 0.3300\n",
      "\n",
      "Epoch 00006: saving model to model_init4_2021-10-2115_05_43.919926/model-00006-1.11453-0.62896-3.33522-0.33000.h5\n",
      "\n",
      "Epoch 00006: ReduceLROnPlateau reducing learning rate to 3.9999998989515007e-05.\n",
      "Epoch 7/30\n",
      "21/21 [==============================] - 594s 28s/step - loss: 0.9013 - categorical_accuracy: 0.6667 - val_loss: 3.8773 - val_categorical_accuracy: 0.1300\n",
      "\n",
      "Epoch 00007: saving model to model_init4_2021-10-2115_05_43.919926/model-00007-0.90133-0.66667-3.87725-0.13000.h5\n",
      "Epoch 8/30\n",
      "21/21 [==============================] - 593s 28s/step - loss: 0.9807 - categorical_accuracy: 0.6697 - val_loss: 3.9707 - val_categorical_accuracy: 0.2000\n",
      "\n",
      "Epoch 00008: saving model to model_init4_2021-10-2115_05_43.919926/model-00008-0.98075-0.66968-3.97069-0.20000.h5\n",
      "Epoch 9/30\n",
      "21/21 [==============================] - 593s 28s/step - loss: 0.9531 - categorical_accuracy: 0.6923 - val_loss: 4.1254 - val_categorical_accuracy: 0.2900\n",
      "\n",
      "Epoch 00009: saving model to model_init4_2021-10-2115_05_43.919926/model-00009-0.95312-0.69231-4.12542-0.29000.h5\n",
      "Epoch 10/30\n",
      "21/21 [==============================] - 596s 28s/step - loss: 0.9441 - categorical_accuracy: 0.6968 - val_loss: 4.3030 - val_categorical_accuracy: 0.2500\n",
      "\n",
      "Epoch 00010: saving model to model_init4_2021-10-2115_05_43.919926/model-00010-0.94414-0.69683-4.30297-0.25000.h5\n",
      "Epoch 11/30\n",
      "21/21 [==============================] - 601s 29s/step - loss: 0.9111 - categorical_accuracy: 0.6998 - val_loss: 4.1122 - val_categorical_accuracy: 0.3500\n",
      "\n",
      "Epoch 00011: saving model to model_init4_2021-10-2115_05_43.919926/model-00011-0.91108-0.69985-4.11215-0.35000.h5\n",
      "\n",
      "Epoch 00011: ReduceLROnPlateau reducing learning rate to 7.999999797903002e-06.\n",
      "Epoch 12/30\n",
      "21/21 [==============================] - 597s 28s/step - loss: 0.8841 - categorical_accuracy: 0.7044 - val_loss: 4.3717 - val_categorical_accuracy: 0.2900\n",
      "\n",
      "Epoch 00012: saving model to model_init4_2021-10-2115_05_43.919926/model-00012-0.88415-0.70437-4.37170-0.29000.h5\n",
      "Epoch 13/30\n",
      "21/21 [==============================] - 597s 28s/step - loss: 0.8946 - categorical_accuracy: 0.6908 - val_loss: 4.4215 - val_categorical_accuracy: 0.2900\n",
      "\n",
      "Epoch 00013: saving model to model_init4_2021-10-2115_05_43.919926/model-00013-0.89460-0.69080-4.42147-0.29000.h5\n",
      "Epoch 14/30\n",
      "21/21 [==============================] - 601s 29s/step - loss: 0.8873 - categorical_accuracy: 0.7225 - val_loss: 4.3052 - val_categorical_accuracy: 0.3100\n",
      "\n",
      "Epoch 00014: saving model to model_init4_2021-10-2115_05_43.919926/model-00014-0.88731-0.72247-4.30523-0.31000.h5\n",
      "Epoch 15/30\n",
      "21/21 [==============================] - 599s 29s/step - loss: 0.8375 - categorical_accuracy: 0.6983 - val_loss: 4.0855 - val_categorical_accuracy: 0.2800\n",
      "\n",
      "Epoch 00015: saving model to model_init4_2021-10-2115_05_43.919926/model-00015-0.83753-0.69834-4.08547-0.28000.h5\n",
      "Epoch 16/30\n",
      "21/21 [==============================] - 595s 28s/step - loss: 0.7880 - categorical_accuracy: 0.7240 - val_loss: 4.1090 - val_categorical_accuracy: 0.2700\n",
      "\n",
      "Epoch 00016: saving model to model_init4_2021-10-2115_05_43.919926/model-00016-0.78801-0.72398-4.10898-0.27000.h5\n",
      "\n",
      "Epoch 00016: ReduceLROnPlateau reducing learning rate to 1.5999999959603884e-06.\n",
      "Epoch 17/30\n",
      "21/21 [==============================] - 597s 28s/step - loss: 0.8029 - categorical_accuracy: 0.7466 - val_loss: 3.9372 - val_categorical_accuracy: 0.2800\n",
      "\n",
      "Epoch 00017: saving model to model_init4_2021-10-2115_05_43.919926/model-00017-0.80287-0.74661-3.93724-0.28000.h5\n",
      "Epoch 18/30\n",
      "21/21 [==============================] - 599s 29s/step - loss: 0.7679 - categorical_accuracy: 0.7345 - val_loss: 3.5951 - val_categorical_accuracy: 0.2900\n",
      "\n",
      "Epoch 00018: saving model to model_init4_2021-10-2115_05_43.919926/model-00018-0.76794-0.73454-3.59507-0.29000.h5\n",
      "Epoch 19/30\n",
      "21/21 [==============================] - 599s 29s/step - loss: 0.8599 - categorical_accuracy: 0.7074 - val_loss: 3.2581 - val_categorical_accuracy: 0.3500\n",
      "\n",
      "Epoch 00019: saving model to model_init4_2021-10-2115_05_43.919926/model-00019-0.85985-0.70739-3.25813-0.35000.h5\n",
      "Epoch 20/30\n",
      "21/21 [==============================] - 594s 28s/step - loss: 0.8611 - categorical_accuracy: 0.7014 - val_loss: 3.1310 - val_categorical_accuracy: 0.3300\n",
      "\n",
      "Epoch 00020: saving model to model_init4_2021-10-2115_05_43.919926/model-00020-0.86113-0.70136-3.13101-0.33000.h5\n",
      "Epoch 21/30\n",
      "21/21 [==============================] - 596s 28s/step - loss: 0.8490 - categorical_accuracy: 0.7059 - val_loss: 2.8197 - val_categorical_accuracy: 0.3200\n",
      "\n",
      "Epoch 00021: saving model to model_init4_2021-10-2115_05_43.919926/model-00021-0.84900-0.70588-2.81967-0.32000.h5\n",
      "\n",
      "Epoch 00021: ReduceLROnPlateau reducing learning rate to 3.200000037395512e-07.\n",
      "Epoch 22/30\n",
      "21/21 [==============================] - 599s 29s/step - loss: 0.8174 - categorical_accuracy: 0.7119 - val_loss: 2.2661 - val_categorical_accuracy: 0.3900\n",
      "\n",
      "Epoch 00022: saving model to model_init4_2021-10-2115_05_43.919926/model-00022-0.81740-0.71192-2.26607-0.39000.h5\n",
      "Epoch 23/30\n",
      "21/21 [==============================] - 600s 29s/step - loss: 0.7798 - categorical_accuracy: 0.7179 - val_loss: 2.3928 - val_categorical_accuracy: 0.3700\n",
      "\n",
      "Epoch 00023: saving model to model_init4_2021-10-2115_05_43.919926/model-00023-0.77980-0.71795-2.39278-0.37000.h5\n",
      "Epoch 24/30\n",
      "21/21 [==============================] - 593s 28s/step - loss: 0.8078 - categorical_accuracy: 0.7496 - val_loss: 2.0609 - val_categorical_accuracy: 0.3700\n",
      "\n",
      "Epoch 00024: saving model to model_init4_2021-10-2115_05_43.919926/model-00024-0.80776-0.74962-2.06089-0.37000.h5\n",
      "Epoch 25/30\n",
      "21/21 [==============================] - 597s 28s/step - loss: 0.7317 - categorical_accuracy: 0.7496 - val_loss: 1.7981 - val_categorical_accuracy: 0.4300\n",
      "\n",
      "Epoch 00025: saving model to model_init4_2021-10-2115_05_43.919926/model-00025-0.73168-0.74962-1.79815-0.43000.h5\n",
      "Epoch 26/30\n",
      "21/21 [==============================] - 599s 29s/step - loss: 0.8328 - categorical_accuracy: 0.7225 - val_loss: 1.6011 - val_categorical_accuracy: 0.4400\n",
      "\n",
      "Epoch 00026: saving model to model_init4_2021-10-2115_05_43.919926/model-00026-0.83280-0.72247-1.60113-0.44000.h5\n",
      "Epoch 27/30\n",
      "21/21 [==============================] - 600s 29s/step - loss: 0.7962 - categorical_accuracy: 0.7376 - val_loss: 1.3732 - val_categorical_accuracy: 0.4400\n",
      "\n",
      "Epoch 00027: saving model to model_init4_2021-10-2115_05_43.919926/model-00027-0.79618-0.73756-1.37318-0.44000.h5\n",
      "Epoch 28/30\n"
     ]
    },
    {
     "name": "stdout",
     "output_type": "stream",
     "text": [
      "21/21 [==============================] - 594s 28s/step - loss: 0.8536 - categorical_accuracy: 0.7104 - val_loss: 1.1523 - val_categorical_accuracy: 0.5100\n",
      "\n",
      "Epoch 00028: saving model to model_init4_2021-10-2115_05_43.919926/model-00028-0.85360-0.71041-1.15225-0.51000.h5\n",
      "Epoch 29/30\n",
      "21/21 [==============================] - 598s 29s/step - loss: 0.8450 - categorical_accuracy: 0.6923 - val_loss: 1.0039 - val_categorical_accuracy: 0.6000\n",
      "\n",
      "Epoch 00029: saving model to model_init4_2021-10-2115_05_43.919926/model-00029-0.84504-0.69231-1.00394-0.60000.h5\n",
      "Epoch 30/30\n",
      "21/21 [==============================] - 601s 29s/step - loss: 0.8374 - categorical_accuracy: 0.7134 - val_loss: 1.0870 - val_categorical_accuracy: 0.5800\n",
      "\n",
      "Epoch 00030: saving model to model_init4_2021-10-2115_05_43.919926/model-00030-0.83738-0.71342-1.08697-0.58000.h5\n"
     ]
    }
   ],
   "source": [
    "history4 = model.fit_generator(train_generator, steps_per_epoch=steps_per_epoch, epochs=num_epochs, verbose=1, \n",
    "                    callbacks=callbacks_list, validation_data=val_generator, \n",
    "                    validation_steps=validation_steps, class_weight=None, workers=1, initial_epoch=0)"
   ]
  },
  {
   "cell_type": "code",
   "execution_count": 157,
   "metadata": {},
   "outputs": [
    {
     "data": {
      "image/png": "[encoded data removed]",
      "text/plain": [
       "<Figure size 1080x288 with 2 Axes>"
      ]
     },
     "metadata": {
      "needs_background": "light"
     },
     "output_type": "display_data"
    }
   ],
   "source": [
    "train_val_loss_plot(history4)"
   ]
  },
  {
   "cell_type": "code",
   "execution_count": null,
   "metadata": {},
   "outputs": [],
   "source": []
  }
 ],
 "metadata": {
  "kernelspec": {
   "display_name": "Python 3 (ipykernel)",
   "language": "python",
   "name": "python3"
  },
  "language_info": {
   "codemirror_mode": {
    "name": "ipython",
    "version": 3
   },
   "file_extension": ".py",
   "mimetype": "text/x-python",
   "name": "python",
   "nbconvert_exporter": "python",
   "pygments_lexer": "ipython3",
   "version": "3.9.5"
  }
 },
 "nbformat": 4,
 "nbformat_minor": 2
}
